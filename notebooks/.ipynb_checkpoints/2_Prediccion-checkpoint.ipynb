{
 "cells": [
  {
   "cell_type": "markdown",
   "metadata": {},
   "source": [
    "## L4-Land value\n",
    "\n",
    "# 2_ Prediction Notebook\n",
    "\n"
   ]
  },
  {
   "cell_type": "code",
   "execution_count": 6,
   "metadata": {},
   "outputs": [],
   "source": [
    "import os\n",
    "import glob\n",
    "from tqdm import tqdm\n",
    "import subprocess\n",
    "from unetseg.predict import PredictConfig, predict\n",
    "from unetseg.evaluate import plot_data_results\n",
    "from satproc.postprocess.polygonize import polygonize \n",
    "from satproc.filter import filter_by_max_prob\n",
    "from shapely.geometry import shape\n",
    "from scipy import stats\n",
    "import fiona\n",
    "import rasterio\n",
    "import operator\n",
    "from shapely.geometry import box\n",
    "import tifffile as tiff\n",
    "from skimage.transform import resize\n",
    "from sklearn.preprocessing import minmax_scale\n",
    "import matplotlib.pyplot as plt\n",
    "import random\n",
    "import numpy as np"
   ]
  },
  {
   "cell_type": "markdown",
   "metadata": {},
   "source": [
    "### **Variables statement**"
   ]
  },
  {
   "cell_type": "code",
   "execution_count": null,
   "metadata": {},
   "outputs": [],
   "source": [
    "#General\n",
    "ZONE = \"SULA\"\n",
    "RESO = \"LOCAL\"\n",
    "PROYECT=\"land_value\"\n",
    "#Paths\n",
    "BASE_PATH = \"./..\"\n",
    "PATH_TRAIN_IMAGES = f'{BASE_PATH}/images/{ZONE}/{RESO}/{EVENTO}/'\n",
    "\n",
    "\n",
    "if RESO=='LOCAL':\n",
    "    #Satproc\n",
    "    SIZE=256\n",
    "    STEP_SIZE=60 #144 for Sula\n",
    "    #Unet\n",
    "    INPUT_SIZE=256\n",
    "    RESCALE_MODE = \"percentiles --lower-cut 0 --upper-cut 100\"\n",
    "if RESO=='GLOBAL':\n",
    "    #Satproc\n",
    "    SIZE=160\n",
    "    STEP_SIZE= 40   #60 for Sula\n",
    "    #Unet\n",
    "    INPUT_SIZE=160\n",
    "    RESCALE_MODE = \"percentiles --lower-cut 0 --upper-cut 100\"\n",
    "\n",
    "if ZONE==\"SULA\":\n",
    "   \n",
    "    EVENTO=\"moderado\"\n",
    "    PATH_PREDICT_IMAGES = f'{BASE_PATH}/images/{ZONE}/{RESO}/{EVENTO}/'\n",
    "    #Satproc\n",
    "    AOI='./../data/shp/gt/SULA/LOCAL/aoi_c.geojson' #The area was divided in 3 aoi (a,b,c) \n",
    "    #unet\n",
    "    N_CHANNELS=8\n",
    "    N_CLASSES = 9\n",
    "    CLASS_WEIGHT = [0.2,0.2,0.15,0.1,0.05,0.05,0.05,0.15,0.05]\n",
    "    STEP_PER_EPOCH = #depends on the images number\n",
    "    VERSION='v1' \n",
    "    MODEL_NAME = f'UNet_{PROYECT}_{ZONE}_{RESO}_{EVENTO}_{INPUT_SIZE}x{INPUT_SIZE}_{str(SIZE)}_{str(STEP_SIZE)}_spe{str(STEP_PER_EPOCH)}_{N_CHANNELS}N_{N_CLASSES}classes_{VERSION}.h5'\n",
    "\n",
    "if ZONE=='TEGU':\n",
    "    #Path\n",
    "    PATH_PREDICT_IMAGES = f'{BASE_PATH}/images/{ZONE}/{RESO}/'\n",
    "    #unet\n",
    "    N_CHANNELS=8\n",
    "    N_CLASSES = 12\n",
    "    CLASS_WEIGHT = [0.1,0.1,0.1,0.06,0.06,0.06,0.04,0.04,0.15,0.1,0.04,0.15]\n",
    "    STEP_PER_EPOCH = #depends on the images number\n",
    "    VERSION='v1'  #v2 for global model\n",
    "    MODEL_NAME = f'UNet_{PROYECT}_{ZONE}_{RESO}_{INPUT_SIZE}x{INPUT_SIZE}_{str(SIZE)}_{str(STEP_SIZE)}_spe{str(STEP_PER_EPOCH)}_{N_CHANNELS}N_{N_CLASSES}classes_{VERSION}.h5'"
   ]
  },
  {
   "cell_type": "markdown",
   "metadata": {},
   "source": [
    "\n",
    "\n",
    "## Prediction dataset generation"
   ]
  },
  {
   "cell_type": "markdown",
   "metadata": {},
   "source": [
    "### Satproc\n",
    "\n",
    "This tool is also used to generate the predict dataset which only has images.\n",
    "\n",
    "We define the predict dataset and the prediction images paths"
   ]
  },
  {
   "cell_type": "code",
   "execution_count": 1,
   "metadata": {
    "collapsed": true,
    "jupyter": {
     "outputs_hidden": true
    },
    "tags": []
   },
   "outputs": [
    {
     "ename": "NameError",
     "evalue": "name 'SIZE' is not defined",
     "output_type": "error",
     "traceback": [
      "\u001b[0;31m---------------------------------------------------------------------------\u001b[0m",
      "\u001b[0;31mNameError\u001b[0m                                 Traceback (most recent call last)",
      "\u001b[0;32m/tmp/ipykernel_200/2537621721.py\u001b[0m in \u001b[0;36m<module>\u001b[0;34m\u001b[0m\n\u001b[0;32m----> 1\u001b[0;31m \u001b[0msize\u001b[0m \u001b[0;34m=\u001b[0m \u001b[0mSIZE\u001b[0m\u001b[0;34m\u001b[0m\u001b[0;34m\u001b[0m\u001b[0m\n\u001b[0m\u001b[1;32m      2\u001b[0m \u001b[0mstep_size\u001b[0m \u001b[0;34m=\u001b[0m \u001b[0mSTEP_SIZE\u001b[0m\u001b[0;34m\u001b[0m\u001b[0;34m\u001b[0m\u001b[0m\n\u001b[1;32m      3\u001b[0m \u001b[0mpath_to_files\u001b[0m         \u001b[0;34m=\u001b[0m \u001b[0;34mf'{PATH_PREDICT_IMAGES}*.tif'\u001b[0m\u001b[0;34m\u001b[0m\u001b[0;34m\u001b[0m\u001b[0m\n\u001b[1;32m      4\u001b[0m \u001b[0mpredict_output_folder\u001b[0m \u001b[0;34m=\u001b[0m \u001b[0;34mf'{BASE_PATH}/dataset/data_predict/{ZONE}/{RESO}/{VERSION}/SMOOTH/'\u001b[0m\u001b[0;34m+\u001b[0m\u001b[0mstr\u001b[0m\u001b[0;34m(\u001b[0m\u001b[0msize\u001b[0m\u001b[0;34m)\u001b[0m\u001b[0;34m+\u001b[0m\u001b[0;34m'_'\u001b[0m\u001b[0;34m+\u001b[0m\u001b[0mstr\u001b[0m\u001b[0;34m(\u001b[0m\u001b[0mstep_size\u001b[0m\u001b[0;34m)\u001b[0m \u001b[0;31m#carpeta de destino del dataset\u001b[0m\u001b[0;34m\u001b[0m\u001b[0;34m\u001b[0m\u001b[0m\n",
      "\u001b[0;31mNameError\u001b[0m: name 'SIZE' is not defined"
     ]
    }
   ],
   "source": [
    "size = SIZE\n",
    "step_size = STEP_SIZE\n",
    "path_to_files         = f'{PATH_PREDICT_IMAGES}*.tif'\n",
    "predict_output_folder = f'{BASE_PATH}/dataset/data_predict/{ZONE}/{RESO}/{VERSION}/SMOOTH/'+str(size)+'_'+str(step_size) #carpeta de destino del dataset"
   ]
  },
  {
   "cell_type": "code",
   "execution_count": 12,
   "metadata": {
    "scrolled": true,
    "tags": []
   },
   "outputs": [
    {
     "name": "stdout",
     "output_type": "stream",
     "text": [
      "Rasters:   0%|                                            | 0/1 [00:00<?, ?it/s]\n",
      "dataset_L4_sula_local_moderado_epsg4326.tif windows:   0%| | 0/2133 [00:00<?, ?i\u001b[A\n",
      "dataset_L4_sula_local_moderado_epsg4326.tif windows:   0%| | 1/2133 [00:00<14:17\u001b[A\n",
      "dataset_L4_sula_local_moderado_epsg4326.tif windows:   0%| | 3/2133 [00:00<05:41\u001b[A\n",
      "dataset_L4_sula_local_moderado_epsg4326.tif windows:   0%| | 5/2133 [00:00<04:10\u001b[A\n",
      "dataset_L4_sula_local_moderado_epsg4326.tif windows:   0%| | 7/2133 [00:00<03:29\u001b[A\n",
      "dataset_L4_sula_local_moderado_epsg4326.tif windows:   0%| | 9/2133 [00:00<03:06\u001b[A\n",
      "dataset_L4_sula_local_moderado_epsg4326.tif windows:   1%| | 11/2133 [00:01<02:4\u001b[A\n",
      "dataset_L4_sula_local_moderado_epsg4326.tif windows:   1%| | 13/2133 [00:01<02:3\u001b[A\n",
      "dataset_L4_sula_local_moderado_epsg4326.tif windows:   1%| | 15/2133 [00:01<02:3\u001b[A\n",
      "dataset_L4_sula_local_moderado_epsg4326.tif windows:   1%| | 17/2133 [00:01<02:3\u001b[A\n",
      "dataset_L4_sula_local_moderado_epsg4326.tif windows:   1%| | 19/2133 [00:01<02:2\u001b[A\n",
      "dataset_L4_sula_local_moderado_epsg4326.tif windows:   1%| | 21/2133 [00:01<02:1\u001b[A\n",
      "dataset_L4_sula_local_moderado_epsg4326.tif windows:   1%| | 23/2133 [00:01<02:1\u001b[A\n",
      "dataset_L4_sula_local_moderado_epsg4326.tif windows:   1%| | 25/2133 [00:02<02:1\u001b[A\n",
      "dataset_L4_sula_local_moderado_epsg4326.tif windows:   1%| | 27/2133 [00:02<02:1\u001b[A\n",
      "dataset_L4_sula_local_moderado_epsg4326.tif windows:   1%| | 29/2133 [00:02<02:1\u001b[A\n",
      "dataset_L4_sula_local_moderado_epsg4326.tif windows:   1%| | 31/2133 [00:02<02:1\u001b[A\n",
      "dataset_L4_sula_local_moderado_epsg4326.tif windows:   2%| | 33/2133 [00:02<02:1\u001b[A\n",
      "dataset_L4_sula_local_moderado_epsg4326.tif windows:   2%| | 35/2133 [00:02<02:1\u001b[A\n",
      "dataset_L4_sula_local_moderado_epsg4326.tif windows:   2%| | 37/2133 [00:02<02:1\u001b[A\n",
      "dataset_L4_sula_local_moderado_epsg4326.tif windows:   2%| | 39/2133 [00:02<02:1\u001b[A\n",
      "dataset_L4_sula_local_moderado_epsg4326.tif windows:   2%| | 41/2133 [00:03<02:1\u001b[A\n",
      "dataset_L4_sula_local_moderado_epsg4326.tif windows:   2%| | 43/2133 [00:03<02:1\u001b[A\n",
      "dataset_L4_sula_local_moderado_epsg4326.tif windows:   2%| | 45/2133 [00:03<02:1\u001b[A\n",
      "dataset_L4_sula_local_moderado_epsg4326.tif windows:   2%| | 47/2133 [00:03<02:1\u001b[A\n",
      "dataset_L4_sula_local_moderado_epsg4326.tif windows:   2%| | 49/2133 [00:03<02:1\u001b[A\n",
      "dataset_L4_sula_local_moderado_epsg4326.tif windows:   2%| | 51/2133 [00:03<02:1\u001b[A\n",
      "dataset_L4_sula_local_moderado_epsg4326.tif windows:   2%| | 53/2133 [00:03<02:1\u001b[A\n",
      "dataset_L4_sula_local_moderado_epsg4326.tif windows:   3%| | 55/2133 [00:03<02:1\u001b[A\n",
      "dataset_L4_sula_local_moderado_epsg4326.tif windows:   3%| | 57/2133 [00:04<02:0\u001b[A\n",
      "dataset_L4_sula_local_moderado_epsg4326.tif windows:   3%| | 59/2133 [00:04<02:0\u001b[A\n",
      "dataset_L4_sula_local_moderado_epsg4326.tif windows:   3%| | 61/2133 [00:04<02:0\u001b[A\n",
      "dataset_L4_sula_local_moderado_epsg4326.tif windows:   3%| | 63/2133 [00:04<02:0\u001b[A\n",
      "dataset_L4_sula_local_moderado_epsg4326.tif windows:   3%| | 65/2133 [00:04<02:1\u001b[A\n",
      "dataset_L4_sula_local_moderado_epsg4326.tif windows:   3%| | 67/2133 [00:04<02:1\u001b[A\n",
      "dataset_L4_sula_local_moderado_epsg4326.tif windows:   3%| | 69/2133 [00:04<02:1\u001b[A\n",
      "dataset_L4_sula_local_moderado_epsg4326.tif windows:   3%| | 71/2133 [00:04<02:1\u001b[A\n",
      "dataset_L4_sula_local_moderado_epsg4326.tif windows:   3%| | 73/2133 [00:05<02:1\u001b[A\n",
      "dataset_L4_sula_local_moderado_epsg4326.tif windows:   4%| | 75/2133 [00:05<02:1\u001b[A\n",
      "dataset_L4_sula_local_moderado_epsg4326.tif windows:   4%| | 77/2133 [00:05<02:1\u001b[A\n",
      "dataset_L4_sula_local_moderado_epsg4326.tif windows:   4%| | 79/2133 [00:05<02:3\u001b[A\n",
      "dataset_L4_sula_local_moderado_epsg4326.tif windows:   4%| | 81/2133 [00:05<02:3\u001b[A\n",
      "dataset_L4_sula_local_moderado_epsg4326.tif windows:   4%| | 83/2133 [00:05<02:2\u001b[A\n",
      "dataset_L4_sula_local_moderado_epsg4326.tif windows:   4%| | 85/2133 [00:05<02:2\u001b[A\n",
      "dataset_L4_sula_local_moderado_epsg4326.tif windows:   4%| | 87/2133 [00:06<02:1\u001b[A\n",
      "dataset_L4_sula_local_moderado_epsg4326.tif windows:   4%| | 89/2133 [00:06<02:1\u001b[A\n",
      "dataset_L4_sula_local_moderado_epsg4326.tif windows:   4%| | 91/2133 [00:06<02:1\u001b[A\n",
      "dataset_L4_sula_local_moderado_epsg4326.tif windows:   4%| | 93/2133 [00:06<02:1\u001b[A\n",
      "dataset_L4_sula_local_moderado_epsg4326.tif windows:   4%| | 95/2133 [00:06<02:0\u001b[A\n",
      "dataset_L4_sula_local_moderado_epsg4326.tif windows:   5%| | 97/2133 [00:06<02:0\u001b[A\n",
      "dataset_L4_sula_local_moderado_epsg4326.tif windows:   5%| | 99/2133 [00:06<02:0\u001b[A\n",
      "dataset_L4_sula_local_moderado_epsg4326.tif windows:   5%| | 101/2133 [00:06<02:\u001b[A\n",
      "dataset_L4_sula_local_moderado_epsg4326.tif windows:   5%| | 103/2133 [00:07<02:\u001b[A\n",
      "dataset_L4_sula_local_moderado_epsg4326.tif windows:   5%| | 105/2133 [00:07<02:\u001b[A\n",
      "dataset_L4_sula_local_moderado_epsg4326.tif windows:   5%| | 107/2133 [00:07<02:\u001b[A\n",
      "dataset_L4_sula_local_moderado_epsg4326.tif windows:   5%| | 109/2133 [00:07<02:\u001b[A\n",
      "dataset_L4_sula_local_moderado_epsg4326.tif windows:   5%| | 111/2133 [00:07<02:\u001b[A\n",
      "dataset_L4_sula_local_moderado_epsg4326.tif windows:   5%| | 113/2133 [00:07<02:\u001b[A\n",
      "dataset_L4_sula_local_moderado_epsg4326.tif windows:   5%| | 115/2133 [00:07<02:\u001b[A\n",
      "dataset_L4_sula_local_moderado_epsg4326.tif windows:   5%| | 117/2133 [00:07<02:\u001b[A\n",
      "dataset_L4_sula_local_moderado_epsg4326.tif windows:   6%| | 119/2133 [00:08<02:\u001b[A\n",
      "dataset_L4_sula_local_moderado_epsg4326.tif windows:   6%| | 121/2133 [00:08<02:\u001b[A\n",
      "dataset_L4_sula_local_moderado_epsg4326.tif windows:   6%| | 123/2133 [00:08<02:\u001b[A\n",
      "dataset_L4_sula_local_moderado_epsg4326.tif windows:   6%| | 125/2133 [00:08<02:\u001b[A\n",
      "dataset_L4_sula_local_moderado_epsg4326.tif windows:   6%| | 127/2133 [00:08<02:\u001b[A\n",
      "dataset_L4_sula_local_moderado_epsg4326.tif windows:   6%| | 129/2133 [00:08<02:\u001b[A\n",
      "dataset_L4_sula_local_moderado_epsg4326.tif windows:   6%| | 131/2133 [00:08<02:\u001b[A\n",
      "dataset_L4_sula_local_moderado_epsg4326.tif windows:   6%| | 133/2133 [00:08<02:\u001b[A\n",
      "dataset_L4_sula_local_moderado_epsg4326.tif windows:   6%| | 135/2133 [00:09<02:\u001b[A\n",
      "dataset_L4_sula_local_moderado_epsg4326.tif windows:   6%| | 137/2133 [00:09<02:\u001b[A\n",
      "dataset_L4_sula_local_moderado_epsg4326.tif windows:   7%| | 139/2133 [00:09<02:\u001b[A\n",
      "dataset_L4_sula_local_moderado_epsg4326.tif windows:   7%| | 141/2133 [00:09<02:\u001b[A\n",
      "dataset_L4_sula_local_moderado_epsg4326.tif windows:   7%| | 143/2133 [00:09<02:\u001b[A\n",
      "dataset_L4_sula_local_moderado_epsg4326.tif windows:   7%| | 145/2133 [00:09<02:\u001b[A\n",
      "dataset_L4_sula_local_moderado_epsg4326.tif windows:   7%| | 147/2133 [00:09<02:\u001b[A\n",
      "dataset_L4_sula_local_moderado_epsg4326.tif windows:   7%| | 149/2133 [00:09<02:\u001b[A\n",
      "dataset_L4_sula_local_moderado_epsg4326.tif windows:   7%| | 151/2133 [00:10<02:\u001b[A\n",
      "dataset_L4_sula_local_moderado_epsg4326.tif windows:   7%| | 153/2133 [00:10<02:\u001b[A\n",
      "dataset_L4_sula_local_moderado_epsg4326.tif windows:   7%| | 155/2133 [00:10<02:\u001b[A\n",
      "dataset_L4_sula_local_moderado_epsg4326.tif windows:   7%| | 157/2133 [00:10<02:\u001b[A\n",
      "dataset_L4_sula_local_moderado_epsg4326.tif windows:   7%| | 159/2133 [00:10<02:\u001b[A\n",
      "dataset_L4_sula_local_moderado_epsg4326.tif windows:   8%| | 161/2133 [00:10<02:\u001b[A\n",
      "dataset_L4_sula_local_moderado_epsg4326.tif windows:   8%| | 163/2133 [00:11<02:\u001b[A\n",
      "dataset_L4_sula_local_moderado_epsg4326.tif windows:   8%| | 165/2133 [00:11<02:\u001b[A\n",
      "dataset_L4_sula_local_moderado_epsg4326.tif windows:   8%| | 167/2133 [00:11<02:\u001b[A\n",
      "dataset_L4_sula_local_moderado_epsg4326.tif windows:   8%| | 169/2133 [00:11<02:\u001b[A\n",
      "dataset_L4_sula_local_moderado_epsg4326.tif windows:   8%| | 171/2133 [00:11<02:\u001b[A\n",
      "dataset_L4_sula_local_moderado_epsg4326.tif windows:   8%| | 173/2133 [00:11<02:\u001b[A\n",
      "dataset_L4_sula_local_moderado_epsg4326.tif windows:   8%| | 175/2133 [00:11<02:\u001b[A\n",
      "dataset_L4_sula_local_moderado_epsg4326.tif windows:   8%| | 177/2133 [00:11<02:\u001b[A\n",
      "dataset_L4_sula_local_moderado_epsg4326.tif windows:   8%| | 179/2133 [00:12<02:\u001b[A\n",
      "dataset_L4_sula_local_moderado_epsg4326.tif windows:   8%| | 181/2133 [00:12<02:\u001b[A\n",
      "dataset_L4_sula_local_moderado_epsg4326.tif windows:   9%| | 183/2133 [00:12<02:\u001b[A\n",
      "dataset_L4_sula_local_moderado_epsg4326.tif windows:   9%| | 185/2133 [00:12<02:\u001b[A\n",
      "dataset_L4_sula_local_moderado_epsg4326.tif windows:   9%| | 187/2133 [00:12<02:\u001b[A\n",
      "dataset_L4_sula_local_moderado_epsg4326.tif windows:   9%| | 189/2133 [00:12<02:\u001b[A\n",
      "dataset_L4_sula_local_moderado_epsg4326.tif windows:   9%| | 191/2133 [00:12<02:\u001b[A\n",
      "dataset_L4_sula_local_moderado_epsg4326.tif windows:   9%| | 193/2133 [00:12<02:\u001b[A\n",
      "dataset_L4_sula_local_moderado_epsg4326.tif windows:   9%| | 195/2133 [00:13<02:\u001b[A\n",
      "dataset_L4_sula_local_moderado_epsg4326.tif windows:   9%| | 197/2133 [00:13<02:\u001b[A\n",
      "dataset_L4_sula_local_moderado_epsg4326.tif windows:   9%| | 199/2133 [00:13<02:\u001b[A\n",
      "dataset_L4_sula_local_moderado_epsg4326.tif windows:   9%| | 201/2133 [00:13<01:\u001b[A\n",
      "dataset_L4_sula_local_moderado_epsg4326.tif windows:  10%| | 203/2133 [00:13<02:\u001b[A\n",
      "dataset_L4_sula_local_moderado_epsg4326.tif windows:  10%| | 205/2133 [00:13<02:\u001b[A\n",
      "dataset_L4_sula_local_moderado_epsg4326.tif windows:  10%| | 207/2133 [00:13<01:\u001b[A\n",
      "dataset_L4_sula_local_moderado_epsg4326.tif windows:  10%| | 209/2133 [00:13<02:\u001b[A\n",
      "dataset_L4_sula_local_moderado_epsg4326.tif windows:  10%| | 211/2133 [00:14<02:\u001b[A\n",
      "dataset_L4_sula_local_moderado_epsg4326.tif windows:  10%| | 213/2133 [00:14<02:\u001b[A\n",
      "dataset_L4_sula_local_moderado_epsg4326.tif windows:  10%|1| 215/2133 [00:14<02:\u001b[A\n",
      "dataset_L4_sula_local_moderado_epsg4326.tif windows:  10%|1| 217/2133 [00:14<02:\u001b[A\n",
      "dataset_L4_sula_local_moderado_epsg4326.tif windows:  10%|1| 219/2133 [00:14<02:\u001b[A\n",
      "dataset_L4_sula_local_moderado_epsg4326.tif windows:  10%|1| 221/2133 [00:14<01:\u001b[A\n",
      "dataset_L4_sula_local_moderado_epsg4326.tif windows:  10%|1| 223/2133 [00:14<02:\u001b[A\n",
      "dataset_L4_sula_local_moderado_epsg4326.tif windows:  11%|1| 225/2133 [00:14<02:\u001b[A\n",
      "dataset_L4_sula_local_moderado_epsg4326.tif windows:  11%|1| 227/2133 [00:15<02:\u001b[A\n",
      "dataset_L4_sula_local_moderado_epsg4326.tif windows:  11%|1| 229/2133 [00:15<02:\u001b[A\n",
      "dataset_L4_sula_local_moderado_epsg4326.tif windows:  11%|1| 231/2133 [00:15<01:\u001b[A\n",
      "dataset_L4_sula_local_moderado_epsg4326.tif windows:  11%|1| 233/2133 [00:15<01:\u001b[A\n",
      "dataset_L4_sula_local_moderado_epsg4326.tif windows:  11%|1| 235/2133 [00:15<02:\u001b[A\n",
      "dataset_L4_sula_local_moderado_epsg4326.tif windows:  11%|1| 237/2133 [00:15<02:\u001b[A\n",
      "dataset_L4_sula_local_moderado_epsg4326.tif windows:  11%|1| 239/2133 [00:15<02:\u001b[A\n",
      "dataset_L4_sula_local_moderado_epsg4326.tif windows:  11%|1| 241/2133 [00:16<02:\u001b[A\n",
      "dataset_L4_sula_local_moderado_epsg4326.tif windows:  11%|1| 243/2133 [00:16<02:\u001b[A\n",
      "dataset_L4_sula_local_moderado_epsg4326.tif windows:  11%|1| 245/2133 [00:16<02:\u001b[A\n",
      "dataset_L4_sula_local_moderado_epsg4326.tif windows:  12%|1| 247/2133 [00:16<02:\u001b[A\n",
      "dataset_L4_sula_local_moderado_epsg4326.tif windows:  12%|1| 249/2133 [00:16<02:\u001b[A\n",
      "dataset_L4_sula_local_moderado_epsg4326.tif windows:  12%|1| 251/2133 [00:16<02:\u001b[A\n",
      "dataset_L4_sula_local_moderado_epsg4326.tif windows:  12%|1| 253/2133 [00:16<02:\u001b[A\n",
      "dataset_L4_sula_local_moderado_epsg4326.tif windows:  12%|1| 255/2133 [00:16<02:\u001b[A\n",
      "dataset_L4_sula_local_moderado_epsg4326.tif windows:  12%|1| 257/2133 [00:17<01:\u001b[A\n",
      "dataset_L4_sula_local_moderado_epsg4326.tif windows:  12%|1| 259/2133 [00:17<01:\u001b[A\n",
      "dataset_L4_sula_local_moderado_epsg4326.tif windows:  12%|1| 261/2133 [00:17<01:\u001b[A\n",
      "dataset_L4_sula_local_moderado_epsg4326.tif windows:  12%|1| 263/2133 [00:17<01:\u001b[A\n",
      "dataset_L4_sula_local_moderado_epsg4326.tif windows:  12%|1| 265/2133 [00:17<01:\u001b[A\n",
      "dataset_L4_sula_local_moderado_epsg4326.tif windows:  13%|1| 267/2133 [00:17<01:\u001b[A\n",
      "dataset_L4_sula_local_moderado_epsg4326.tif windows:  13%|1| 269/2133 [00:17<01:\u001b[A\n",
      "dataset_L4_sula_local_moderado_epsg4326.tif windows:  13%|1| 271/2133 [00:17<01:\u001b[A\n",
      "dataset_L4_sula_local_moderado_epsg4326.tif windows:  13%|1| 273/2133 [00:18<01:\u001b[A\n",
      "dataset_L4_sula_local_moderado_epsg4326.tif windows:  13%|1| 275/2133 [00:18<01:\u001b[A\n",
      "dataset_L4_sula_local_moderado_epsg4326.tif windows:  13%|1| 277/2133 [00:18<01:\u001b[A\n",
      "dataset_L4_sula_local_moderado_epsg4326.tif windows:  13%|1| 279/2133 [00:18<01:\u001b[A\n",
      "dataset_L4_sula_local_moderado_epsg4326.tif windows:  13%|1| 281/2133 [00:18<01:\u001b[A\n",
      "dataset_L4_sula_local_moderado_epsg4326.tif windows:  13%|1| 283/2133 [00:18<01:\u001b[A\n",
      "dataset_L4_sula_local_moderado_epsg4326.tif windows:  13%|1| 285/2133 [00:18<01:\u001b[A\n",
      "dataset_L4_sula_local_moderado_epsg4326.tif windows:  13%|1| 287/2133 [00:18<01:\u001b[A\n",
      "dataset_L4_sula_local_moderado_epsg4326.tif windows:  14%|1| 289/2133 [00:19<01:\u001b[A\n",
      "dataset_L4_sula_local_moderado_epsg4326.tif windows:  14%|1| 291/2133 [00:19<01:\u001b[A\n",
      "dataset_L4_sula_local_moderado_epsg4326.tif windows:  14%|1| 293/2133 [00:19<01:\u001b[A\n",
      "dataset_L4_sula_local_moderado_epsg4326.tif windows:  14%|1| 295/2133 [00:19<01:\u001b[A\n",
      "dataset_L4_sula_local_moderado_epsg4326.tif windows:  14%|1| 297/2133 [00:19<01:\u001b[A\n",
      "dataset_L4_sula_local_moderado_epsg4326.tif windows:  14%|1| 299/2133 [00:19<01:\u001b[A\n",
      "dataset_L4_sula_local_moderado_epsg4326.tif windows:  14%|1| 301/2133 [00:19<01:\u001b[A\n",
      "dataset_L4_sula_local_moderado_epsg4326.tif windows:  14%|1| 303/2133 [00:19<01:\u001b[A\n",
      "dataset_L4_sula_local_moderado_epsg4326.tif windows:  14%|1| 305/2133 [00:20<01:\u001b[A\n",
      "dataset_L4_sula_local_moderado_epsg4326.tif windows:  14%|1| 307/2133 [00:20<01:\u001b[A\n",
      "dataset_L4_sula_local_moderado_epsg4326.tif windows:  14%|1| 309/2133 [00:20<01:\u001b[A\n",
      "dataset_L4_sula_local_moderado_epsg4326.tif windows:  15%|1| 311/2133 [00:20<01:\u001b[A\n",
      "dataset_L4_sula_local_moderado_epsg4326.tif windows:  15%|1| 313/2133 [00:20<02:\u001b[A\n",
      "dataset_L4_sula_local_moderado_epsg4326.tif windows:  15%|1| 315/2133 [00:20<02:\u001b[A\n",
      "dataset_L4_sula_local_moderado_epsg4326.tif windows:  15%|1| 317/2133 [00:20<02:\u001b[A\n",
      "dataset_L4_sula_local_moderado_epsg4326.tif windows:  15%|1| 319/2133 [00:21<02:\u001b[A\n",
      "dataset_L4_sula_local_moderado_epsg4326.tif windows:  15%|1| 321/2133 [00:21<02:\u001b[A\n",
      "dataset_L4_sula_local_moderado_epsg4326.tif windows:  15%|1| 323/2133 [00:21<02:\u001b[A\n",
      "dataset_L4_sula_local_moderado_epsg4326.tif windows:  15%|1| 325/2133 [00:21<02:\u001b[A\n",
      "dataset_L4_sula_local_moderado_epsg4326.tif windows:  15%|1| 327/2133 [00:21<01:\u001b[A\n",
      "dataset_L4_sula_local_moderado_epsg4326.tif windows:  15%|1| 329/2133 [00:21<01:\u001b[A\n",
      "dataset_L4_sula_local_moderado_epsg4326.tif windows:  16%|1| 331/2133 [00:21<01:\u001b[A\n",
      "dataset_L4_sula_local_moderado_epsg4326.tif windows:  16%|1| 333/2133 [00:21<01:\u001b[A\n",
      "dataset_L4_sula_local_moderado_epsg4326.tif windows:  16%|1| 335/2133 [00:22<01:\u001b[A\n",
      "dataset_L4_sula_local_moderado_epsg4326.tif windows:  16%|1| 337/2133 [00:22<01:\u001b[A\n",
      "dataset_L4_sula_local_moderado_epsg4326.tif windows:  16%|1| 339/2133 [00:22<01:\u001b[A\n",
      "dataset_L4_sula_local_moderado_epsg4326.tif windows:  16%|1| 341/2133 [00:22<01:\u001b[A\n",
      "dataset_L4_sula_local_moderado_epsg4326.tif windows:  16%|1| 343/2133 [00:22<01:\u001b[A\n",
      "dataset_L4_sula_local_moderado_epsg4326.tif windows:  16%|1| 345/2133 [00:22<01:\u001b[A\n",
      "dataset_L4_sula_local_moderado_epsg4326.tif windows:  16%|1| 347/2133 [00:22<01:\u001b[A\n",
      "dataset_L4_sula_local_moderado_epsg4326.tif windows:  16%|1| 349/2133 [00:22<01:\u001b[A\n",
      "dataset_L4_sula_local_moderado_epsg4326.tif windows:  16%|1| 351/2133 [00:23<01:\u001b[A\n",
      "dataset_L4_sula_local_moderado_epsg4326.tif windows:  17%|1| 353/2133 [00:23<01:\u001b[A\n",
      "dataset_L4_sula_local_moderado_epsg4326.tif windows:  17%|1| 355/2133 [00:23<01:\u001b[A\n",
      "dataset_L4_sula_local_moderado_epsg4326.tif windows:  17%|1| 357/2133 [00:23<01:\u001b[A\n",
      "dataset_L4_sula_local_moderado_epsg4326.tif windows:  17%|1| 359/2133 [00:23<01:\u001b[A\n",
      "dataset_L4_sula_local_moderado_epsg4326.tif windows:  17%|1| 361/2133 [00:23<01:\u001b[A\n",
      "dataset_L4_sula_local_moderado_epsg4326.tif windows:  17%|1| 363/2133 [00:23<01:\u001b[A\n",
      "dataset_L4_sula_local_moderado_epsg4326.tif windows:  17%|1| 365/2133 [00:23<01:\u001b[A\n",
      "dataset_L4_sula_local_moderado_epsg4326.tif windows:  17%|1| 367/2133 [00:24<01:\u001b[A\n",
      "dataset_L4_sula_local_moderado_epsg4326.tif windows:  17%|1| 369/2133 [00:24<01:\u001b[A\n",
      "dataset_L4_sula_local_moderado_epsg4326.tif windows:  17%|1| 371/2133 [00:24<01:\u001b[A\n",
      "dataset_L4_sula_local_moderado_epsg4326.tif windows:  17%|1| 373/2133 [00:24<01:\u001b[A\n",
      "dataset_L4_sula_local_moderado_epsg4326.tif windows:  18%|1| 375/2133 [00:24<01:\u001b[A\n",
      "dataset_L4_sula_local_moderado_epsg4326.tif windows:  18%|1| 377/2133 [00:24<01:\u001b[A\n",
      "dataset_L4_sula_local_moderado_epsg4326.tif windows:  18%|1| 379/2133 [00:24<01:\u001b[A\n",
      "dataset_L4_sula_local_moderado_epsg4326.tif windows:  18%|1| 381/2133 [00:25<01:\u001b[A\n",
      "dataset_L4_sula_local_moderado_epsg4326.tif windows:  18%|1| 383/2133 [00:25<01:\u001b[A\n",
      "dataset_L4_sula_local_moderado_epsg4326.tif windows:  18%|1| 385/2133 [00:25<01:\u001b[A\n",
      "dataset_L4_sula_local_moderado_epsg4326.tif windows:  18%|1| 387/2133 [00:25<01:\u001b[A\n",
      "dataset_L4_sula_local_moderado_epsg4326.tif windows:  18%|1| 389/2133 [00:25<01:\u001b[A\n",
      "dataset_L4_sula_local_moderado_epsg4326.tif windows:  18%|1| 391/2133 [00:25<02:\u001b[A\n",
      "dataset_L4_sula_local_moderado_epsg4326.tif windows:  18%|1| 393/2133 [00:25<02:\u001b[A\n",
      "dataset_L4_sula_local_moderado_epsg4326.tif windows:  19%|1| 395/2133 [00:25<02:\u001b[A\n",
      "dataset_L4_sula_local_moderado_epsg4326.tif windows:  19%|1| 397/2133 [00:26<01:\u001b[A\n",
      "dataset_L4_sula_local_moderado_epsg4326.tif windows:  19%|1| 399/2133 [00:26<01:\u001b[A\n",
      "dataset_L4_sula_local_moderado_epsg4326.tif windows:  19%|1| 401/2133 [00:26<01:\u001b[A\n",
      "dataset_L4_sula_local_moderado_epsg4326.tif windows:  19%|1| 403/2133 [00:26<01:\u001b[A\n",
      "dataset_L4_sula_local_moderado_epsg4326.tif windows:  19%|1| 405/2133 [00:26<01:\u001b[A\n",
      "dataset_L4_sula_local_moderado_epsg4326.tif windows:  19%|1| 407/2133 [00:26<01:\u001b[A\n",
      "dataset_L4_sula_local_moderado_epsg4326.tif windows:  19%|1| 409/2133 [00:26<01:\u001b[A\n",
      "dataset_L4_sula_local_moderado_epsg4326.tif windows:  19%|1| 411/2133 [00:26<01:\u001b[A\n",
      "dataset_L4_sula_local_moderado_epsg4326.tif windows:  19%|1| 413/2133 [00:27<01:\u001b[A\n",
      "dataset_L4_sula_local_moderado_epsg4326.tif windows:  19%|1| 415/2133 [00:27<01:\u001b[A\n",
      "dataset_L4_sula_local_moderado_epsg4326.tif windows:  20%|1| 417/2133 [00:27<01:\u001b[A\n",
      "dataset_L4_sula_local_moderado_epsg4326.tif windows:  20%|1| 419/2133 [00:27<01:\u001b[A\n",
      "dataset_L4_sula_local_moderado_epsg4326.tif windows:  20%|1| 421/2133 [00:27<01:\u001b[A\n",
      "dataset_L4_sula_local_moderado_epsg4326.tif windows:  20%|1| 423/2133 [00:27<01:\u001b[A\n",
      "dataset_L4_sula_local_moderado_epsg4326.tif windows:  20%|1| 425/2133 [00:27<01:\u001b[A\n",
      "dataset_L4_sula_local_moderado_epsg4326.tif windows:  20%|2| 427/2133 [00:27<01:\u001b[A\n",
      "dataset_L4_sula_local_moderado_epsg4326.tif windows:  20%|2| 429/2133 [00:28<01:\u001b[A\n",
      "dataset_L4_sula_local_moderado_epsg4326.tif windows:  20%|2| 431/2133 [00:28<01:\u001b[A\n",
      "dataset_L4_sula_local_moderado_epsg4326.tif windows:  20%|2| 433/2133 [00:28<01:\u001b[A\n",
      "dataset_L4_sula_local_moderado_epsg4326.tif windows:  20%|2| 435/2133 [00:28<01:\u001b[A\n",
      "dataset_L4_sula_local_moderado_epsg4326.tif windows:  20%|2| 437/2133 [00:28<01:\u001b[A\n",
      "dataset_L4_sula_local_moderado_epsg4326.tif windows:  21%|2| 439/2133 [00:28<01:\u001b[A\n",
      "dataset_L4_sula_local_moderado_epsg4326.tif windows:  21%|2| 441/2133 [00:28<01:\u001b[A\n",
      "dataset_L4_sula_local_moderado_epsg4326.tif windows:  21%|2| 443/2133 [00:28<01:\u001b[A\n",
      "dataset_L4_sula_local_moderado_epsg4326.tif windows:  21%|2| 445/2133 [00:29<01:\u001b[A\n",
      "dataset_L4_sula_local_moderado_epsg4326.tif windows:  21%|2| 447/2133 [00:29<01:\u001b[A\n",
      "dataset_L4_sula_local_moderado_epsg4326.tif windows:  21%|2| 449/2133 [00:29<01:\u001b[A\n",
      "dataset_L4_sula_local_moderado_epsg4326.tif windows:  21%|2| 451/2133 [00:29<01:\u001b[A\n",
      "dataset_L4_sula_local_moderado_epsg4326.tif windows:  21%|2| 453/2133 [00:29<01:\u001b[A\n",
      "dataset_L4_sula_local_moderado_epsg4326.tif windows:  21%|2| 455/2133 [00:29<01:\u001b[A\n",
      "dataset_L4_sula_local_moderado_epsg4326.tif windows:  21%|2| 457/2133 [00:29<01:\u001b[A\n",
      "dataset_L4_sula_local_moderado_epsg4326.tif windows:  22%|2| 459/2133 [00:30<01:\u001b[A\n",
      "dataset_L4_sula_local_moderado_epsg4326.tif windows:  22%|2| 461/2133 [00:30<01:\u001b[A\n",
      "dataset_L4_sula_local_moderado_epsg4326.tif windows:  22%|2| 463/2133 [00:30<01:\u001b[A\n",
      "dataset_L4_sula_local_moderado_epsg4326.tif windows:  22%|2| 465/2133 [00:30<01:\u001b[A\n",
      "dataset_L4_sula_local_moderado_epsg4326.tif windows:  22%|2| 467/2133 [00:30<01:\u001b[A\n",
      "dataset_L4_sula_local_moderado_epsg4326.tif windows:  22%|2| 469/2133 [00:30<02:\u001b[A\n",
      "dataset_L4_sula_local_moderado_epsg4326.tif windows:  22%|2| 471/2133 [00:30<02:\u001b[A\n",
      "dataset_L4_sula_local_moderado_epsg4326.tif windows:  22%|2| 473/2133 [00:31<02:\u001b[A\n",
      "dataset_L4_sula_local_moderado_epsg4326.tif windows:  22%|2| 475/2133 [00:31<01:\u001b[A\n",
      "dataset_L4_sula_local_moderado_epsg4326.tif windows:  22%|2| 477/2133 [00:31<01:\u001b[A\n",
      "dataset_L4_sula_local_moderado_epsg4326.tif windows:  22%|2| 479/2133 [00:31<01:\u001b[A\n",
      "dataset_L4_sula_local_moderado_epsg4326.tif windows:  23%|2| 481/2133 [00:31<01:\u001b[A\n",
      "dataset_L4_sula_local_moderado_epsg4326.tif windows:  23%|2| 483/2133 [00:31<01:\u001b[A\n",
      "dataset_L4_sula_local_moderado_epsg4326.tif windows:  23%|2| 485/2133 [00:31<01:\u001b[A\n",
      "dataset_L4_sula_local_moderado_epsg4326.tif windows:  23%|2| 487/2133 [00:31<01:\u001b[A\n",
      "dataset_L4_sula_local_moderado_epsg4326.tif windows:  23%|2| 489/2133 [00:32<01:\u001b[A\n",
      "dataset_L4_sula_local_moderado_epsg4326.tif windows:  23%|2| 491/2133 [00:32<01:\u001b[A\n",
      "dataset_L4_sula_local_moderado_epsg4326.tif windows:  23%|2| 493/2133 [00:32<01:\u001b[A\n",
      "dataset_L4_sula_local_moderado_epsg4326.tif windows:  23%|2| 495/2133 [00:32<01:\u001b[A\n",
      "dataset_L4_sula_local_moderado_epsg4326.tif windows:  23%|2| 497/2133 [00:32<01:\u001b[A\n",
      "dataset_L4_sula_local_moderado_epsg4326.tif windows:  23%|2| 499/2133 [00:32<01:\u001b[A\n",
      "dataset_L4_sula_local_moderado_epsg4326.tif windows:  23%|2| 501/2133 [00:32<01:\u001b[A\n",
      "dataset_L4_sula_local_moderado_epsg4326.tif windows:  24%|2| 503/2133 [00:32<01:\u001b[A\n",
      "dataset_L4_sula_local_moderado_epsg4326.tif windows:  24%|2| 505/2133 [00:33<01:\u001b[A\n",
      "dataset_L4_sula_local_moderado_epsg4326.tif windows:  24%|2| 507/2133 [00:33<01:\u001b[A\n",
      "dataset_L4_sula_local_moderado_epsg4326.tif windows:  24%|2| 509/2133 [00:33<01:\u001b[A\n",
      "dataset_L4_sula_local_moderado_epsg4326.tif windows:  24%|2| 511/2133 [00:33<01:\u001b[A\n",
      "dataset_L4_sula_local_moderado_epsg4326.tif windows:  24%|2| 513/2133 [00:33<01:\u001b[A\n",
      "dataset_L4_sula_local_moderado_epsg4326.tif windows:  24%|2| 515/2133 [00:33<01:\u001b[A\n",
      "dataset_L4_sula_local_moderado_epsg4326.tif windows:  24%|2| 517/2133 [00:33<01:\u001b[A\n",
      "dataset_L4_sula_local_moderado_epsg4326.tif windows:  24%|2| 519/2133 [00:33<01:\u001b[A\n",
      "dataset_L4_sula_local_moderado_epsg4326.tif windows:  24%|2| 521/2133 [00:34<01:\u001b[A\n",
      "dataset_L4_sula_local_moderado_epsg4326.tif windows:  25%|2| 523/2133 [00:34<01:\u001b[A\n",
      "dataset_L4_sula_local_moderado_epsg4326.tif windows:  25%|2| 525/2133 [00:34<01:\u001b[A\n",
      "dataset_L4_sula_local_moderado_epsg4326.tif windows:  25%|2| 527/2133 [00:34<01:\u001b[A\n",
      "dataset_L4_sula_local_moderado_epsg4326.tif windows:  25%|2| 529/2133 [00:34<01:\u001b[A\n",
      "dataset_L4_sula_local_moderado_epsg4326.tif windows:  25%|2| 531/2133 [00:34<01:\u001b[A\n",
      "dataset_L4_sula_local_moderado_epsg4326.tif windows:  25%|2| 533/2133 [00:34<01:\u001b[A\n",
      "dataset_L4_sula_local_moderado_epsg4326.tif windows:  25%|2| 535/2133 [00:34<01:\u001b[A\n",
      "dataset_L4_sula_local_moderado_epsg4326.tif windows:  25%|2| 537/2133 [00:35<01:\u001b[A\n",
      "dataset_L4_sula_local_moderado_epsg4326.tif windows:  25%|2| 539/2133 [00:35<01:\u001b[A\n",
      "dataset_L4_sula_local_moderado_epsg4326.tif windows:  25%|2| 541/2133 [00:35<01:\u001b[A\n",
      "dataset_L4_sula_local_moderado_epsg4326.tif windows:  25%|2| 543/2133 [00:35<01:\u001b[A\n",
      "dataset_L4_sula_local_moderado_epsg4326.tif windows:  26%|2| 545/2133 [00:35<01:\u001b[A\n",
      "dataset_L4_sula_local_moderado_epsg4326.tif windows:  26%|2| 547/2133 [00:35<01:\u001b[A\n",
      "dataset_L4_sula_local_moderado_epsg4326.tif windows:  26%|2| 549/2133 [00:35<01:\u001b[A\n",
      "dataset_L4_sula_local_moderado_epsg4326.tif windows:  26%|2| 551/2133 [00:35<01:\u001b[A\n",
      "dataset_L4_sula_local_moderado_epsg4326.tif windows:  26%|2| 553/2133 [00:36<01:\u001b[A\n",
      "dataset_L4_sula_local_moderado_epsg4326.tif windows:  26%|2| 555/2133 [00:36<01:\u001b[A\n",
      "dataset_L4_sula_local_moderado_epsg4326.tif windows:  26%|2| 557/2133 [00:36<01:\u001b[A\n",
      "dataset_L4_sula_local_moderado_epsg4326.tif windows:  26%|2| 559/2133 [00:36<01:\u001b[A\n",
      "dataset_L4_sula_local_moderado_epsg4326.tif windows:  26%|2| 561/2133 [00:36<01:\u001b[A\n",
      "dataset_L4_sula_local_moderado_epsg4326.tif windows:  26%|2| 563/2133 [00:36<01:\u001b[A\n",
      "dataset_L4_sula_local_moderado_epsg4326.tif windows:  26%|2| 565/2133 [00:36<01:\u001b[A\n",
      "dataset_L4_sula_local_moderado_epsg4326.tif windows:  27%|2| 567/2133 [00:36<01:\u001b[A\n",
      "dataset_L4_sula_local_moderado_epsg4326.tif windows:  27%|2| 569/2133 [00:37<01:\u001b[A\n",
      "dataset_L4_sula_local_moderado_epsg4326.tif windows:  27%|2| 571/2133 [00:37<01:\u001b[A\n",
      "dataset_L4_sula_local_moderado_epsg4326.tif windows:  27%|2| 573/2133 [00:37<01:\u001b[A\n",
      "dataset_L4_sula_local_moderado_epsg4326.tif windows:  27%|2| 575/2133 [00:37<01:\u001b[A\n",
      "dataset_L4_sula_local_moderado_epsg4326.tif windows:  27%|2| 577/2133 [00:37<01:\u001b[A\n",
      "dataset_L4_sula_local_moderado_epsg4326.tif windows:  27%|2| 579/2133 [00:37<01:\u001b[A\n",
      "dataset_L4_sula_local_moderado_epsg4326.tif windows:  27%|2| 581/2133 [00:37<01:\u001b[A\n",
      "dataset_L4_sula_local_moderado_epsg4326.tif windows:  27%|2| 583/2133 [00:38<01:\u001b[A\n",
      "dataset_L4_sula_local_moderado_epsg4326.tif windows:  27%|2| 585/2133 [00:38<01:\u001b[A\n",
      "dataset_L4_sula_local_moderado_epsg4326.tif windows:  28%|2| 587/2133 [00:38<01:\u001b[A\n",
      "dataset_L4_sula_local_moderado_epsg4326.tif windows:  28%|2| 589/2133 [00:38<01:\u001b[A\n",
      "dataset_L4_sula_local_moderado_epsg4326.tif windows:  28%|2| 591/2133 [00:38<01:\u001b[A\n",
      "dataset_L4_sula_local_moderado_epsg4326.tif windows:  28%|2| 593/2133 [00:38<01:\u001b[A\n",
      "dataset_L4_sula_local_moderado_epsg4326.tif windows:  28%|2| 595/2133 [00:38<01:\u001b[A\n",
      "dataset_L4_sula_local_moderado_epsg4326.tif windows:  28%|2| 597/2133 [00:38<01:\u001b[A\n",
      "dataset_L4_sula_local_moderado_epsg4326.tif windows:  28%|2| 599/2133 [00:39<01:\u001b[A\n",
      "dataset_L4_sula_local_moderado_epsg4326.tif windows:  28%|2| 601/2133 [00:39<01:\u001b[A\n",
      "dataset_L4_sula_local_moderado_epsg4326.tif windows:  28%|2| 603/2133 [00:39<01:\u001b[A\n",
      "dataset_L4_sula_local_moderado_epsg4326.tif windows:  28%|2| 605/2133 [00:39<01:\u001b[A\n",
      "dataset_L4_sula_local_moderado_epsg4326.tif windows:  28%|2| 607/2133 [00:39<01:\u001b[A\n",
      "dataset_L4_sula_local_moderado_epsg4326.tif windows:  29%|2| 609/2133 [00:39<01:\u001b[A\n",
      "dataset_L4_sula_local_moderado_epsg4326.tif windows:  29%|2| 611/2133 [00:39<01:\u001b[A\n",
      "dataset_L4_sula_local_moderado_epsg4326.tif windows:  29%|2| 613/2133 [00:39<01:\u001b[A\n",
      "dataset_L4_sula_local_moderado_epsg4326.tif windows:  29%|2| 615/2133 [00:40<01:\u001b[A\n",
      "dataset_L4_sula_local_moderado_epsg4326.tif windows:  29%|2| 617/2133 [00:40<01:\u001b[A\n",
      "dataset_L4_sula_local_moderado_epsg4326.tif windows:  29%|2| 619/2133 [00:40<01:\u001b[A\n",
      "dataset_L4_sula_local_moderado_epsg4326.tif windows:  29%|2| 621/2133 [00:40<01:\u001b[A\n",
      "dataset_L4_sula_local_moderado_epsg4326.tif windows:  29%|2| 623/2133 [00:40<01:\u001b[A\n",
      "dataset_L4_sula_local_moderado_epsg4326.tif windows:  29%|2| 625/2133 [00:40<01:\u001b[A\n",
      "dataset_L4_sula_local_moderado_epsg4326.tif windows:  29%|2| 627/2133 [00:40<01:\u001b[A\n",
      "dataset_L4_sula_local_moderado_epsg4326.tif windows:  29%|2| 629/2133 [00:40<01:\u001b[A\n",
      "dataset_L4_sula_local_moderado_epsg4326.tif windows:  30%|2| 631/2133 [00:41<01:\u001b[A\n",
      "dataset_L4_sula_local_moderado_epsg4326.tif windows:  30%|2| 633/2133 [00:41<01:\u001b[A\n",
      "dataset_L4_sula_local_moderado_epsg4326.tif windows:  30%|2| 635/2133 [00:41<01:\u001b[A\n",
      "dataset_L4_sula_local_moderado_epsg4326.tif windows:  30%|2| 637/2133 [00:41<01:\u001b[A\n",
      "dataset_L4_sula_local_moderado_epsg4326.tif windows:  30%|2| 639/2133 [00:41<01:\u001b[A\n",
      "dataset_L4_sula_local_moderado_epsg4326.tif windows:  30%|3| 641/2133 [00:41<01:\u001b[A\n",
      "dataset_L4_sula_local_moderado_epsg4326.tif windows:  30%|3| 643/2133 [00:41<01:\u001b[A\n",
      "dataset_L4_sula_local_moderado_epsg4326.tif windows:  30%|3| 645/2133 [00:42<01:\u001b[A\n",
      "dataset_L4_sula_local_moderado_epsg4326.tif windows:  30%|3| 647/2133 [00:42<01:\u001b[A\n",
      "dataset_L4_sula_local_moderado_epsg4326.tif windows:  30%|3| 649/2133 [00:42<01:\u001b[A\n",
      "dataset_L4_sula_local_moderado_epsg4326.tif windows:  31%|3| 651/2133 [00:42<01:\u001b[A\n",
      "dataset_L4_sula_local_moderado_epsg4326.tif windows:  31%|3| 653/2133 [00:42<01:\u001b[A\n",
      "dataset_L4_sula_local_moderado_epsg4326.tif windows:  31%|3| 655/2133 [00:42<01:\u001b[A\n",
      "dataset_L4_sula_local_moderado_epsg4326.tif windows:  31%|3| 657/2133 [00:42<01:\u001b[A\n",
      "dataset_L4_sula_local_moderado_epsg4326.tif windows:  31%|3| 659/2133 [00:42<01:\u001b[A\n",
      "dataset_L4_sula_local_moderado_epsg4326.tif windows:  31%|3| 661/2133 [00:43<01:\u001b[A\n",
      "dataset_L4_sula_local_moderado_epsg4326.tif windows:  31%|3| 663/2133 [00:43<01:\u001b[A\n",
      "dataset_L4_sula_local_moderado_epsg4326.tif windows:  31%|3| 665/2133 [00:43<01:\u001b[A\n",
      "dataset_L4_sula_local_moderado_epsg4326.tif windows:  31%|3| 667/2133 [00:43<01:\u001b[A\n",
      "dataset_L4_sula_local_moderado_epsg4326.tif windows:  31%|3| 669/2133 [00:43<01:\u001b[A\n",
      "dataset_L4_sula_local_moderado_epsg4326.tif windows:  31%|3| 671/2133 [00:43<01:\u001b[A\n",
      "dataset_L4_sula_local_moderado_epsg4326.tif windows:  32%|3| 673/2133 [00:43<01:\u001b[A\n",
      "dataset_L4_sula_local_moderado_epsg4326.tif windows:  32%|3| 675/2133 [00:43<01:\u001b[A\n",
      "dataset_L4_sula_local_moderado_epsg4326.tif windows:  32%|3| 677/2133 [00:44<01:\u001b[A\n",
      "dataset_L4_sula_local_moderado_epsg4326.tif windows:  32%|3| 679/2133 [00:44<01:\u001b[A\n",
      "dataset_L4_sula_local_moderado_epsg4326.tif windows:  32%|3| 681/2133 [00:44<01:\u001b[A\n",
      "dataset_L4_sula_local_moderado_epsg4326.tif windows:  32%|3| 683/2133 [00:44<01:\u001b[A\n",
      "dataset_L4_sula_local_moderado_epsg4326.tif windows:  32%|3| 685/2133 [00:44<01:\u001b[A\n",
      "dataset_L4_sula_local_moderado_epsg4326.tif windows:  32%|3| 687/2133 [00:44<01:\u001b[A\n",
      "dataset_L4_sula_local_moderado_epsg4326.tif windows:  32%|3| 689/2133 [00:44<01:\u001b[A\n",
      "dataset_L4_sula_local_moderado_epsg4326.tif windows:  32%|3| 691/2133 [00:44<01:\u001b[A\n",
      "dataset_L4_sula_local_moderado_epsg4326.tif windows:  32%|3| 693/2133 [00:45<01:\u001b[A\n",
      "dataset_L4_sula_local_moderado_epsg4326.tif windows:  33%|3| 695/2133 [00:45<01:\u001b[A\n",
      "dataset_L4_sula_local_moderado_epsg4326.tif windows:  33%|3| 697/2133 [00:45<01:\u001b[A\n",
      "dataset_L4_sula_local_moderado_epsg4326.tif windows:  33%|3| 699/2133 [00:45<01:\u001b[A\n",
      "dataset_L4_sula_local_moderado_epsg4326.tif windows:  33%|3| 701/2133 [00:45<01:\u001b[A\n",
      "dataset_L4_sula_local_moderado_epsg4326.tif windows:  33%|3| 703/2133 [00:45<01:\u001b[A\n",
      "dataset_L4_sula_local_moderado_epsg4326.tif windows:  33%|3| 705/2133 [00:45<01:\u001b[A\n",
      "dataset_L4_sula_local_moderado_epsg4326.tif windows:  33%|3| 707/2133 [00:46<01:\u001b[A\n",
      "dataset_L4_sula_local_moderado_epsg4326.tif windows:  33%|3| 709/2133 [00:46<01:\u001b[A\n",
      "dataset_L4_sula_local_moderado_epsg4326.tif windows:  33%|3| 711/2133 [00:46<01:\u001b[A\n",
      "dataset_L4_sula_local_moderado_epsg4326.tif windows:  33%|3| 713/2133 [00:46<01:\u001b[A\n",
      "dataset_L4_sula_local_moderado_epsg4326.tif windows:  34%|3| 715/2133 [00:46<01:\u001b[A\n",
      "dataset_L4_sula_local_moderado_epsg4326.tif windows:  34%|3| 717/2133 [00:46<01:\u001b[A\n",
      "dataset_L4_sula_local_moderado_epsg4326.tif windows:  34%|3| 719/2133 [00:46<01:\u001b[A\n",
      "dataset_L4_sula_local_moderado_epsg4326.tif windows:  34%|3| 721/2133 [00:46<01:\u001b[A\n",
      "dataset_L4_sula_local_moderado_epsg4326.tif windows:  34%|3| 723/2133 [00:47<01:\u001b[A\n",
      "dataset_L4_sula_local_moderado_epsg4326.tif windows:  34%|3| 725/2133 [00:47<01:\u001b[A\n",
      "dataset_L4_sula_local_moderado_epsg4326.tif windows:  34%|3| 727/2133 [00:47<01:\u001b[A\n",
      "dataset_L4_sula_local_moderado_epsg4326.tif windows:  34%|3| 729/2133 [00:47<01:\u001b[A\n",
      "dataset_L4_sula_local_moderado_epsg4326.tif windows:  34%|3| 731/2133 [00:47<01:\u001b[A\n",
      "dataset_L4_sula_local_moderado_epsg4326.tif windows:  34%|3| 733/2133 [00:47<01:\u001b[A\n",
      "dataset_L4_sula_local_moderado_epsg4326.tif windows:  34%|3| 735/2133 [00:47<01:\u001b[A\n",
      "dataset_L4_sula_local_moderado_epsg4326.tif windows:  35%|3| 737/2133 [00:47<01:\u001b[A\n",
      "dataset_L4_sula_local_moderado_epsg4326.tif windows:  35%|3| 739/2133 [00:48<01:\u001b[A\n",
      "dataset_L4_sula_local_moderado_epsg4326.tif windows:  35%|3| 741/2133 [00:48<01:\u001b[A\n",
      "dataset_L4_sula_local_moderado_epsg4326.tif windows:  35%|3| 743/2133 [00:48<01:\u001b[A\n",
      "dataset_L4_sula_local_moderado_epsg4326.tif windows:  35%|3| 745/2133 [00:48<01:\u001b[A\n",
      "dataset_L4_sula_local_moderado_epsg4326.tif windows:  35%|3| 747/2133 [00:48<01:\u001b[A\n",
      "dataset_L4_sula_local_moderado_epsg4326.tif windows:  35%|3| 749/2133 [00:48<01:\u001b[A\n",
      "dataset_L4_sula_local_moderado_epsg4326.tif windows:  35%|3| 751/2133 [00:48<01:\u001b[A\n",
      "dataset_L4_sula_local_moderado_epsg4326.tif windows:  35%|3| 753/2133 [00:48<01:\u001b[A\n",
      "dataset_L4_sula_local_moderado_epsg4326.tif windows:  35%|3| 755/2133 [00:49<01:\u001b[A\n",
      "dataset_L4_sula_local_moderado_epsg4326.tif windows:  35%|3| 757/2133 [00:49<01:\u001b[A\n",
      "dataset_L4_sula_local_moderado_epsg4326.tif windows:  36%|3| 759/2133 [00:49<01:\u001b[A\n",
      "dataset_L4_sula_local_moderado_epsg4326.tif windows:  36%|3| 761/2133 [00:49<01:\u001b[A\n",
      "dataset_L4_sula_local_moderado_epsg4326.tif windows:  36%|3| 763/2133 [00:49<01:\u001b[A\n",
      "dataset_L4_sula_local_moderado_epsg4326.tif windows:  36%|3| 765/2133 [00:49<01:\u001b[A\n",
      "dataset_L4_sula_local_moderado_epsg4326.tif windows:  36%|3| 767/2133 [00:49<01:\u001b[A\n",
      "dataset_L4_sula_local_moderado_epsg4326.tif windows:  36%|3| 769/2133 [00:49<01:\u001b[A\n",
      "dataset_L4_sula_local_moderado_epsg4326.tif windows:  36%|3| 771/2133 [00:50<01:\u001b[A\n",
      "dataset_L4_sula_local_moderado_epsg4326.tif windows:  36%|3| 773/2133 [00:50<01:\u001b[A\n",
      "dataset_L4_sula_local_moderado_epsg4326.tif windows:  36%|3| 775/2133 [00:50<01:\u001b[A\n",
      "dataset_L4_sula_local_moderado_epsg4326.tif windows:  36%|3| 777/2133 [00:50<01:\u001b[A\n",
      "dataset_L4_sula_local_moderado_epsg4326.tif windows:  37%|3| 779/2133 [00:50<01:\u001b[A\n",
      "dataset_L4_sula_local_moderado_epsg4326.tif windows:  37%|3| 781/2133 [00:50<01:\u001b[A\n",
      "dataset_L4_sula_local_moderado_epsg4326.tif windows:  37%|3| 783/2133 [00:50<01:\u001b[A\n",
      "dataset_L4_sula_local_moderado_epsg4326.tif windows:  37%|3| 785/2133 [00:50<01:\u001b[A\n",
      "dataset_L4_sula_local_moderado_epsg4326.tif windows:  37%|3| 787/2133 [00:51<01:\u001b[A\n",
      "dataset_L4_sula_local_moderado_epsg4326.tif windows:  37%|3| 789/2133 [00:51<01:\u001b[A\n",
      "dataset_L4_sula_local_moderado_epsg4326.tif windows:  37%|3| 791/2133 [00:51<01:\u001b[A\n",
      "dataset_L4_sula_local_moderado_epsg4326.tif windows:  37%|3| 793/2133 [00:51<01:\u001b[A\n",
      "dataset_L4_sula_local_moderado_epsg4326.tif windows:  37%|3| 795/2133 [00:51<01:\u001b[A\n",
      "dataset_L4_sula_local_moderado_epsg4326.tif windows:  37%|3| 797/2133 [00:51<01:\u001b[A\n",
      "dataset_L4_sula_local_moderado_epsg4326.tif windows:  37%|3| 799/2133 [00:51<01:\u001b[A\n",
      "dataset_L4_sula_local_moderado_epsg4326.tif windows:  38%|3| 801/2133 [00:51<01:\u001b[A\n",
      "dataset_L4_sula_local_moderado_epsg4326.tif windows:  38%|3| 803/2133 [00:52<01:\u001b[A\n",
      "dataset_L4_sula_local_moderado_epsg4326.tif windows:  38%|3| 805/2133 [00:52<01:\u001b[A\n",
      "dataset_L4_sula_local_moderado_epsg4326.tif windows:  38%|3| 807/2133 [00:52<01:\u001b[A\n",
      "dataset_L4_sula_local_moderado_epsg4326.tif windows:  38%|3| 809/2133 [00:52<01:\u001b[A\n",
      "dataset_L4_sula_local_moderado_epsg4326.tif windows:  38%|3| 811/2133 [00:52<01:\u001b[A\n",
      "dataset_L4_sula_local_moderado_epsg4326.tif windows:  38%|3| 813/2133 [00:52<01:\u001b[A\n",
      "dataset_L4_sula_local_moderado_epsg4326.tif windows:  38%|3| 815/2133 [00:52<01:\u001b[A\n",
      "dataset_L4_sula_local_moderado_epsg4326.tif windows:  38%|3| 817/2133 [00:52<01:\u001b[A\n",
      "dataset_L4_sula_local_moderado_epsg4326.tif windows:  38%|3| 819/2133 [00:53<01:\u001b[A\n",
      "dataset_L4_sula_local_moderado_epsg4326.tif windows:  38%|3| 821/2133 [00:53<01:\u001b[A\n",
      "dataset_L4_sula_local_moderado_epsg4326.tif windows:  39%|3| 823/2133 [00:53<01:\u001b[A\n",
      "dataset_L4_sula_local_moderado_epsg4326.tif windows:  39%|3| 825/2133 [00:53<01:\u001b[A\n",
      "dataset_L4_sula_local_moderado_epsg4326.tif windows:  39%|3| 827/2133 [00:53<01:\u001b[A\n",
      "dataset_L4_sula_local_moderado_epsg4326.tif windows:  39%|3| 829/2133 [00:53<01:\u001b[A\n",
      "dataset_L4_sula_local_moderado_epsg4326.tif windows:  39%|3| 831/2133 [00:53<01:\u001b[A\n",
      "dataset_L4_sula_local_moderado_epsg4326.tif windows:  39%|3| 833/2133 [00:53<01:\u001b[A\n",
      "dataset_L4_sula_local_moderado_epsg4326.tif windows:  39%|3| 835/2133 [00:54<01:\u001b[A\n",
      "dataset_L4_sula_local_moderado_epsg4326.tif windows:  39%|3| 837/2133 [00:54<01:\u001b[A\n",
      "dataset_L4_sula_local_moderado_epsg4326.tif windows:  39%|3| 839/2133 [00:54<01:\u001b[A\n",
      "dataset_L4_sula_local_moderado_epsg4326.tif windows:  39%|3| 841/2133 [00:54<01:\u001b[A\n",
      "dataset_L4_sula_local_moderado_epsg4326.tif windows:  40%|3| 843/2133 [00:54<01:\u001b[A\n",
      "dataset_L4_sula_local_moderado_epsg4326.tif windows:  40%|3| 845/2133 [00:54<01:\u001b[A\n",
      "dataset_L4_sula_local_moderado_epsg4326.tif windows:  40%|3| 847/2133 [00:54<01:\u001b[A\n",
      "dataset_L4_sula_local_moderado_epsg4326.tif windows:  40%|3| 849/2133 [00:54<01:\u001b[A\n",
      "dataset_L4_sula_local_moderado_epsg4326.tif windows:  40%|3| 851/2133 [00:55<01:\u001b[A\n",
      "dataset_L4_sula_local_moderado_epsg4326.tif windows:  40%|3| 853/2133 [00:55<01:\u001b[A\n",
      "dataset_L4_sula_local_moderado_epsg4326.tif windows:  40%|4| 855/2133 [00:55<01:\u001b[A\n",
      "dataset_L4_sula_local_moderado_epsg4326.tif windows:  40%|4| 857/2133 [00:55<01:\u001b[A\n",
      "dataset_L4_sula_local_moderado_epsg4326.tif windows:  40%|4| 859/2133 [00:55<01:\u001b[A\n",
      "dataset_L4_sula_local_moderado_epsg4326.tif windows:  40%|4| 861/2133 [00:55<01:\u001b[A\n",
      "dataset_L4_sula_local_moderado_epsg4326.tif windows:  40%|4| 863/2133 [00:55<01:\u001b[A\n",
      "dataset_L4_sula_local_moderado_epsg4326.tif windows:  41%|4| 865/2133 [00:56<01:\u001b[A\n",
      "dataset_L4_sula_local_moderado_epsg4326.tif windows:  41%|4| 867/2133 [00:56<01:\u001b[A\n",
      "dataset_L4_sula_local_moderado_epsg4326.tif windows:  41%|4| 869/2133 [00:56<01:\u001b[A\n",
      "dataset_L4_sula_local_moderado_epsg4326.tif windows:  41%|4| 871/2133 [00:56<01:\u001b[A\n",
      "dataset_L4_sula_local_moderado_epsg4326.tif windows:  41%|4| 873/2133 [00:56<01:\u001b[A\n",
      "dataset_L4_sula_local_moderado_epsg4326.tif windows:  41%|4| 875/2133 [00:56<01:\u001b[A\n",
      "dataset_L4_sula_local_moderado_epsg4326.tif windows:  41%|4| 877/2133 [00:56<01:\u001b[A\n",
      "dataset_L4_sula_local_moderado_epsg4326.tif windows:  41%|4| 879/2133 [00:56<01:\u001b[A\n",
      "dataset_L4_sula_local_moderado_epsg4326.tif windows:  41%|4| 881/2133 [00:57<01:\u001b[A\n",
      "dataset_L4_sula_local_moderado_epsg4326.tif windows:  41%|4| 883/2133 [00:57<01:\u001b[A\n",
      "dataset_L4_sula_local_moderado_epsg4326.tif windows:  41%|4| 885/2133 [00:57<01:\u001b[A\n",
      "dataset_L4_sula_local_moderado_epsg4326.tif windows:  42%|4| 887/2133 [00:57<01:\u001b[A\n",
      "dataset_L4_sula_local_moderado_epsg4326.tif windows:  42%|4| 889/2133 [00:57<01:\u001b[A\n",
      "dataset_L4_sula_local_moderado_epsg4326.tif windows:  42%|4| 891/2133 [00:57<01:\u001b[A\n",
      "dataset_L4_sula_local_moderado_epsg4326.tif windows:  42%|4| 893/2133 [00:57<01:\u001b[A\n",
      "dataset_L4_sula_local_moderado_epsg4326.tif windows:  42%|4| 895/2133 [00:57<01:\u001b[A\n",
      "dataset_L4_sula_local_moderado_epsg4326.tif windows:  42%|4| 897/2133 [00:58<01:\u001b[A\n",
      "dataset_L4_sula_local_moderado_epsg4326.tif windows:  42%|4| 899/2133 [00:58<01:\u001b[A\n",
      "dataset_L4_sula_local_moderado_epsg4326.tif windows:  42%|4| 901/2133 [00:58<01:\u001b[A\n",
      "dataset_L4_sula_local_moderado_epsg4326.tif windows:  42%|4| 903/2133 [00:58<01:\u001b[A\n",
      "dataset_L4_sula_local_moderado_epsg4326.tif windows:  42%|4| 905/2133 [00:58<01:\u001b[A\n",
      "dataset_L4_sula_local_moderado_epsg4326.tif windows:  43%|4| 907/2133 [00:58<01:\u001b[A\n",
      "dataset_L4_sula_local_moderado_epsg4326.tif windows:  43%|4| 909/2133 [00:58<01:\u001b[A\n",
      "dataset_L4_sula_local_moderado_epsg4326.tif windows:  43%|4| 911/2133 [00:58<01:\u001b[A\n",
      "dataset_L4_sula_local_moderado_epsg4326.tif windows:  43%|4| 913/2133 [00:59<01:\u001b[A\n",
      "dataset_L4_sula_local_moderado_epsg4326.tif windows:  43%|4| 915/2133 [00:59<01:\u001b[A\n",
      "dataset_L4_sula_local_moderado_epsg4326.tif windows:  43%|4| 917/2133 [00:59<01:\u001b[A\n",
      "dataset_L4_sula_local_moderado_epsg4326.tif windows:  43%|4| 919/2133 [00:59<01:\u001b[A\n",
      "dataset_L4_sula_local_moderado_epsg4326.tif windows:  43%|4| 921/2133 [00:59<01:\u001b[A\n",
      "dataset_L4_sula_local_moderado_epsg4326.tif windows:  43%|4| 923/2133 [00:59<01:\u001b[A\n",
      "dataset_L4_sula_local_moderado_epsg4326.tif windows:  43%|4| 925/2133 [00:59<01:\u001b[A\n",
      "dataset_L4_sula_local_moderado_epsg4326.tif windows:  43%|4| 927/2133 [00:59<01:\u001b[A\n",
      "dataset_L4_sula_local_moderado_epsg4326.tif windows:  44%|4| 929/2133 [01:00<01:\u001b[A\n",
      "dataset_L4_sula_local_moderado_epsg4326.tif windows:  44%|4| 931/2133 [01:00<01:\u001b[A\n",
      "dataset_L4_sula_local_moderado_epsg4326.tif windows:  44%|4| 933/2133 [01:00<01:\u001b[A\n",
      "dataset_L4_sula_local_moderado_epsg4326.tif windows:  44%|4| 935/2133 [01:00<01:\u001b[A\n",
      "dataset_L4_sula_local_moderado_epsg4326.tif windows:  44%|4| 937/2133 [01:00<01:\u001b[A\n",
      "dataset_L4_sula_local_moderado_epsg4326.tif windows:  44%|4| 939/2133 [01:00<01:\u001b[A\n",
      "dataset_L4_sula_local_moderado_epsg4326.tif windows:  44%|4| 941/2133 [01:00<01:\u001b[A\n",
      "dataset_L4_sula_local_moderado_epsg4326.tif windows:  44%|4| 943/2133 [01:01<01:\u001b[A\n",
      "dataset_L4_sula_local_moderado_epsg4326.tif windows:  44%|4| 945/2133 [01:01<01:\u001b[A\n",
      "dataset_L4_sula_local_moderado_epsg4326.tif windows:  44%|4| 947/2133 [01:01<01:\u001b[A\n",
      "dataset_L4_sula_local_moderado_epsg4326.tif windows:  44%|4| 949/2133 [01:01<01:\u001b[A\n",
      "dataset_L4_sula_local_moderado_epsg4326.tif windows:  45%|4| 951/2133 [01:01<01:\u001b[A\n",
      "dataset_L4_sula_local_moderado_epsg4326.tif windows:  45%|4| 953/2133 [01:01<01:\u001b[A\n",
      "dataset_L4_sula_local_moderado_epsg4326.tif windows:  45%|4| 955/2133 [01:01<01:\u001b[A\n",
      "dataset_L4_sula_local_moderado_epsg4326.tif windows:  45%|4| 957/2133 [01:01<01:\u001b[A\n",
      "dataset_L4_sula_local_moderado_epsg4326.tif windows:  45%|4| 959/2133 [01:02<01:\u001b[A\n",
      "dataset_L4_sula_local_moderado_epsg4326.tif windows:  45%|4| 961/2133 [01:02<01:\u001b[A\n",
      "dataset_L4_sula_local_moderado_epsg4326.tif windows:  45%|4| 963/2133 [01:02<01:\u001b[A\n",
      "dataset_L4_sula_local_moderado_epsg4326.tif windows:  45%|4| 965/2133 [01:02<01:\u001b[A\n",
      "dataset_L4_sula_local_moderado_epsg4326.tif windows:  45%|4| 967/2133 [01:02<01:\u001b[A\n",
      "dataset_L4_sula_local_moderado_epsg4326.tif windows:  45%|4| 969/2133 [01:02<01:\u001b[A\n",
      "dataset_L4_sula_local_moderado_epsg4326.tif windows:  46%|4| 971/2133 [01:02<01:\u001b[A\n",
      "dataset_L4_sula_local_moderado_epsg4326.tif windows:  46%|4| 973/2133 [01:02<01:\u001b[A\n",
      "dataset_L4_sula_local_moderado_epsg4326.tif windows:  46%|4| 975/2133 [01:03<01:\u001b[A\n",
      "dataset_L4_sula_local_moderado_epsg4326.tif windows:  46%|4| 977/2133 [01:03<01:\u001b[A\n",
      "dataset_L4_sula_local_moderado_epsg4326.tif windows:  46%|4| 979/2133 [01:03<01:\u001b[A\n",
      "dataset_L4_sula_local_moderado_epsg4326.tif windows:  46%|4| 981/2133 [01:03<01:\u001b[A\n",
      "dataset_L4_sula_local_moderado_epsg4326.tif windows:  46%|4| 983/2133 [01:03<01:\u001b[A\n",
      "dataset_L4_sula_local_moderado_epsg4326.tif windows:  46%|4| 985/2133 [01:03<01:\u001b[A\n",
      "dataset_L4_sula_local_moderado_epsg4326.tif windows:  46%|4| 987/2133 [01:03<01:\u001b[A\n",
      "dataset_L4_sula_local_moderado_epsg4326.tif windows:  46%|4| 989/2133 [01:03<01:\u001b[A\n",
      "dataset_L4_sula_local_moderado_epsg4326.tif windows:  46%|4| 991/2133 [01:04<01:\u001b[A\n",
      "dataset_L4_sula_local_moderado_epsg4326.tif windows:  47%|4| 993/2133 [01:04<01:\u001b[A\n",
      "dataset_L4_sula_local_moderado_epsg4326.tif windows:  47%|4| 995/2133 [01:04<01:\u001b[A\n",
      "dataset_L4_sula_local_moderado_epsg4326.tif windows:  47%|4| 997/2133 [01:04<01:\u001b[A\n",
      "dataset_L4_sula_local_moderado_epsg4326.tif windows:  47%|4| 999/2133 [01:04<01:\u001b[A\n",
      "dataset_L4_sula_local_moderado_epsg4326.tif windows:  47%|4| 1001/2133 [01:04<01\u001b[A\n",
      "dataset_L4_sula_local_moderado_epsg4326.tif windows:  47%|4| 1003/2133 [01:04<01\u001b[A\n",
      "dataset_L4_sula_local_moderado_epsg4326.tif windows:  47%|4| 1005/2133 [01:04<01\u001b[A\n",
      "dataset_L4_sula_local_moderado_epsg4326.tif windows:  47%|4| 1007/2133 [01:05<01\u001b[A\n",
      "dataset_L4_sula_local_moderado_epsg4326.tif windows:  47%|4| 1009/2133 [01:05<01\u001b[A\n",
      "dataset_L4_sula_local_moderado_epsg4326.tif windows:  47%|4| 1011/2133 [01:05<01\u001b[A\n",
      "dataset_L4_sula_local_moderado_epsg4326.tif windows:  47%|4| 1013/2133 [01:05<01\u001b[A\n",
      "dataset_L4_sula_local_moderado_epsg4326.tif windows:  48%|4| 1015/2133 [01:05<01\u001b[A\n",
      "dataset_L4_sula_local_moderado_epsg4326.tif windows:  48%|4| 1017/2133 [01:05<01\u001b[A\n",
      "dataset_L4_sula_local_moderado_epsg4326.tif windows:  48%|4| 1019/2133 [01:05<01\u001b[A\n",
      "dataset_L4_sula_local_moderado_epsg4326.tif windows:  48%|4| 1021/2133 [01:06<01\u001b[A\n",
      "dataset_L4_sula_local_moderado_epsg4326.tif windows:  48%|4| 1023/2133 [01:06<01\u001b[A\n",
      "dataset_L4_sula_local_moderado_epsg4326.tif windows:  48%|4| 1025/2133 [01:06<01\u001b[A\n",
      "dataset_L4_sula_local_moderado_epsg4326.tif windows:  48%|4| 1027/2133 [01:06<01\u001b[A\n",
      "dataset_L4_sula_local_moderado_epsg4326.tif windows:  48%|4| 1029/2133 [01:06<01\u001b[A\n",
      "dataset_L4_sula_local_moderado_epsg4326.tif windows:  48%|4| 1031/2133 [01:06<01\u001b[A\n",
      "dataset_L4_sula_local_moderado_epsg4326.tif windows:  48%|4| 1033/2133 [01:06<01\u001b[A\n",
      "dataset_L4_sula_local_moderado_epsg4326.tif windows:  49%|4| 1035/2133 [01:06<01\u001b[A\n",
      "dataset_L4_sula_local_moderado_epsg4326.tif windows:  49%|4| 1037/2133 [01:07<01\u001b[A\n",
      "dataset_L4_sula_local_moderado_epsg4326.tif windows:  49%|4| 1039/2133 [01:07<01\u001b[A\n",
      "dataset_L4_sula_local_moderado_epsg4326.tif windows:  49%|4| 1041/2133 [01:07<01\u001b[A\n",
      "dataset_L4_sula_local_moderado_epsg4326.tif windows:  49%|4| 1043/2133 [01:07<01\u001b[A\n",
      "dataset_L4_sula_local_moderado_epsg4326.tif windows:  49%|4| 1045/2133 [01:07<01\u001b[A\n",
      "dataset_L4_sula_local_moderado_epsg4326.tif windows:  49%|4| 1047/2133 [01:07<01\u001b[A\n",
      "dataset_L4_sula_local_moderado_epsg4326.tif windows:  49%|4| 1049/2133 [01:07<01\u001b[A\n",
      "dataset_L4_sula_local_moderado_epsg4326.tif windows:  49%|4| 1051/2133 [01:07<01\u001b[A\n",
      "dataset_L4_sula_local_moderado_epsg4326.tif windows:  49%|4| 1053/2133 [01:08<01\u001b[A\n",
      "dataset_L4_sula_local_moderado_epsg4326.tif windows:  49%|4| 1055/2133 [01:08<01\u001b[A\n",
      "dataset_L4_sula_local_moderado_epsg4326.tif windows:  50%|4| 1057/2133 [01:08<01\u001b[A\n",
      "dataset_L4_sula_local_moderado_epsg4326.tif windows:  50%|4| 1059/2133 [01:08<01\u001b[A\n",
      "dataset_L4_sula_local_moderado_epsg4326.tif windows:  50%|4| 1061/2133 [01:08<01\u001b[A\n",
      "dataset_L4_sula_local_moderado_epsg4326.tif windows:  50%|4| 1063/2133 [01:08<01\u001b[A\n",
      "dataset_L4_sula_local_moderado_epsg4326.tif windows:  50%|4| 1065/2133 [01:08<01\u001b[A\n",
      "dataset_L4_sula_local_moderado_epsg4326.tif windows:  50%|5| 1067/2133 [01:08<01\u001b[A\n",
      "dataset_L4_sula_local_moderado_epsg4326.tif windows:  50%|5| 1069/2133 [01:09<01\u001b[A\n",
      "dataset_L4_sula_local_moderado_epsg4326.tif windows:  50%|5| 1071/2133 [01:09<01\u001b[A\n",
      "dataset_L4_sula_local_moderado_epsg4326.tif windows:  50%|5| 1073/2133 [01:09<01\u001b[A\n",
      "dataset_L4_sula_local_moderado_epsg4326.tif windows:  50%|5| 1075/2133 [01:09<01\u001b[A\n",
      "dataset_L4_sula_local_moderado_epsg4326.tif windows:  50%|5| 1077/2133 [01:09<01\u001b[A\n",
      "dataset_L4_sula_local_moderado_epsg4326.tif windows:  51%|5| 1079/2133 [01:09<01\u001b[A\n",
      "dataset_L4_sula_local_moderado_epsg4326.tif windows:  51%|5| 1081/2133 [01:09<01\u001b[A\n",
      "dataset_L4_sula_local_moderado_epsg4326.tif windows:  51%|5| 1083/2133 [01:09<01\u001b[A\n",
      "dataset_L4_sula_local_moderado_epsg4326.tif windows:  51%|5| 1085/2133 [01:10<01\u001b[A\n",
      "dataset_L4_sula_local_moderado_epsg4326.tif windows:  51%|5| 1087/2133 [01:10<01\u001b[A\n",
      "dataset_L4_sula_local_moderado_epsg4326.tif windows:  51%|5| 1089/2133 [01:10<01\u001b[A\n",
      "dataset_L4_sula_local_moderado_epsg4326.tif windows:  51%|5| 1091/2133 [01:10<01\u001b[A\n",
      "dataset_L4_sula_local_moderado_epsg4326.tif windows:  51%|5| 1093/2133 [01:10<01\u001b[A\n",
      "dataset_L4_sula_local_moderado_epsg4326.tif windows:  51%|5| 1095/2133 [01:10<01\u001b[A\n",
      "dataset_L4_sula_local_moderado_epsg4326.tif windows:  51%|5| 1097/2133 [01:10<01\u001b[A\n",
      "dataset_L4_sula_local_moderado_epsg4326.tif windows:  52%|5| 1099/2133 [01:11<01\u001b[A\n",
      "dataset_L4_sula_local_moderado_epsg4326.tif windows:  52%|5| 1101/2133 [01:11<01\u001b[A\n",
      "dataset_L4_sula_local_moderado_epsg4326.tif windows:  52%|5| 1103/2133 [01:11<01\u001b[A\n",
      "dataset_L4_sula_local_moderado_epsg4326.tif windows:  52%|5| 1105/2133 [01:11<01\u001b[A\n",
      "dataset_L4_sula_local_moderado_epsg4326.tif windows:  52%|5| 1107/2133 [01:11<01\u001b[A\n",
      "dataset_L4_sula_local_moderado_epsg4326.tif windows:  52%|5| 1109/2133 [01:11<01\u001b[A\n",
      "dataset_L4_sula_local_moderado_epsg4326.tif windows:  52%|5| 1111/2133 [01:11<01\u001b[A\n",
      "dataset_L4_sula_local_moderado_epsg4326.tif windows:  52%|5| 1113/2133 [01:11<01\u001b[A\n",
      "dataset_L4_sula_local_moderado_epsg4326.tif windows:  52%|5| 1115/2133 [01:12<01\u001b[A\n",
      "dataset_L4_sula_local_moderado_epsg4326.tif windows:  52%|5| 1117/2133 [01:12<01\u001b[A\n",
      "dataset_L4_sula_local_moderado_epsg4326.tif windows:  52%|5| 1119/2133 [01:12<01\u001b[A\n",
      "dataset_L4_sula_local_moderado_epsg4326.tif windows:  53%|5| 1121/2133 [01:12<01\u001b[A\n",
      "dataset_L4_sula_local_moderado_epsg4326.tif windows:  53%|5| 1123/2133 [01:12<01\u001b[A\n",
      "dataset_L4_sula_local_moderado_epsg4326.tif windows:  53%|5| 1125/2133 [01:12<01\u001b[A\n",
      "dataset_L4_sula_local_moderado_epsg4326.tif windows:  53%|5| 1127/2133 [01:12<01\u001b[A\n",
      "dataset_L4_sula_local_moderado_epsg4326.tif windows:  53%|5| 1129/2133 [01:12<01\u001b[A\n",
      "dataset_L4_sula_local_moderado_epsg4326.tif windows:  53%|5| 1131/2133 [01:13<01\u001b[A\n",
      "dataset_L4_sula_local_moderado_epsg4326.tif windows:  53%|5| 1133/2133 [01:13<01\u001b[A\n",
      "dataset_L4_sula_local_moderado_epsg4326.tif windows:  53%|5| 1135/2133 [01:13<01\u001b[A\n",
      "dataset_L4_sula_local_moderado_epsg4326.tif windows:  53%|5| 1137/2133 [01:13<01\u001b[A\n",
      "dataset_L4_sula_local_moderado_epsg4326.tif windows:  53%|5| 1139/2133 [01:13<01\u001b[A\n",
      "dataset_L4_sula_local_moderado_epsg4326.tif windows:  53%|5| 1141/2133 [01:13<01\u001b[A\n",
      "dataset_L4_sula_local_moderado_epsg4326.tif windows:  54%|5| 1143/2133 [01:13<01\u001b[A\n",
      "dataset_L4_sula_local_moderado_epsg4326.tif windows:  54%|5| 1145/2133 [01:13<01\u001b[A\n",
      "dataset_L4_sula_local_moderado_epsg4326.tif windows:  54%|5| 1147/2133 [01:14<01\u001b[A\n",
      "dataset_L4_sula_local_moderado_epsg4326.tif windows:  54%|5| 1149/2133 [01:14<01\u001b[A\n",
      "dataset_L4_sula_local_moderado_epsg4326.tif windows:  54%|5| 1151/2133 [01:14<01\u001b[A\n",
      "dataset_L4_sula_local_moderado_epsg4326.tif windows:  54%|5| 1153/2133 [01:14<01\u001b[A\n",
      "dataset_L4_sula_local_moderado_epsg4326.tif windows:  54%|5| 1155/2133 [01:14<01\u001b[A\n",
      "dataset_L4_sula_local_moderado_epsg4326.tif windows:  54%|5| 1157/2133 [01:14<01\u001b[A\n",
      "dataset_L4_sula_local_moderado_epsg4326.tif windows:  54%|5| 1159/2133 [01:14<01\u001b[A\n",
      "dataset_L4_sula_local_moderado_epsg4326.tif windows:  54%|5| 1161/2133 [01:14<01\u001b[A\n",
      "dataset_L4_sula_local_moderado_epsg4326.tif windows:  55%|5| 1163/2133 [01:15<01\u001b[A\n",
      "dataset_L4_sula_local_moderado_epsg4326.tif windows:  55%|5| 1165/2133 [01:15<01\u001b[A\n",
      "dataset_L4_sula_local_moderado_epsg4326.tif windows:  55%|5| 1167/2133 [01:15<00\u001b[A\n",
      "dataset_L4_sula_local_moderado_epsg4326.tif windows:  55%|5| 1169/2133 [01:15<01\u001b[A\n",
      "dataset_L4_sula_local_moderado_epsg4326.tif windows:  55%|5| 1171/2133 [01:15<01\u001b[A\n",
      "dataset_L4_sula_local_moderado_epsg4326.tif windows:  55%|5| 1173/2133 [01:15<01\u001b[A\n",
      "dataset_L4_sula_local_moderado_epsg4326.tif windows:  55%|5| 1175/2133 [01:15<01\u001b[A\n",
      "dataset_L4_sula_local_moderado_epsg4326.tif windows:  55%|5| 1177/2133 [01:16<01\u001b[A\n",
      "dataset_L4_sula_local_moderado_epsg4326.tif windows:  55%|5| 1179/2133 [01:16<01\u001b[A\n",
      "dataset_L4_sula_local_moderado_epsg4326.tif windows:  55%|5| 1181/2133 [01:16<00\u001b[A\n",
      "dataset_L4_sula_local_moderado_epsg4326.tif windows:  55%|5| 1183/2133 [01:16<00\u001b[A\n",
      "dataset_L4_sula_local_moderado_epsg4326.tif windows:  56%|5| 1185/2133 [01:16<00\u001b[A\n",
      "dataset_L4_sula_local_moderado_epsg4326.tif windows:  56%|5| 1187/2133 [01:16<01\u001b[A\n",
      "dataset_L4_sula_local_moderado_epsg4326.tif windows:  56%|5| 1189/2133 [01:16<00\u001b[A\n",
      "dataset_L4_sula_local_moderado_epsg4326.tif windows:  56%|5| 1191/2133 [01:16<00\u001b[A\n",
      "dataset_L4_sula_local_moderado_epsg4326.tif windows:  56%|5| 1193/2133 [01:17<00\u001b[A\n",
      "dataset_L4_sula_local_moderado_epsg4326.tif windows:  56%|5| 1195/2133 [01:17<00\u001b[A\n",
      "dataset_L4_sula_local_moderado_epsg4326.tif windows:  56%|5| 1197/2133 [01:17<00\u001b[A\n",
      "dataset_L4_sula_local_moderado_epsg4326.tif windows:  56%|5| 1199/2133 [01:17<00\u001b[A\n",
      "dataset_L4_sula_local_moderado_epsg4326.tif windows:  56%|5| 1201/2133 [01:17<00\u001b[A\n",
      "dataset_L4_sula_local_moderado_epsg4326.tif windows:  56%|5| 1203/2133 [01:17<00\u001b[A\n",
      "dataset_L4_sula_local_moderado_epsg4326.tif windows:  56%|5| 1205/2133 [01:17<00\u001b[A\n",
      "dataset_L4_sula_local_moderado_epsg4326.tif windows:  57%|5| 1207/2133 [01:17<00\u001b[A\n",
      "dataset_L4_sula_local_moderado_epsg4326.tif windows:  57%|5| 1209/2133 [01:18<00\u001b[A\n",
      "dataset_L4_sula_local_moderado_epsg4326.tif windows:  57%|5| 1211/2133 [01:18<00\u001b[A\n",
      "dataset_L4_sula_local_moderado_epsg4326.tif windows:  57%|5| 1213/2133 [01:18<00\u001b[A\n",
      "dataset_L4_sula_local_moderado_epsg4326.tif windows:  57%|5| 1215/2133 [01:18<01\u001b[A\n",
      "dataset_L4_sula_local_moderado_epsg4326.tif windows:  57%|5| 1217/2133 [01:18<00\u001b[A\n",
      "dataset_L4_sula_local_moderado_epsg4326.tif windows:  57%|5| 1219/2133 [01:18<00\u001b[A\n",
      "dataset_L4_sula_local_moderado_epsg4326.tif windows:  57%|5| 1221/2133 [01:18<00\u001b[A\n",
      "dataset_L4_sula_local_moderado_epsg4326.tif windows:  57%|5| 1223/2133 [01:18<00\u001b[A\n",
      "dataset_L4_sula_local_moderado_epsg4326.tif windows:  57%|5| 1225/2133 [01:19<00\u001b[A\n",
      "dataset_L4_sula_local_moderado_epsg4326.tif windows:  58%|5| 1227/2133 [01:19<00\u001b[A\n",
      "dataset_L4_sula_local_moderado_epsg4326.tif windows:  58%|5| 1229/2133 [01:19<00\u001b[A\n",
      "dataset_L4_sula_local_moderado_epsg4326.tif windows:  58%|5| 1231/2133 [01:19<00\u001b[A\n",
      "dataset_L4_sula_local_moderado_epsg4326.tif windows:  58%|5| 1233/2133 [01:19<00\u001b[A\n",
      "dataset_L4_sula_local_moderado_epsg4326.tif windows:  58%|5| 1235/2133 [01:19<00\u001b[A\n",
      "dataset_L4_sula_local_moderado_epsg4326.tif windows:  58%|5| 1237/2133 [01:19<00\u001b[A\n",
      "dataset_L4_sula_local_moderado_epsg4326.tif windows:  58%|5| 1239/2133 [01:19<00\u001b[A\n",
      "dataset_L4_sula_local_moderado_epsg4326.tif windows:  58%|5| 1241/2133 [01:19<00\u001b[A\n",
      "dataset_L4_sula_local_moderado_epsg4326.tif windows:  58%|5| 1243/2133 [01:20<00\u001b[A\n",
      "dataset_L4_sula_local_moderado_epsg4326.tif windows:  58%|5| 1245/2133 [01:20<00\u001b[A\n",
      "dataset_L4_sula_local_moderado_epsg4326.tif windows:  58%|5| 1247/2133 [01:20<00\u001b[A\n",
      "dataset_L4_sula_local_moderado_epsg4326.tif windows:  59%|5| 1249/2133 [01:20<01\u001b[A\n",
      "dataset_L4_sula_local_moderado_epsg4326.tif windows:  59%|5| 1251/2133 [01:20<01\u001b[A\n",
      "dataset_L4_sula_local_moderado_epsg4326.tif windows:  59%|5| 1253/2133 [01:20<01\u001b[A\n",
      "dataset_L4_sula_local_moderado_epsg4326.tif windows:  59%|5| 1255/2133 [01:20<01\u001b[A\n",
      "dataset_L4_sula_local_moderado_epsg4326.tif windows:  59%|5| 1257/2133 [01:21<00\u001b[A\n",
      "dataset_L4_sula_local_moderado_epsg4326.tif windows:  59%|5| 1259/2133 [01:21<00\u001b[A\n",
      "dataset_L4_sula_local_moderado_epsg4326.tif windows:  59%|5| 1261/2133 [01:21<00\u001b[A\n",
      "dataset_L4_sula_local_moderado_epsg4326.tif windows:  59%|5| 1263/2133 [01:21<00\u001b[A\n",
      "dataset_L4_sula_local_moderado_epsg4326.tif windows:  59%|5| 1265/2133 [01:21<00\u001b[A\n",
      "dataset_L4_sula_local_moderado_epsg4326.tif windows:  59%|5| 1267/2133 [01:21<00\u001b[A\n",
      "dataset_L4_sula_local_moderado_epsg4326.tif windows:  59%|5| 1269/2133 [01:21<00\u001b[A\n",
      "dataset_L4_sula_local_moderado_epsg4326.tif windows:  60%|5| 1271/2133 [01:22<00\u001b[A\n",
      "dataset_L4_sula_local_moderado_epsg4326.tif windows:  60%|5| 1273/2133 [01:22<00\u001b[A\n",
      "dataset_L4_sula_local_moderado_epsg4326.tif windows:  60%|5| 1275/2133 [01:22<00\u001b[A\n",
      "dataset_L4_sula_local_moderado_epsg4326.tif windows:  60%|5| 1277/2133 [01:22<00\u001b[A\n",
      "dataset_L4_sula_local_moderado_epsg4326.tif windows:  60%|5| 1279/2133 [01:22<00\u001b[A\n",
      "dataset_L4_sula_local_moderado_epsg4326.tif windows:  60%|6| 1281/2133 [01:22<00\u001b[A\n",
      "dataset_L4_sula_local_moderado_epsg4326.tif windows:  60%|6| 1283/2133 [01:22<00\u001b[A\n",
      "dataset_L4_sula_local_moderado_epsg4326.tif windows:  60%|6| 1285/2133 [01:22<00\u001b[A\n",
      "dataset_L4_sula_local_moderado_epsg4326.tif windows:  60%|6| 1287/2133 [01:23<00\u001b[A\n",
      "dataset_L4_sula_local_moderado_epsg4326.tif windows:  60%|6| 1289/2133 [01:23<00\u001b[A\n",
      "dataset_L4_sula_local_moderado_epsg4326.tif windows:  61%|6| 1291/2133 [01:23<00\u001b[A\n",
      "dataset_L4_sula_local_moderado_epsg4326.tif windows:  61%|6| 1293/2133 [01:23<00\u001b[A\n",
      "dataset_L4_sula_local_moderado_epsg4326.tif windows:  61%|6| 1295/2133 [01:23<00\u001b[A\n",
      "dataset_L4_sula_local_moderado_epsg4326.tif windows:  61%|6| 1297/2133 [01:23<00\u001b[A\n",
      "dataset_L4_sula_local_moderado_epsg4326.tif windows:  61%|6| 1299/2133 [01:23<00\u001b[A\n",
      "dataset_L4_sula_local_moderado_epsg4326.tif windows:  61%|6| 1301/2133 [01:23<00\u001b[A\n",
      "dataset_L4_sula_local_moderado_epsg4326.tif windows:  61%|6| 1303/2133 [01:24<00\u001b[A\n",
      "dataset_L4_sula_local_moderado_epsg4326.tif windows:  61%|6| 1305/2133 [01:24<00\u001b[A\n",
      "dataset_L4_sula_local_moderado_epsg4326.tif windows:  61%|6| 1307/2133 [01:24<00\u001b[A\n",
      "dataset_L4_sula_local_moderado_epsg4326.tif windows:  61%|6| 1309/2133 [01:24<00\u001b[A\n",
      "dataset_L4_sula_local_moderado_epsg4326.tif windows:  61%|6| 1311/2133 [01:24<00\u001b[A\n",
      "dataset_L4_sula_local_moderado_epsg4326.tif windows:  62%|6| 1313/2133 [01:24<00\u001b[A\n",
      "dataset_L4_sula_local_moderado_epsg4326.tif windows:  62%|6| 1315/2133 [01:24<00\u001b[A\n",
      "dataset_L4_sula_local_moderado_epsg4326.tif windows:  62%|6| 1317/2133 [01:24<00\u001b[A\n",
      "dataset_L4_sula_local_moderado_epsg4326.tif windows:  62%|6| 1319/2133 [01:25<00\u001b[A\n",
      "dataset_L4_sula_local_moderado_epsg4326.tif windows:  62%|6| 1321/2133 [01:25<00\u001b[A\n",
      "dataset_L4_sula_local_moderado_epsg4326.tif windows:  62%|6| 1323/2133 [01:25<00\u001b[A\n",
      "dataset_L4_sula_local_moderado_epsg4326.tif windows:  62%|6| 1325/2133 [01:25<00\u001b[A\n",
      "dataset_L4_sula_local_moderado_epsg4326.tif windows:  62%|6| 1327/2133 [01:25<00\u001b[A\n",
      "dataset_L4_sula_local_moderado_epsg4326.tif windows:  62%|6| 1329/2133 [01:25<00\u001b[A\n",
      "dataset_L4_sula_local_moderado_epsg4326.tif windows:  62%|6| 1331/2133 [01:25<00\u001b[A\n",
      "dataset_L4_sula_local_moderado_epsg4326.tif windows:  62%|6| 1333/2133 [01:26<00\u001b[A\n",
      "dataset_L4_sula_local_moderado_epsg4326.tif windows:  63%|6| 1335/2133 [01:26<00\u001b[A\n",
      "dataset_L4_sula_local_moderado_epsg4326.tif windows:  63%|6| 1337/2133 [01:26<00\u001b[A\n",
      "dataset_L4_sula_local_moderado_epsg4326.tif windows:  63%|6| 1339/2133 [01:26<00\u001b[A\n",
      "dataset_L4_sula_local_moderado_epsg4326.tif windows:  63%|6| 1341/2133 [01:26<00\u001b[A\n",
      "dataset_L4_sula_local_moderado_epsg4326.tif windows:  63%|6| 1343/2133 [01:26<00\u001b[A\n",
      "dataset_L4_sula_local_moderado_epsg4326.tif windows:  63%|6| 1345/2133 [01:26<00\u001b[A\n",
      "dataset_L4_sula_local_moderado_epsg4326.tif windows:  63%|6| 1347/2133 [01:26<00\u001b[A\n",
      "dataset_L4_sula_local_moderado_epsg4326.tif windows:  63%|6| 1349/2133 [01:26<00\u001b[A\n",
      "dataset_L4_sula_local_moderado_epsg4326.tif windows:  63%|6| 1351/2133 [01:27<00\u001b[A\n",
      "dataset_L4_sula_local_moderado_epsg4326.tif windows:  63%|6| 1353/2133 [01:27<00\u001b[A\n",
      "dataset_L4_sula_local_moderado_epsg4326.tif windows:  64%|6| 1355/2133 [01:27<00\u001b[A\n",
      "dataset_L4_sula_local_moderado_epsg4326.tif windows:  64%|6| 1357/2133 [01:27<00\u001b[A\n",
      "dataset_L4_sula_local_moderado_epsg4326.tif windows:  64%|6| 1359/2133 [01:27<00\u001b[A\n",
      "dataset_L4_sula_local_moderado_epsg4326.tif windows:  64%|6| 1361/2133 [01:27<00\u001b[A\n",
      "dataset_L4_sula_local_moderado_epsg4326.tif windows:  64%|6| 1363/2133 [01:27<00\u001b[A\n",
      "dataset_L4_sula_local_moderado_epsg4326.tif windows:  64%|6| 1365/2133 [01:27<00\u001b[A\n",
      "dataset_L4_sula_local_moderado_epsg4326.tif windows:  64%|6| 1367/2133 [01:28<00\u001b[A\n",
      "dataset_L4_sula_local_moderado_epsg4326.tif windows:  64%|6| 1369/2133 [01:28<00\u001b[A\n",
      "dataset_L4_sula_local_moderado_epsg4326.tif windows:  64%|6| 1371/2133 [01:28<00\u001b[A\n",
      "dataset_L4_sula_local_moderado_epsg4326.tif windows:  64%|6| 1373/2133 [01:28<00\u001b[A\n",
      "dataset_L4_sula_local_moderado_epsg4326.tif windows:  64%|6| 1375/2133 [01:28<00\u001b[A\n",
      "dataset_L4_sula_local_moderado_epsg4326.tif windows:  65%|6| 1377/2133 [01:28<00\u001b[A\n",
      "dataset_L4_sula_local_moderado_epsg4326.tif windows:  65%|6| 1379/2133 [01:28<00\u001b[A\n",
      "dataset_L4_sula_local_moderado_epsg4326.tif windows:  65%|6| 1381/2133 [01:28<00\u001b[A\n",
      "dataset_L4_sula_local_moderado_epsg4326.tif windows:  65%|6| 1383/2133 [01:29<00\u001b[A\n",
      "dataset_L4_sula_local_moderado_epsg4326.tif windows:  65%|6| 1385/2133 [01:29<00\u001b[A\n",
      "dataset_L4_sula_local_moderado_epsg4326.tif windows:  65%|6| 1387/2133 [01:29<00\u001b[A\n",
      "dataset_L4_sula_local_moderado_epsg4326.tif windows:  65%|6| 1389/2133 [01:29<00\u001b[A\n",
      "dataset_L4_sula_local_moderado_epsg4326.tif windows:  65%|6| 1391/2133 [01:29<00\u001b[A\n",
      "dataset_L4_sula_local_moderado_epsg4326.tif windows:  65%|6| 1393/2133 [01:29<00\u001b[A\n",
      "dataset_L4_sula_local_moderado_epsg4326.tif windows:  65%|6| 1395/2133 [01:29<00\u001b[A\n",
      "dataset_L4_sula_local_moderado_epsg4326.tif windows:  65%|6| 1397/2133 [01:30<00\u001b[A\n",
      "dataset_L4_sula_local_moderado_epsg4326.tif windows:  66%|6| 1399/2133 [01:30<00\u001b[A\n",
      "dataset_L4_sula_local_moderado_epsg4326.tif windows:  66%|6| 1401/2133 [01:30<00\u001b[A\n",
      "dataset_L4_sula_local_moderado_epsg4326.tif windows:  66%|6| 1403/2133 [01:30<00\u001b[A\n",
      "dataset_L4_sula_local_moderado_epsg4326.tif windows:  66%|6| 1405/2133 [01:30<00\u001b[A\n",
      "dataset_L4_sula_local_moderado_epsg4326.tif windows:  66%|6| 1407/2133 [01:30<00\u001b[A\n",
      "dataset_L4_sula_local_moderado_epsg4326.tif windows:  66%|6| 1409/2133 [01:30<00\u001b[A\n",
      "dataset_L4_sula_local_moderado_epsg4326.tif windows:  66%|6| 1411/2133 [01:30<00\u001b[A\n",
      "dataset_L4_sula_local_moderado_epsg4326.tif windows:  66%|6| 1413/2133 [01:31<00\u001b[A\n",
      "dataset_L4_sula_local_moderado_epsg4326.tif windows:  66%|6| 1415/2133 [01:31<00\u001b[A\n",
      "dataset_L4_sula_local_moderado_epsg4326.tif windows:  66%|6| 1417/2133 [01:31<00\u001b[A\n",
      "dataset_L4_sula_local_moderado_epsg4326.tif windows:  67%|6| 1419/2133 [01:31<00\u001b[A\n",
      "dataset_L4_sula_local_moderado_epsg4326.tif windows:  67%|6| 1421/2133 [01:31<00\u001b[A\n",
      "dataset_L4_sula_local_moderado_epsg4326.tif windows:  67%|6| 1423/2133 [01:31<00\u001b[A\n",
      "dataset_L4_sula_local_moderado_epsg4326.tif windows:  67%|6| 1425/2133 [01:31<00\u001b[A\n",
      "dataset_L4_sula_local_moderado_epsg4326.tif windows:  67%|6| 1427/2133 [01:32<00\u001b[A\n",
      "dataset_L4_sula_local_moderado_epsg4326.tif windows:  67%|6| 1429/2133 [01:32<00\u001b[A\n",
      "dataset_L4_sula_local_moderado_epsg4326.tif windows:  67%|6| 1431/2133 [01:32<00\u001b[A\n",
      "dataset_L4_sula_local_moderado_epsg4326.tif windows:  67%|6| 1433/2133 [01:32<00\u001b[A\n",
      "dataset_L4_sula_local_moderado_epsg4326.tif windows:  67%|6| 1435/2133 [01:32<00\u001b[A\n",
      "dataset_L4_sula_local_moderado_epsg4326.tif windows:  67%|6| 1437/2133 [01:32<00\u001b[A\n",
      "dataset_L4_sula_local_moderado_epsg4326.tif windows:  67%|6| 1439/2133 [01:32<00\u001b[A\n",
      "dataset_L4_sula_local_moderado_epsg4326.tif windows:  68%|6| 1441/2133 [01:32<00\u001b[A\n",
      "dataset_L4_sula_local_moderado_epsg4326.tif windows:  68%|6| 1443/2133 [01:33<00\u001b[A\n",
      "dataset_L4_sula_local_moderado_epsg4326.tif windows:  68%|6| 1445/2133 [01:33<00\u001b[A\n",
      "dataset_L4_sula_local_moderado_epsg4326.tif windows:  68%|6| 1447/2133 [01:33<00\u001b[A\n",
      "dataset_L4_sula_local_moderado_epsg4326.tif windows:  68%|6| 1449/2133 [01:33<00\u001b[A\n",
      "dataset_L4_sula_local_moderado_epsg4326.tif windows:  68%|6| 1451/2133 [01:33<00\u001b[A\n",
      "dataset_L4_sula_local_moderado_epsg4326.tif windows:  68%|6| 1453/2133 [01:33<00\u001b[A\n",
      "dataset_L4_sula_local_moderado_epsg4326.tif windows:  68%|6| 1455/2133 [01:33<00\u001b[A\n",
      "dataset_L4_sula_local_moderado_epsg4326.tif windows:  68%|6| 1457/2133 [01:33<00\u001b[A\n",
      "dataset_L4_sula_local_moderado_epsg4326.tif windows:  68%|6| 1459/2133 [01:34<00\u001b[A\n",
      "dataset_L4_sula_local_moderado_epsg4326.tif windows:  68%|6| 1461/2133 [01:34<00\u001b[A\n",
      "dataset_L4_sula_local_moderado_epsg4326.tif windows:  69%|6| 1463/2133 [01:34<00\u001b[A\n",
      "dataset_L4_sula_local_moderado_epsg4326.tif windows:  69%|6| 1465/2133 [01:34<00\u001b[A\n",
      "dataset_L4_sula_local_moderado_epsg4326.tif windows:  69%|6| 1467/2133 [01:34<00\u001b[A\n",
      "dataset_L4_sula_local_moderado_epsg4326.tif windows:  69%|6| 1469/2133 [01:34<00\u001b[A\n",
      "dataset_L4_sula_local_moderado_epsg4326.tif windows:  69%|6| 1471/2133 [01:34<00\u001b[A\n",
      "dataset_L4_sula_local_moderado_epsg4326.tif windows:  69%|6| 1473/2133 [01:34<00\u001b[A\n",
      "dataset_L4_sula_local_moderado_epsg4326.tif windows:  69%|6| 1475/2133 [01:35<00\u001b[A\n",
      "dataset_L4_sula_local_moderado_epsg4326.tif windows:  69%|6| 1477/2133 [01:35<00\u001b[A\n",
      "dataset_L4_sula_local_moderado_epsg4326.tif windows:  69%|6| 1479/2133 [01:35<00\u001b[A\n",
      "dataset_L4_sula_local_moderado_epsg4326.tif windows:  69%|6| 1481/2133 [01:35<00\u001b[A\n",
      "dataset_L4_sula_local_moderado_epsg4326.tif windows:  70%|6| 1483/2133 [01:35<00\u001b[A\n",
      "dataset_L4_sula_local_moderado_epsg4326.tif windows:  70%|6| 1485/2133 [01:35<00\u001b[A\n",
      "dataset_L4_sula_local_moderado_epsg4326.tif windows:  70%|6| 1487/2133 [01:35<00\u001b[A\n",
      "dataset_L4_sula_local_moderado_epsg4326.tif windows:  70%|6| 1489/2133 [01:35<00\u001b[A\n",
      "dataset_L4_sula_local_moderado_epsg4326.tif windows:  70%|6| 1491/2133 [01:36<00\u001b[A\n",
      "dataset_L4_sula_local_moderado_epsg4326.tif windows:  70%|6| 1493/2133 [01:36<00\u001b[A\n",
      "dataset_L4_sula_local_moderado_epsg4326.tif windows:  70%|7| 1495/2133 [01:36<00\u001b[A\n",
      "dataset_L4_sula_local_moderado_epsg4326.tif windows:  70%|7| 1497/2133 [01:36<00\u001b[A\n",
      "dataset_L4_sula_local_moderado_epsg4326.tif windows:  70%|7| 1499/2133 [01:36<00\u001b[A\n",
      "dataset_L4_sula_local_moderado_epsg4326.tif windows:  70%|7| 1501/2133 [01:36<00\u001b[A\n",
      "dataset_L4_sula_local_moderado_epsg4326.tif windows:  70%|7| 1503/2133 [01:36<00\u001b[A\n",
      "dataset_L4_sula_local_moderado_epsg4326.tif windows:  71%|7| 1505/2133 [01:37<00\u001b[A\n",
      "dataset_L4_sula_local_moderado_epsg4326.tif windows:  71%|7| 1507/2133 [01:37<00\u001b[A\n",
      "dataset_L4_sula_local_moderado_epsg4326.tif windows:  71%|7| 1509/2133 [01:37<00\u001b[A\n",
      "dataset_L4_sula_local_moderado_epsg4326.tif windows:  71%|7| 1511/2133 [01:37<00\u001b[A\n",
      "dataset_L4_sula_local_moderado_epsg4326.tif windows:  71%|7| 1513/2133 [01:37<00\u001b[A\n",
      "dataset_L4_sula_local_moderado_epsg4326.tif windows:  71%|7| 1515/2133 [01:37<00\u001b[A\n",
      "dataset_L4_sula_local_moderado_epsg4326.tif windows:  71%|7| 1517/2133 [01:37<00\u001b[A\n",
      "dataset_L4_sula_local_moderado_epsg4326.tif windows:  71%|7| 1519/2133 [01:37<00\u001b[A\n",
      "dataset_L4_sula_local_moderado_epsg4326.tif windows:  71%|7| 1521/2133 [01:37<00\u001b[A\n",
      "dataset_L4_sula_local_moderado_epsg4326.tif windows:  71%|7| 1523/2133 [01:38<00\u001b[A\n",
      "dataset_L4_sula_local_moderado_epsg4326.tif windows:  71%|7| 1525/2133 [01:38<00\u001b[A\n",
      "dataset_L4_sula_local_moderado_epsg4326.tif windows:  72%|7| 1527/2133 [01:38<00\u001b[A\n",
      "dataset_L4_sula_local_moderado_epsg4326.tif windows:  72%|7| 1529/2133 [01:38<00\u001b[A\n",
      "dataset_L4_sula_local_moderado_epsg4326.tif windows:  72%|7| 1531/2133 [01:38<00\u001b[A\n",
      "dataset_L4_sula_local_moderado_epsg4326.tif windows:  72%|7| 1533/2133 [01:38<00\u001b[A\n",
      "dataset_L4_sula_local_moderado_epsg4326.tif windows:  72%|7| 1535/2133 [01:38<00\u001b[A\n",
      "dataset_L4_sula_local_moderado_epsg4326.tif windows:  72%|7| 1537/2133 [01:39<00\u001b[A\n",
      "dataset_L4_sula_local_moderado_epsg4326.tif windows:  72%|7| 1539/2133 [01:39<00\u001b[A\n",
      "dataset_L4_sula_local_moderado_epsg4326.tif windows:  72%|7| 1541/2133 [01:39<00\u001b[A\n",
      "dataset_L4_sula_local_moderado_epsg4326.tif windows:  72%|7| 1543/2133 [01:39<00\u001b[A\n",
      "dataset_L4_sula_local_moderado_epsg4326.tif windows:  72%|7| 1545/2133 [01:39<00\u001b[A\n",
      "dataset_L4_sula_local_moderado_epsg4326.tif windows:  73%|7| 1547/2133 [01:39<00\u001b[A\n",
      "dataset_L4_sula_local_moderado_epsg4326.tif windows:  73%|7| 1549/2133 [01:39<00\u001b[A\n",
      "dataset_L4_sula_local_moderado_epsg4326.tif windows:  73%|7| 1551/2133 [01:39<00\u001b[A\n",
      "dataset_L4_sula_local_moderado_epsg4326.tif windows:  73%|7| 1553/2133 [01:39<00\u001b[A\n",
      "dataset_L4_sula_local_moderado_epsg4326.tif windows:  73%|7| 1555/2133 [01:40<00\u001b[A\n",
      "dataset_L4_sula_local_moderado_epsg4326.tif windows:  73%|7| 1557/2133 [01:40<00\u001b[A\n",
      "dataset_L4_sula_local_moderado_epsg4326.tif windows:  73%|7| 1559/2133 [01:40<00\u001b[A\n",
      "dataset_L4_sula_local_moderado_epsg4326.tif windows:  73%|7| 1561/2133 [01:40<00\u001b[A\n",
      "dataset_L4_sula_local_moderado_epsg4326.tif windows:  73%|7| 1563/2133 [01:40<00\u001b[A\n",
      "dataset_L4_sula_local_moderado_epsg4326.tif windows:  73%|7| 1565/2133 [01:40<00\u001b[A\n",
      "dataset_L4_sula_local_moderado_epsg4326.tif windows:  73%|7| 1567/2133 [01:40<00\u001b[A\n",
      "dataset_L4_sula_local_moderado_epsg4326.tif windows:  74%|7| 1569/2133 [01:41<00\u001b[A\n",
      "dataset_L4_sula_local_moderado_epsg4326.tif windows:  74%|7| 1571/2133 [01:41<00\u001b[A\n",
      "dataset_L4_sula_local_moderado_epsg4326.tif windows:  74%|7| 1573/2133 [01:41<00\u001b[A\n",
      "dataset_L4_sula_local_moderado_epsg4326.tif windows:  74%|7| 1575/2133 [01:41<00\u001b[A\n",
      "dataset_L4_sula_local_moderado_epsg4326.tif windows:  74%|7| 1577/2133 [01:41<00\u001b[A\n",
      "dataset_L4_sula_local_moderado_epsg4326.tif windows:  74%|7| 1579/2133 [01:41<00\u001b[A\n",
      "dataset_L4_sula_local_moderado_epsg4326.tif windows:  74%|7| 1581/2133 [01:41<00\u001b[A\n",
      "dataset_L4_sula_local_moderado_epsg4326.tif windows:  74%|7| 1583/2133 [01:41<00\u001b[A\n",
      "dataset_L4_sula_local_moderado_epsg4326.tif windows:  74%|7| 1585/2133 [01:42<00\u001b[A\n",
      "dataset_L4_sula_local_moderado_epsg4326.tif windows:  74%|7| 1587/2133 [01:42<00\u001b[A\n",
      "dataset_L4_sula_local_moderado_epsg4326.tif windows:  74%|7| 1589/2133 [01:42<00\u001b[A\n",
      "dataset_L4_sula_local_moderado_epsg4326.tif windows:  75%|7| 1591/2133 [01:42<00\u001b[A\n",
      "dataset_L4_sula_local_moderado_epsg4326.tif windows:  75%|7| 1593/2133 [01:42<00\u001b[A\n",
      "dataset_L4_sula_local_moderado_epsg4326.tif windows:  75%|7| 1595/2133 [01:42<00\u001b[A\n",
      "dataset_L4_sula_local_moderado_epsg4326.tif windows:  75%|7| 1597/2133 [01:42<00\u001b[A\n",
      "dataset_L4_sula_local_moderado_epsg4326.tif windows:  75%|7| 1599/2133 [01:42<00\u001b[A\n",
      "dataset_L4_sula_local_moderado_epsg4326.tif windows:  75%|7| 1601/2133 [01:43<00\u001b[A\n",
      "dataset_L4_sula_local_moderado_epsg4326.tif windows:  75%|7| 1603/2133 [01:43<00\u001b[A\n",
      "dataset_L4_sula_local_moderado_epsg4326.tif windows:  75%|7| 1605/2133 [01:43<00\u001b[A\n",
      "dataset_L4_sula_local_moderado_epsg4326.tif windows:  75%|7| 1607/2133 [01:43<00\u001b[A\n",
      "dataset_L4_sula_local_moderado_epsg4326.tif windows:  75%|7| 1609/2133 [01:43<00\u001b[A\n",
      "dataset_L4_sula_local_moderado_epsg4326.tif windows:  76%|7| 1611/2133 [01:43<00\u001b[A\n",
      "dataset_L4_sula_local_moderado_epsg4326.tif windows:  76%|7| 1613/2133 [01:43<00\u001b[A\n",
      "dataset_L4_sula_local_moderado_epsg4326.tif windows:  76%|7| 1615/2133 [01:44<00\u001b[A\n",
      "dataset_L4_sula_local_moderado_epsg4326.tif windows:  76%|7| 1617/2133 [01:44<00\u001b[A\n",
      "dataset_L4_sula_local_moderado_epsg4326.tif windows:  76%|7| 1619/2133 [01:44<00\u001b[A\n",
      "dataset_L4_sula_local_moderado_epsg4326.tif windows:  76%|7| 1621/2133 [01:44<00\u001b[A\n",
      "dataset_L4_sula_local_moderado_epsg4326.tif windows:  76%|7| 1623/2133 [01:44<00\u001b[A\n",
      "dataset_L4_sula_local_moderado_epsg4326.tif windows:  76%|7| 1625/2133 [01:44<00\u001b[A\n",
      "dataset_L4_sula_local_moderado_epsg4326.tif windows:  76%|7| 1627/2133 [01:44<00\u001b[A\n",
      "dataset_L4_sula_local_moderado_epsg4326.tif windows:  76%|7| 1629/2133 [01:44<00\u001b[A\n",
      "dataset_L4_sula_local_moderado_epsg4326.tif windows:  76%|7| 1631/2133 [01:44<00\u001b[A\n",
      "dataset_L4_sula_local_moderado_epsg4326.tif windows:  77%|7| 1633/2133 [01:45<00\u001b[A\n",
      "dataset_L4_sula_local_moderado_epsg4326.tif windows:  77%|7| 1635/2133 [01:45<00\u001b[A\n",
      "dataset_L4_sula_local_moderado_epsg4326.tif windows:  77%|7| 1637/2133 [01:45<00\u001b[A\n",
      "dataset_L4_sula_local_moderado_epsg4326.tif windows:  77%|7| 1639/2133 [01:45<00\u001b[A\n",
      "dataset_L4_sula_local_moderado_epsg4326.tif windows:  77%|7| 1641/2133 [01:45<00\u001b[A\n",
      "dataset_L4_sula_local_moderado_epsg4326.tif windows:  77%|7| 1643/2133 [01:45<00\u001b[A\n",
      "dataset_L4_sula_local_moderado_epsg4326.tif windows:  77%|7| 1645/2133 [01:45<00\u001b[A\n",
      "dataset_L4_sula_local_moderado_epsg4326.tif windows:  77%|7| 1647/2133 [01:46<00\u001b[A\n",
      "dataset_L4_sula_local_moderado_epsg4326.tif windows:  77%|7| 1649/2133 [01:46<00\u001b[A\n",
      "dataset_L4_sula_local_moderado_epsg4326.tif windows:  77%|7| 1651/2133 [01:46<00\u001b[A\n",
      "dataset_L4_sula_local_moderado_epsg4326.tif windows:  77%|7| 1653/2133 [01:46<00\u001b[A\n",
      "dataset_L4_sula_local_moderado_epsg4326.tif windows:  78%|7| 1655/2133 [01:46<00\u001b[A\n",
      "dataset_L4_sula_local_moderado_epsg4326.tif windows:  78%|7| 1657/2133 [01:46<00\u001b[A\n",
      "dataset_L4_sula_local_moderado_epsg4326.tif windows:  78%|7| 1659/2133 [01:46<00\u001b[A\n",
      "dataset_L4_sula_local_moderado_epsg4326.tif windows:  78%|7| 1661/2133 [01:46<00\u001b[A\n",
      "dataset_L4_sula_local_moderado_epsg4326.tif windows:  78%|7| 1663/2133 [01:47<00\u001b[A\n",
      "dataset_L4_sula_local_moderado_epsg4326.tif windows:  78%|7| 1665/2133 [01:47<00\u001b[A\n",
      "dataset_L4_sula_local_moderado_epsg4326.tif windows:  78%|7| 1667/2133 [01:47<00\u001b[A\n",
      "dataset_L4_sula_local_moderado_epsg4326.tif windows:  78%|7| 1669/2133 [01:47<00\u001b[A\n",
      "dataset_L4_sula_local_moderado_epsg4326.tif windows:  78%|7| 1671/2133 [01:47<00\u001b[A\n",
      "dataset_L4_sula_local_moderado_epsg4326.tif windows:  78%|7| 1673/2133 [01:47<00\u001b[A\n",
      "dataset_L4_sula_local_moderado_epsg4326.tif windows:  79%|7| 1675/2133 [01:47<00\u001b[A\n",
      "dataset_L4_sula_local_moderado_epsg4326.tif windows:  79%|7| 1677/2133 [01:47<00\u001b[A\n",
      "dataset_L4_sula_local_moderado_epsg4326.tif windows:  79%|7| 1679/2133 [01:48<00\u001b[A\n",
      "dataset_L4_sula_local_moderado_epsg4326.tif windows:  79%|7| 1681/2133 [01:48<00\u001b[A\n",
      "dataset_L4_sula_local_moderado_epsg4326.tif windows:  79%|7| 1683/2133 [01:48<00\u001b[A\n",
      "dataset_L4_sula_local_moderado_epsg4326.tif windows:  79%|7| 1685/2133 [01:48<00\u001b[A\n",
      "dataset_L4_sula_local_moderado_epsg4326.tif windows:  79%|7| 1687/2133 [01:48<00\u001b[A\n",
      "dataset_L4_sula_local_moderado_epsg4326.tif windows:  79%|7| 1689/2133 [01:48<00\u001b[A\n",
      "dataset_L4_sula_local_moderado_epsg4326.tif windows:  79%|7| 1691/2133 [01:48<00\u001b[A\n",
      "dataset_L4_sula_local_moderado_epsg4326.tif windows:  79%|7| 1693/2133 [01:48<00\u001b[A\n",
      "dataset_L4_sula_local_moderado_epsg4326.tif windows:  79%|7| 1695/2133 [01:49<00\u001b[A\n",
      "dataset_L4_sula_local_moderado_epsg4326.tif windows:  80%|7| 1697/2133 [01:49<00\u001b[A\n",
      "dataset_L4_sula_local_moderado_epsg4326.tif windows:  80%|7| 1699/2133 [01:49<00\u001b[A\n",
      "dataset_L4_sula_local_moderado_epsg4326.tif windows:  80%|7| 1701/2133 [01:49<00\u001b[A\n",
      "dataset_L4_sula_local_moderado_epsg4326.tif windows:  80%|7| 1703/2133 [01:49<00\u001b[A\n",
      "dataset_L4_sula_local_moderado_epsg4326.tif windows:  80%|7| 1705/2133 [01:49<00\u001b[A\n",
      "dataset_L4_sula_local_moderado_epsg4326.tif windows:  80%|8| 1707/2133 [01:49<00\u001b[A\n",
      "dataset_L4_sula_local_moderado_epsg4326.tif windows:  80%|8| 1709/2133 [01:50<00\u001b[A\n",
      "dataset_L4_sula_local_moderado_epsg4326.tif windows:  80%|8| 1711/2133 [01:50<00\u001b[A\n",
      "dataset_L4_sula_local_moderado_epsg4326.tif windows:  80%|8| 1713/2133 [01:50<00\u001b[A\n",
      "dataset_L4_sula_local_moderado_epsg4326.tif windows:  80%|8| 1715/2133 [01:50<00\u001b[A\n",
      "dataset_L4_sula_local_moderado_epsg4326.tif windows:  80%|8| 1717/2133 [01:50<00\u001b[A\n",
      "dataset_L4_sula_local_moderado_epsg4326.tif windows:  81%|8| 1719/2133 [01:50<00\u001b[A\n",
      "dataset_L4_sula_local_moderado_epsg4326.tif windows:  81%|8| 1721/2133 [01:50<00\u001b[A\n",
      "dataset_L4_sula_local_moderado_epsg4326.tif windows:  81%|8| 1723/2133 [01:51<00\u001b[A\n",
      "dataset_L4_sula_local_moderado_epsg4326.tif windows:  81%|8| 1725/2133 [01:51<00\u001b[A\n",
      "dataset_L4_sula_local_moderado_epsg4326.tif windows:  81%|8| 1727/2133 [01:51<00\u001b[A\n",
      "dataset_L4_sula_local_moderado_epsg4326.tif windows:  81%|8| 1729/2133 [01:51<00\u001b[A\n",
      "dataset_L4_sula_local_moderado_epsg4326.tif windows:  81%|8| 1731/2133 [01:51<00\u001b[A\n",
      "dataset_L4_sula_local_moderado_epsg4326.tif windows:  81%|8| 1733/2133 [01:51<00\u001b[A\n",
      "dataset_L4_sula_local_moderado_epsg4326.tif windows:  81%|8| 1735/2133 [01:51<00\u001b[A\n",
      "dataset_L4_sula_local_moderado_epsg4326.tif windows:  81%|8| 1737/2133 [01:51<00\u001b[A\n",
      "dataset_L4_sula_local_moderado_epsg4326.tif windows:  82%|8| 1739/2133 [01:52<00\u001b[A\n",
      "dataset_L4_sula_local_moderado_epsg4326.tif windows:  82%|8| 1741/2133 [01:52<00\u001b[A\n",
      "dataset_L4_sula_local_moderado_epsg4326.tif windows:  82%|8| 1743/2133 [01:52<00\u001b[A\n",
      "dataset_L4_sula_local_moderado_epsg4326.tif windows:  82%|8| 1745/2133 [01:52<00\u001b[A\n",
      "dataset_L4_sula_local_moderado_epsg4326.tif windows:  82%|8| 1747/2133 [01:52<00\u001b[A\n",
      "dataset_L4_sula_local_moderado_epsg4326.tif windows:  82%|8| 1749/2133 [01:52<00\u001b[A\n",
      "dataset_L4_sula_local_moderado_epsg4326.tif windows:  82%|8| 1751/2133 [01:52<00\u001b[A\n",
      "dataset_L4_sula_local_moderado_epsg4326.tif windows:  82%|8| 1753/2133 [01:52<00\u001b[A\n",
      "dataset_L4_sula_local_moderado_epsg4326.tif windows:  82%|8| 1755/2133 [01:53<00\u001b[A\n",
      "dataset_L4_sula_local_moderado_epsg4326.tif windows:  82%|8| 1757/2133 [01:53<00\u001b[A\n",
      "dataset_L4_sula_local_moderado_epsg4326.tif windows:  82%|8| 1759/2133 [01:53<00\u001b[A\n",
      "dataset_L4_sula_local_moderado_epsg4326.tif windows:  83%|8| 1761/2133 [01:53<00\u001b[A\n",
      "dataset_L4_sula_local_moderado_epsg4326.tif windows:  83%|8| 1763/2133 [01:53<00\u001b[A\n",
      "dataset_L4_sula_local_moderado_epsg4326.tif windows:  83%|8| 1765/2133 [01:53<00\u001b[A\n",
      "dataset_L4_sula_local_moderado_epsg4326.tif windows:  83%|8| 1767/2133 [01:53<00\u001b[A\n",
      "dataset_L4_sula_local_moderado_epsg4326.tif windows:  83%|8| 1769/2133 [01:53<00\u001b[A\n",
      "dataset_L4_sula_local_moderado_epsg4326.tif windows:  83%|8| 1771/2133 [01:54<00\u001b[A\n",
      "dataset_L4_sula_local_moderado_epsg4326.tif windows:  83%|8| 1773/2133 [01:54<00\u001b[A\n",
      "dataset_L4_sula_local_moderado_epsg4326.tif windows:  83%|8| 1775/2133 [01:54<00\u001b[A\n",
      "dataset_L4_sula_local_moderado_epsg4326.tif windows:  83%|8| 1777/2133 [01:54<00\u001b[A\n",
      "dataset_L4_sula_local_moderado_epsg4326.tif windows:  83%|8| 1779/2133 [01:54<00\u001b[A\n",
      "dataset_L4_sula_local_moderado_epsg4326.tif windows:  83%|8| 1781/2133 [01:54<00\u001b[A\n",
      "dataset_L4_sula_local_moderado_epsg4326.tif windows:  84%|8| 1783/2133 [01:54<00\u001b[A\n",
      "dataset_L4_sula_local_moderado_epsg4326.tif windows:  84%|8| 1785/2133 [01:54<00\u001b[A\n",
      "dataset_L4_sula_local_moderado_epsg4326.tif windows:  84%|8| 1787/2133 [01:55<00\u001b[A\n",
      "dataset_L4_sula_local_moderado_epsg4326.tif windows:  84%|8| 1789/2133 [01:55<00\u001b[A\n",
      "dataset_L4_sula_local_moderado_epsg4326.tif windows:  84%|8| 1791/2133 [01:55<00\u001b[A\n",
      "dataset_L4_sula_local_moderado_epsg4326.tif windows:  84%|8| 1793/2133 [01:55<00\u001b[A\n",
      "dataset_L4_sula_local_moderado_epsg4326.tif windows:  84%|8| 1795/2133 [01:55<00\u001b[A\n",
      "dataset_L4_sula_local_moderado_epsg4326.tif windows:  84%|8| 1797/2133 [01:55<00\u001b[A\n",
      "dataset_L4_sula_local_moderado_epsg4326.tif windows:  84%|8| 1799/2133 [01:55<00\u001b[A\n",
      "dataset_L4_sula_local_moderado_epsg4326.tif windows:  84%|8| 1801/2133 [01:55<00\u001b[A\n",
      "dataset_L4_sula_local_moderado_epsg4326.tif windows:  85%|8| 1803/2133 [01:56<00\u001b[A\n",
      "dataset_L4_sula_local_moderado_epsg4326.tif windows:  85%|8| 1805/2133 [01:56<00\u001b[A\n",
      "dataset_L4_sula_local_moderado_epsg4326.tif windows:  85%|8| 1807/2133 [01:56<00\u001b[A\n",
      "dataset_L4_sula_local_moderado_epsg4326.tif windows:  85%|8| 1809/2133 [01:56<00\u001b[A\n",
      "dataset_L4_sula_local_moderado_epsg4326.tif windows:  85%|8| 1811/2133 [01:56<00\u001b[A\n",
      "dataset_L4_sula_local_moderado_epsg4326.tif windows:  85%|8| 1813/2133 [01:56<00\u001b[A\n",
      "dataset_L4_sula_local_moderado_epsg4326.tif windows:  85%|8| 1815/2133 [01:56<00\u001b[A\n",
      "dataset_L4_sula_local_moderado_epsg4326.tif windows:  85%|8| 1817/2133 [01:57<00\u001b[A\n",
      "dataset_L4_sula_local_moderado_epsg4326.tif windows:  85%|8| 1819/2133 [01:57<00\u001b[A\n",
      "dataset_L4_sula_local_moderado_epsg4326.tif windows:  85%|8| 1821/2133 [01:57<00\u001b[A\n",
      "dataset_L4_sula_local_moderado_epsg4326.tif windows:  85%|8| 1823/2133 [01:57<00\u001b[A\n",
      "dataset_L4_sula_local_moderado_epsg4326.tif windows:  86%|8| 1825/2133 [01:57<00\u001b[A\n",
      "dataset_L4_sula_local_moderado_epsg4326.tif windows:  86%|8| 1827/2133 [01:57<00\u001b[A\n",
      "dataset_L4_sula_local_moderado_epsg4326.tif windows:  86%|8| 1829/2133 [01:57<00\u001b[A\n",
      "dataset_L4_sula_local_moderado_epsg4326.tif windows:  86%|8| 1831/2133 [01:57<00\u001b[A\n",
      "dataset_L4_sula_local_moderado_epsg4326.tif windows:  86%|8| 1833/2133 [01:58<00\u001b[A\n",
      "dataset_L4_sula_local_moderado_epsg4326.tif windows:  86%|8| 1835/2133 [01:58<00\u001b[A\n",
      "dataset_L4_sula_local_moderado_epsg4326.tif windows:  86%|8| 1837/2133 [01:58<00\u001b[A\n",
      "dataset_L4_sula_local_moderado_epsg4326.tif windows:  86%|8| 1839/2133 [01:58<00\u001b[A\n",
      "dataset_L4_sula_local_moderado_epsg4326.tif windows:  86%|8| 1841/2133 [01:58<00\u001b[A\n",
      "dataset_L4_sula_local_moderado_epsg4326.tif windows:  86%|8| 1843/2133 [01:58<00\u001b[A\n",
      "dataset_L4_sula_local_moderado_epsg4326.tif windows:  86%|8| 1845/2133 [01:58<00\u001b[A\n",
      "dataset_L4_sula_local_moderado_epsg4326.tif windows:  87%|8| 1847/2133 [01:58<00\u001b[A\n",
      "dataset_L4_sula_local_moderado_epsg4326.tif windows:  87%|8| 1849/2133 [01:59<00\u001b[A\n",
      "dataset_L4_sula_local_moderado_epsg4326.tif windows:  87%|8| 1851/2133 [01:59<00\u001b[A\n",
      "dataset_L4_sula_local_moderado_epsg4326.tif windows:  87%|8| 1853/2133 [01:59<00\u001b[A\n",
      "dataset_L4_sula_local_moderado_epsg4326.tif windows:  87%|8| 1855/2133 [01:59<00\u001b[A\n",
      "dataset_L4_sula_local_moderado_epsg4326.tif windows:  87%|8| 1857/2133 [01:59<00\u001b[A\n",
      "dataset_L4_sula_local_moderado_epsg4326.tif windows:  87%|8| 1859/2133 [01:59<00\u001b[A\n",
      "dataset_L4_sula_local_moderado_epsg4326.tif windows:  87%|8| 1861/2133 [01:59<00\u001b[A\n",
      "dataset_L4_sula_local_moderado_epsg4326.tif windows:  87%|8| 1863/2133 [01:59<00\u001b[A\n",
      "dataset_L4_sula_local_moderado_epsg4326.tif windows:  87%|8| 1865/2133 [02:00<00\u001b[A\n",
      "dataset_L4_sula_local_moderado_epsg4326.tif windows:  88%|8| 1867/2133 [02:00<00\u001b[A\n",
      "dataset_L4_sula_local_moderado_epsg4326.tif windows:  88%|8| 1869/2133 [02:00<00\u001b[A\n",
      "dataset_L4_sula_local_moderado_epsg4326.tif windows:  88%|8| 1871/2133 [02:00<00\u001b[A\n",
      "dataset_L4_sula_local_moderado_epsg4326.tif windows:  88%|8| 1873/2133 [02:00<00\u001b[A\n",
      "dataset_L4_sula_local_moderado_epsg4326.tif windows:  88%|8| 1875/2133 [02:00<00\u001b[A\n",
      "dataset_L4_sula_local_moderado_epsg4326.tif windows:  88%|8| 1877/2133 [02:00<00\u001b[A\n",
      "dataset_L4_sula_local_moderado_epsg4326.tif windows:  88%|8| 1879/2133 [02:01<00\u001b[A\n",
      "dataset_L4_sula_local_moderado_epsg4326.tif windows:  88%|8| 1881/2133 [02:01<00\u001b[A\n",
      "dataset_L4_sula_local_moderado_epsg4326.tif windows:  88%|8| 1883/2133 [02:01<00\u001b[A\n",
      "dataset_L4_sula_local_moderado_epsg4326.tif windows:  88%|8| 1885/2133 [02:01<00\u001b[A\n",
      "dataset_L4_sula_local_moderado_epsg4326.tif windows:  88%|8| 1887/2133 [02:01<00\u001b[A\n",
      "dataset_L4_sula_local_moderado_epsg4326.tif windows:  89%|8| 1889/2133 [02:01<00\u001b[A\n",
      "dataset_L4_sula_local_moderado_epsg4326.tif windows:  89%|8| 1891/2133 [02:01<00\u001b[A\n",
      "dataset_L4_sula_local_moderado_epsg4326.tif windows:  89%|8| 1893/2133 [02:01<00\u001b[A\n",
      "dataset_L4_sula_local_moderado_epsg4326.tif windows:  89%|8| 1895/2133 [02:02<00\u001b[A\n",
      "dataset_L4_sula_local_moderado_epsg4326.tif windows:  89%|8| 1897/2133 [02:02<00\u001b[A\n",
      "dataset_L4_sula_local_moderado_epsg4326.tif windows:  89%|8| 1899/2133 [02:02<00\u001b[A\n",
      "dataset_L4_sula_local_moderado_epsg4326.tif windows:  89%|8| 1901/2133 [02:02<00\u001b[A\n",
      "dataset_L4_sula_local_moderado_epsg4326.tif windows:  89%|8| 1903/2133 [02:02<00\u001b[A\n",
      "dataset_L4_sula_local_moderado_epsg4326.tif windows:  89%|8| 1905/2133 [02:02<00\u001b[A\n",
      "dataset_L4_sula_local_moderado_epsg4326.tif windows:  89%|8| 1907/2133 [02:02<00\u001b[A\n",
      "dataset_L4_sula_local_moderado_epsg4326.tif windows:  89%|8| 1909/2133 [02:02<00\u001b[A\n",
      "dataset_L4_sula_local_moderado_epsg4326.tif windows:  90%|8| 1911/2133 [02:03<00\u001b[A\n",
      "dataset_L4_sula_local_moderado_epsg4326.tif windows:  90%|8| 1913/2133 [02:03<00\u001b[A\n",
      "dataset_L4_sula_local_moderado_epsg4326.tif windows:  90%|8| 1915/2133 [02:03<00\u001b[A\n",
      "dataset_L4_sula_local_moderado_epsg4326.tif windows:  90%|8| 1917/2133 [02:03<00\u001b[A\n",
      "dataset_L4_sula_local_moderado_epsg4326.tif windows:  90%|8| 1919/2133 [02:03<00\u001b[A\n",
      "dataset_L4_sula_local_moderado_epsg4326.tif windows:  90%|9| 1921/2133 [02:03<00\u001b[A\n",
      "dataset_L4_sula_local_moderado_epsg4326.tif windows:  90%|9| 1923/2133 [02:03<00\u001b[A\n",
      "dataset_L4_sula_local_moderado_epsg4326.tif windows:  90%|9| 1925/2133 [02:03<00\u001b[A\n",
      "dataset_L4_sula_local_moderado_epsg4326.tif windows:  90%|9| 1927/2133 [02:04<00\u001b[A\n",
      "dataset_L4_sula_local_moderado_epsg4326.tif windows:  90%|9| 1929/2133 [02:04<00\u001b[A\n",
      "dataset_L4_sula_local_moderado_epsg4326.tif windows:  91%|9| 1931/2133 [02:04<00\u001b[A\n",
      "dataset_L4_sula_local_moderado_epsg4326.tif windows:  91%|9| 1933/2133 [02:04<00\u001b[A\n",
      "dataset_L4_sula_local_moderado_epsg4326.tif windows:  91%|9| 1935/2133 [02:04<00\u001b[A\n",
      "dataset_L4_sula_local_moderado_epsg4326.tif windows:  91%|9| 1937/2133 [02:04<00\u001b[A\n",
      "dataset_L4_sula_local_moderado_epsg4326.tif windows:  91%|9| 1939/2133 [02:04<00\u001b[A\n",
      "dataset_L4_sula_local_moderado_epsg4326.tif windows:  91%|9| 1941/2133 [02:04<00\u001b[A\n",
      "dataset_L4_sula_local_moderado_epsg4326.tif windows:  91%|9| 1943/2133 [02:05<00\u001b[A\n",
      "dataset_L4_sula_local_moderado_epsg4326.tif windows:  91%|9| 1945/2133 [02:05<00\u001b[A\n",
      "dataset_L4_sula_local_moderado_epsg4326.tif windows:  91%|9| 1947/2133 [02:05<00\u001b[A\n",
      "dataset_L4_sula_local_moderado_epsg4326.tif windows:  91%|9| 1949/2133 [02:05<00\u001b[A\n",
      "dataset_L4_sula_local_moderado_epsg4326.tif windows:  91%|9| 1951/2133 [02:05<00\u001b[A\n",
      "dataset_L4_sula_local_moderado_epsg4326.tif windows:  92%|9| 1953/2133 [02:05<00\u001b[A\n",
      "dataset_L4_sula_local_moderado_epsg4326.tif windows:  92%|9| 1955/2133 [02:05<00\u001b[A\n",
      "dataset_L4_sula_local_moderado_epsg4326.tif windows:  92%|9| 1957/2133 [02:05<00\u001b[A\n",
      "dataset_L4_sula_local_moderado_epsg4326.tif windows:  92%|9| 1959/2133 [02:06<00\u001b[A\n",
      "dataset_L4_sula_local_moderado_epsg4326.tif windows:  92%|9| 1961/2133 [02:06<00\u001b[A\n",
      "dataset_L4_sula_local_moderado_epsg4326.tif windows:  92%|9| 1963/2133 [02:06<00\u001b[A\n",
      "dataset_L4_sula_local_moderado_epsg4326.tif windows:  92%|9| 1965/2133 [02:06<00\u001b[A\n",
      "dataset_L4_sula_local_moderado_epsg4326.tif windows:  92%|9| 1967/2133 [02:06<00\u001b[A\n",
      "dataset_L4_sula_local_moderado_epsg4326.tif windows:  92%|9| 1969/2133 [02:06<00\u001b[A\n",
      "dataset_L4_sula_local_moderado_epsg4326.tif windows:  92%|9| 1971/2133 [02:06<00\u001b[A\n",
      "dataset_L4_sula_local_moderado_epsg4326.tif windows:  92%|9| 1973/2133 [02:07<00\u001b[A\n",
      "dataset_L4_sula_local_moderado_epsg4326.tif windows:  93%|9| 1975/2133 [02:07<00\u001b[A\n",
      "dataset_L4_sula_local_moderado_epsg4326.tif windows:  93%|9| 1977/2133 [02:07<00\u001b[A\n",
      "dataset_L4_sula_local_moderado_epsg4326.tif windows:  93%|9| 1979/2133 [02:07<00\u001b[A\n",
      "dataset_L4_sula_local_moderado_epsg4326.tif windows:  93%|9| 1981/2133 [02:07<00\u001b[A\n",
      "dataset_L4_sula_local_moderado_epsg4326.tif windows:  93%|9| 1983/2133 [02:07<00\u001b[A\n",
      "dataset_L4_sula_local_moderado_epsg4326.tif windows:  93%|9| 1985/2133 [02:07<00\u001b[A\n",
      "dataset_L4_sula_local_moderado_epsg4326.tif windows:  93%|9| 1987/2133 [02:07<00\u001b[A\n",
      "dataset_L4_sula_local_moderado_epsg4326.tif windows:  93%|9| 1989/2133 [02:08<00\u001b[A\n",
      "dataset_L4_sula_local_moderado_epsg4326.tif windows:  93%|9| 1991/2133 [02:08<00\u001b[A\n",
      "dataset_L4_sula_local_moderado_epsg4326.tif windows:  93%|9| 1993/2133 [02:08<00\u001b[A\n",
      "dataset_L4_sula_local_moderado_epsg4326.tif windows:  94%|9| 1995/2133 [02:08<00\u001b[A\n",
      "dataset_L4_sula_local_moderado_epsg4326.tif windows:  94%|9| 1997/2133 [02:08<00\u001b[A\n",
      "dataset_L4_sula_local_moderado_epsg4326.tif windows:  94%|9| 1999/2133 [02:08<00\u001b[A\n",
      "dataset_L4_sula_local_moderado_epsg4326.tif windows:  94%|9| 2001/2133 [02:08<00\u001b[A\n",
      "dataset_L4_sula_local_moderado_epsg4326.tif windows:  94%|9| 2003/2133 [02:08<00\u001b[A\n",
      "dataset_L4_sula_local_moderado_epsg4326.tif windows:  94%|9| 2005/2133 [02:09<00\u001b[A\n",
      "dataset_L4_sula_local_moderado_epsg4326.tif windows:  94%|9| 2007/2133 [02:09<00\u001b[A\n",
      "dataset_L4_sula_local_moderado_epsg4326.tif windows:  94%|9| 2009/2133 [02:09<00\u001b[A\n",
      "dataset_L4_sula_local_moderado_epsg4326.tif windows:  94%|9| 2011/2133 [02:09<00\u001b[A\n",
      "dataset_L4_sula_local_moderado_epsg4326.tif windows:  94%|9| 2013/2133 [02:09<00\u001b[A\n",
      "dataset_L4_sula_local_moderado_epsg4326.tif windows:  94%|9| 2015/2133 [02:09<00\u001b[A\n",
      "dataset_L4_sula_local_moderado_epsg4326.tif windows:  95%|9| 2017/2133 [02:09<00\u001b[A\n",
      "dataset_L4_sula_local_moderado_epsg4326.tif windows:  95%|9| 2019/2133 [02:09<00\u001b[A\n",
      "dataset_L4_sula_local_moderado_epsg4326.tif windows:  95%|9| 2021/2133 [02:10<00\u001b[A\n",
      "dataset_L4_sula_local_moderado_epsg4326.tif windows:  95%|9| 2023/2133 [02:10<00\u001b[A\n",
      "dataset_L4_sula_local_moderado_epsg4326.tif windows:  95%|9| 2025/2133 [02:10<00\u001b[A\n",
      "dataset_L4_sula_local_moderado_epsg4326.tif windows:  95%|9| 2027/2133 [02:10<00\u001b[A\n",
      "dataset_L4_sula_local_moderado_epsg4326.tif windows:  95%|9| 2029/2133 [02:10<00\u001b[A\n",
      "dataset_L4_sula_local_moderado_epsg4326.tif windows:  95%|9| 2031/2133 [02:10<00\u001b[A\n",
      "dataset_L4_sula_local_moderado_epsg4326.tif windows:  95%|9| 2033/2133 [02:10<00\u001b[A\n",
      "dataset_L4_sula_local_moderado_epsg4326.tif windows:  95%|9| 2035/2133 [02:11<00\u001b[A\n",
      "dataset_L4_sula_local_moderado_epsg4326.tif windows:  95%|9| 2037/2133 [02:11<00\u001b[A\n",
      "dataset_L4_sula_local_moderado_epsg4326.tif windows:  96%|9| 2039/2133 [02:11<00\u001b[A\n",
      "dataset_L4_sula_local_moderado_epsg4326.tif windows:  96%|9| 2041/2133 [02:11<00\u001b[A\n",
      "dataset_L4_sula_local_moderado_epsg4326.tif windows:  96%|9| 2043/2133 [02:11<00\u001b[A\n",
      "dataset_L4_sula_local_moderado_epsg4326.tif windows:  96%|9| 2045/2133 [02:11<00\u001b[A\n",
      "dataset_L4_sula_local_moderado_epsg4326.tif windows:  96%|9| 2047/2133 [02:11<00\u001b[A\n",
      "dataset_L4_sula_local_moderado_epsg4326.tif windows:  96%|9| 2049/2133 [02:12<00\u001b[A\n",
      "dataset_L4_sula_local_moderado_epsg4326.tif windows:  96%|9| 2051/2133 [02:12<00\u001b[A\n",
      "dataset_L4_sula_local_moderado_epsg4326.tif windows:  96%|9| 2053/2133 [02:12<00\u001b[A\n",
      "dataset_L4_sula_local_moderado_epsg4326.tif windows:  96%|9| 2055/2133 [02:12<00\u001b[A\n",
      "dataset_L4_sula_local_moderado_epsg4326.tif windows:  96%|9| 2057/2133 [02:12<00\u001b[A\n",
      "dataset_L4_sula_local_moderado_epsg4326.tif windows:  97%|9| 2059/2133 [02:12<00\u001b[A\n",
      "dataset_L4_sula_local_moderado_epsg4326.tif windows:  97%|9| 2061/2133 [02:12<00\u001b[A\n",
      "dataset_L4_sula_local_moderado_epsg4326.tif windows:  97%|9| 2063/2133 [02:13<00\u001b[A\n",
      "dataset_L4_sula_local_moderado_epsg4326.tif windows:  97%|9| 2065/2133 [02:13<00\u001b[A\n",
      "dataset_L4_sula_local_moderado_epsg4326.tif windows:  97%|9| 2067/2133 [02:13<00\u001b[A\n",
      "dataset_L4_sula_local_moderado_epsg4326.tif windows:  97%|9| 2069/2133 [02:13<00\u001b[A\n",
      "dataset_L4_sula_local_moderado_epsg4326.tif windows:  97%|9| 2071/2133 [02:13<00\u001b[A\n",
      "dataset_L4_sula_local_moderado_epsg4326.tif windows:  97%|9| 2073/2133 [02:13<00\u001b[A\n",
      "dataset_L4_sula_local_moderado_epsg4326.tif windows:  97%|9| 2075/2133 [02:13<00\u001b[A\n",
      "dataset_L4_sula_local_moderado_epsg4326.tif windows:  97%|9| 2077/2133 [02:13<00\u001b[A\n",
      "dataset_L4_sula_local_moderado_epsg4326.tif windows:  97%|9| 2079/2133 [02:14<00\u001b[A\n",
      "dataset_L4_sula_local_moderado_epsg4326.tif windows:  98%|9| 2081/2133 [02:14<00\u001b[A\n",
      "dataset_L4_sula_local_moderado_epsg4326.tif windows:  98%|9| 2083/2133 [02:14<00\u001b[A\n",
      "dataset_L4_sula_local_moderado_epsg4326.tif windows:  98%|9| 2085/2133 [02:14<00\u001b[A\n",
      "dataset_L4_sula_local_moderado_epsg4326.tif windows:  98%|9| 2087/2133 [02:14<00\u001b[A\n",
      "dataset_L4_sula_local_moderado_epsg4326.tif windows:  98%|9| 2089/2133 [02:14<00\u001b[A\n",
      "dataset_L4_sula_local_moderado_epsg4326.tif windows:  98%|9| 2091/2133 [02:14<00\u001b[A\n",
      "dataset_L4_sula_local_moderado_epsg4326.tif windows:  98%|9| 2093/2133 [02:15<00\u001b[A\n",
      "dataset_L4_sula_local_moderado_epsg4326.tif windows:  98%|9| 2095/2133 [02:15<00\u001b[A\n",
      "dataset_L4_sula_local_moderado_epsg4326.tif windows:  98%|9| 2097/2133 [02:15<00\u001b[A\n",
      "dataset_L4_sula_local_moderado_epsg4326.tif windows:  98%|9| 2099/2133 [02:15<00\u001b[A\n",
      "dataset_L4_sula_local_moderado_epsg4326.tif windows:  98%|9| 2101/2133 [02:15<00\u001b[A\n",
      "dataset_L4_sula_local_moderado_epsg4326.tif windows:  99%|9| 2103/2133 [02:15<00\u001b[A\n",
      "dataset_L4_sula_local_moderado_epsg4326.tif windows:  99%|9| 2105/2133 [02:15<00\u001b[A\n",
      "dataset_L4_sula_local_moderado_epsg4326.tif windows:  99%|9| 2107/2133 [02:15<00\u001b[A\n",
      "dataset_L4_sula_local_moderado_epsg4326.tif windows:  99%|9| 2109/2133 [02:16<00\u001b[A\n",
      "dataset_L4_sula_local_moderado_epsg4326.tif windows:  99%|9| 2111/2133 [02:16<00\u001b[A\n",
      "dataset_L4_sula_local_moderado_epsg4326.tif windows:  99%|9| 2113/2133 [02:16<00\u001b[A\n",
      "dataset_L4_sula_local_moderado_epsg4326.tif windows:  99%|9| 2115/2133 [02:16<00\u001b[A\n",
      "dataset_L4_sula_local_moderado_epsg4326.tif windows:  99%|9| 2117/2133 [02:16<00\u001b[A\n",
      "dataset_L4_sula_local_moderado_epsg4326.tif windows:  99%|9| 2119/2133 [02:16<00\u001b[A\n",
      "dataset_L4_sula_local_moderado_epsg4326.tif windows:  99%|9| 2121/2133 [02:16<00\u001b[A\n",
      "dataset_L4_sula_local_moderado_epsg4326.tif windows: 100%|9| 2123/2133 [02:16<00\u001b[A\n",
      "dataset_L4_sula_local_moderado_epsg4326.tif windows: 100%|9| 2125/2133 [02:17<00\u001b[A\n",
      "dataset_L4_sula_local_moderado_epsg4326.tif windows: 100%|9| 2127/2133 [02:17<00\u001b[A\n",
      "dataset_L4_sula_local_moderado_epsg4326.tif windows: 100%|9| 2129/2133 [02:17<00\u001b[A\n",
      "dataset_L4_sula_local_moderado_epsg4326.tif windows: 100%|9| 2131/2133 [02:17<00\u001b[A\n",
      "dataset_L4_sula_local_moderado_epsg4326.tif windows: 100%|#| 2133/2133 [02:17<00\u001b[A\n",
      "Rasters: 100%|###################################| 1/1 [02:17<00:00, 137.76s/it]\n"
     ]
    }
   ],
   "source": [
    "!satproc_extract_chips \\\n",
    "                $path_to_files \\\n",
    "                -o  $predict_output_folder \\\n",
    "                --size $size \\\n",
    "                --step-size $step_size \\\n",
    "                --aoi $AOI \\\n",
    "                --rescale \\\n",
    "                --rescale-mode percentiles --lower-cut 0 --upper-cut 100"
   ]
  },
  {
   "cell_type": "markdown",
   "metadata": {},
   "source": [
    "## Prediction \n",
    "The prediction configuration is defined. We have to pass the prediction dataset path and the model path."
   ]
  },
  {
   "cell_type": "code",
   "execution_count": 7,
   "metadata": {},
   "outputs": [],
   "source": [
    "predict_config = PredictConfig(\n",
    "                            images_path   = predict_output_folder, # prediction dataset folder\n",
    "                            results_path  = os.path.join(BASE_PATH,'dataset/data_results',ZONE,RESO,VERSION,'SMOOTH',str(size)+\"_\"+str(step_size)), # result dataset folder\n",
    "                            batch_size    = 16,\n",
    "                            model_path    = os.path.join(BASE_PATH,'data/weights',MODEL_NAME),  #  model path\n",
    "                            height        = INPUT_SIZE,\n",
    "                            width         = INPUT_SIZE,\n",
    "                            n_channels    = N_CHANNELS,\n",
    "                            n_classes     = N_CLASSES,\n",
    "                            class_weights = CLASS_WEIGHT)\n"
   ]
  },
  {
   "cell_type": "markdown",
   "metadata": {},
   "source": [
    "Running the prediction process."
   ]
  },
  {
   "cell_type": "code",
   "execution_count": null,
   "metadata": {
    "scrolled": true,
    "tags": []
   },
   "outputs": [
    {
     "name": "stdout",
     "output_type": "stream",
     "text": [
      "Total images to predict (./../dataset/data_predict/SULA/LOCAL/moderado/v1/SMOOTH/256_96_c/images/*.tif): 2133\n",
      "After skipping existing results: 2133\n"
     ]
    },
    {
     "name": "stderr",
     "output_type": "stream",
     "text": [
      "  0%|                                                   | 0/134 [00:00<?, ?it/s]"
     ]
    },
    {
     "name": "stdout",
     "output_type": "stream",
     "text": [
      "1/1 [==============================] - 1s 631ms/step\n"
     ]
    },
    {
     "name": "stderr",
     "output_type": "stream",
     "text": [
      "  1%|▎                                          | 1/134 [00:03<08:37,  3.89s/it]"
     ]
    },
    {
     "name": "stdout",
     "output_type": "stream",
     "text": [
      "1/1 [==============================] - 0s 58ms/step\n"
     ]
    },
    {
     "name": "stderr",
     "output_type": "stream",
     "text": [
      "  1%|▋                                          | 2/134 [00:07<07:49,  3.56s/it]"
     ]
    },
    {
     "name": "stdout",
     "output_type": "stream",
     "text": [
      "1/1 [==============================] - 0s 62ms/step\n"
     ]
    },
    {
     "name": "stderr",
     "output_type": "stream",
     "text": [
      "  2%|▉                                          | 3/134 [00:10<07:33,  3.46s/it]"
     ]
    },
    {
     "name": "stdout",
     "output_type": "stream",
     "text": [
      "1/1 [==============================] - 0s 56ms/step\n"
     ]
    },
    {
     "name": "stderr",
     "output_type": "stream",
     "text": [
      "  3%|█▎                                         | 4/134 [00:13<07:20,  3.39s/it]"
     ]
    },
    {
     "name": "stdout",
     "output_type": "stream",
     "text": [
      "1/1 [==============================] - 0s 58ms/step\n"
     ]
    },
    {
     "name": "stderr",
     "output_type": "stream",
     "text": [
      "  4%|█▌                                         | 5/134 [00:17<07:15,  3.37s/it]"
     ]
    },
    {
     "name": "stdout",
     "output_type": "stream",
     "text": [
      "1/1 [==============================] - 0s 63ms/step\n"
     ]
    },
    {
     "name": "stderr",
     "output_type": "stream",
     "text": [
      "  4%|█▉                                         | 6/134 [00:20<07:12,  3.38s/it]"
     ]
    },
    {
     "name": "stdout",
     "output_type": "stream",
     "text": [
      "1/1 [==============================] - 0s 57ms/step\n"
     ]
    },
    {
     "name": "stderr",
     "output_type": "stream",
     "text": [
      "  5%|██▏                                        | 7/134 [00:23<07:05,  3.35s/it]"
     ]
    },
    {
     "name": "stdout",
     "output_type": "stream",
     "text": [
      "1/1 [==============================] - 0s 57ms/step\n"
     ]
    },
    {
     "name": "stderr",
     "output_type": "stream",
     "text": [
      "  6%|██▌                                        | 8/134 [00:27<07:01,  3.35s/it]"
     ]
    },
    {
     "name": "stdout",
     "output_type": "stream",
     "text": [
      "1/1 [==============================] - 0s 57ms/step\n"
     ]
    },
    {
     "name": "stderr",
     "output_type": "stream",
     "text": [
      "  7%|██▉                                        | 9/134 [00:30<06:59,  3.36s/it]"
     ]
    },
    {
     "name": "stdout",
     "output_type": "stream",
     "text": [
      "1/1 [==============================] - 0s 59ms/step\n"
     ]
    },
    {
     "name": "stderr",
     "output_type": "stream",
     "text": [
      "  7%|███▏                                      | 10/134 [00:33<06:56,  3.36s/it]"
     ]
    },
    {
     "name": "stdout",
     "output_type": "stream",
     "text": [
      "1/1 [==============================] - 0s 58ms/step\n"
     ]
    },
    {
     "name": "stderr",
     "output_type": "stream",
     "text": [
      "  8%|███▍                                      | 11/134 [00:37<06:56,  3.39s/it]"
     ]
    },
    {
     "name": "stdout",
     "output_type": "stream",
     "text": [
      "1/1 [==============================] - 0s 71ms/step\n"
     ]
    },
    {
     "name": "stderr",
     "output_type": "stream",
     "text": [
      "  9%|███▊                                      | 12/134 [00:40<06:55,  3.40s/it]"
     ]
    },
    {
     "name": "stdout",
     "output_type": "stream",
     "text": [
      "1/1 [==============================] - 0s 60ms/step\n"
     ]
    },
    {
     "name": "stderr",
     "output_type": "stream",
     "text": [
      " 10%|████                                      | 13/134 [00:44<06:51,  3.40s/it]"
     ]
    },
    {
     "name": "stdout",
     "output_type": "stream",
     "text": [
      "1/1 [==============================] - 0s 57ms/step\n"
     ]
    },
    {
     "name": "stderr",
     "output_type": "stream",
     "text": [
      " 10%|████▍                                     | 14/134 [00:47<06:45,  3.38s/it]"
     ]
    },
    {
     "name": "stdout",
     "output_type": "stream",
     "text": [
      "1/1 [==============================] - 0s 62ms/step\n"
     ]
    },
    {
     "name": "stderr",
     "output_type": "stream",
     "text": [
      " 11%|████▋                                     | 15/134 [00:50<06:42,  3.38s/it]"
     ]
    },
    {
     "name": "stdout",
     "output_type": "stream",
     "text": [
      "1/1 [==============================] - 0s 57ms/step\n"
     ]
    },
    {
     "name": "stderr",
     "output_type": "stream",
     "text": [
      " 12%|█████                                     | 16/134 [00:54<06:37,  3.37s/it]"
     ]
    },
    {
     "name": "stdout",
     "output_type": "stream",
     "text": [
      "1/1 [==============================] - 0s 58ms/step\n"
     ]
    },
    {
     "name": "stderr",
     "output_type": "stream",
     "text": [
      " 13%|█████▎                                    | 17/134 [00:57<06:33,  3.36s/it]"
     ]
    },
    {
     "name": "stdout",
     "output_type": "stream",
     "text": [
      "1/1 [==============================] - 0s 58ms/step\n"
     ]
    },
    {
     "name": "stderr",
     "output_type": "stream",
     "text": [
      " 13%|█████▋                                    | 18/134 [01:01<06:30,  3.37s/it]"
     ]
    },
    {
     "name": "stdout",
     "output_type": "stream",
     "text": [
      "1/1 [==============================] - 0s 57ms/step\n"
     ]
    },
    {
     "name": "stderr",
     "output_type": "stream",
     "text": [
      " 14%|█████▉                                    | 19/134 [01:04<06:26,  3.36s/it]"
     ]
    },
    {
     "name": "stdout",
     "output_type": "stream",
     "text": [
      "1/1 [==============================] - 0s 58ms/step\n"
     ]
    },
    {
     "name": "stderr",
     "output_type": "stream",
     "text": [
      " 15%|██████▎                                   | 20/134 [01:07<06:22,  3.36s/it]"
     ]
    },
    {
     "name": "stdout",
     "output_type": "stream",
     "text": [
      "1/1 [==============================] - 0s 58ms/step\n"
     ]
    },
    {
     "name": "stderr",
     "output_type": "stream",
     "text": [
      " 16%|██████▌                                   | 21/134 [01:11<06:19,  3.36s/it]"
     ]
    },
    {
     "name": "stdout",
     "output_type": "stream",
     "text": [
      "1/1 [==============================] - 0s 62ms/step\n"
     ]
    },
    {
     "name": "stderr",
     "output_type": "stream",
     "text": [
      " 16%|██████▉                                   | 22/134 [01:14<06:14,  3.34s/it]"
     ]
    },
    {
     "name": "stdout",
     "output_type": "stream",
     "text": [
      "1/1 [==============================] - 0s 58ms/step\n"
     ]
    },
    {
     "name": "stderr",
     "output_type": "stream",
     "text": [
      " 17%|███████▏                                  | 23/134 [01:17<06:10,  3.34s/it]"
     ]
    },
    {
     "name": "stdout",
     "output_type": "stream",
     "text": [
      "1/1 [==============================] - 0s 58ms/step\n"
     ]
    },
    {
     "name": "stderr",
     "output_type": "stream",
     "text": [
      " 18%|███████▌                                  | 24/134 [01:21<06:09,  3.36s/it]"
     ]
    },
    {
     "name": "stdout",
     "output_type": "stream",
     "text": [
      "1/1 [==============================] - 0s 58ms/step\n"
     ]
    },
    {
     "name": "stderr",
     "output_type": "stream",
     "text": [
      " 19%|███████▊                                  | 25/134 [01:24<06:04,  3.34s/it]"
     ]
    },
    {
     "name": "stdout",
     "output_type": "stream",
     "text": [
      "1/1 [==============================] - 0s 58ms/step\n"
     ]
    },
    {
     "name": "stderr",
     "output_type": "stream",
     "text": [
      " 19%|████████▏                                 | 26/134 [01:27<06:01,  3.35s/it]"
     ]
    },
    {
     "name": "stdout",
     "output_type": "stream",
     "text": [
      "1/1 [==============================] - 0s 58ms/step\n"
     ]
    },
    {
     "name": "stderr",
     "output_type": "stream",
     "text": [
      " 20%|████████▍                                 | 27/134 [01:31<05:59,  3.36s/it]"
     ]
    },
    {
     "name": "stdout",
     "output_type": "stream",
     "text": [
      "1/1 [==============================] - 0s 58ms/step\n"
     ]
    },
    {
     "name": "stderr",
     "output_type": "stream",
     "text": [
      " 21%|████████▊                                 | 28/134 [01:34<05:55,  3.36s/it]"
     ]
    },
    {
     "name": "stdout",
     "output_type": "stream",
     "text": [
      "1/1 [==============================] - 0s 58ms/step\n"
     ]
    },
    {
     "name": "stderr",
     "output_type": "stream",
     "text": [
      " 22%|█████████                                 | 29/134 [01:37<05:53,  3.37s/it]"
     ]
    },
    {
     "name": "stdout",
     "output_type": "stream",
     "text": [
      "1/1 [==============================] - 0s 58ms/step\n"
     ]
    },
    {
     "name": "stderr",
     "output_type": "stream",
     "text": [
      " 22%|█████████▍                                | 30/134 [01:41<05:52,  3.39s/it]"
     ]
    },
    {
     "name": "stdout",
     "output_type": "stream",
     "text": [
      "1/1 [==============================] - 0s 58ms/step\n"
     ]
    },
    {
     "name": "stderr",
     "output_type": "stream",
     "text": [
      " 23%|█████████▋                                | 31/134 [01:44<05:47,  3.38s/it]"
     ]
    },
    {
     "name": "stdout",
     "output_type": "stream",
     "text": [
      "1/1 [==============================] - 0s 56ms/step\n"
     ]
    },
    {
     "name": "stderr",
     "output_type": "stream",
     "text": [
      " 24%|██████████                                | 32/134 [01:47<05:41,  3.35s/it]"
     ]
    },
    {
     "name": "stdout",
     "output_type": "stream",
     "text": [
      "1/1 [==============================] - 0s 57ms/step\n"
     ]
    },
    {
     "name": "stderr",
     "output_type": "stream",
     "text": [
      " 25%|██████████▎                               | 33/134 [01:51<05:41,  3.38s/it]"
     ]
    },
    {
     "name": "stdout",
     "output_type": "stream",
     "text": [
      "1/1 [==============================] - 0s 56ms/step\n"
     ]
    },
    {
     "name": "stderr",
     "output_type": "stream",
     "text": [
      " 25%|██████████▋                               | 34/134 [01:54<05:35,  3.36s/it]"
     ]
    },
    {
     "name": "stdout",
     "output_type": "stream",
     "text": [
      "1/1 [==============================] - 0s 59ms/step\n"
     ]
    },
    {
     "name": "stderr",
     "output_type": "stream",
     "text": [
      " 26%|██████████▉                               | 35/134 [01:58<05:30,  3.34s/it]"
     ]
    },
    {
     "name": "stdout",
     "output_type": "stream",
     "text": [
      "1/1 [==============================] - 0s 58ms/step\n"
     ]
    },
    {
     "name": "stderr",
     "output_type": "stream",
     "text": [
      " 27%|███████████▎                              | 36/134 [02:01<05:28,  3.35s/it]"
     ]
    },
    {
     "name": "stdout",
     "output_type": "stream",
     "text": [
      "1/1 [==============================] - 0s 63ms/step\n"
     ]
    },
    {
     "name": "stderr",
     "output_type": "stream",
     "text": [
      " 28%|███████████▌                              | 37/134 [02:04<05:27,  3.37s/it]"
     ]
    },
    {
     "name": "stdout",
     "output_type": "stream",
     "text": [
      "1/1 [==============================] - 0s 60ms/step\n"
     ]
    },
    {
     "name": "stderr",
     "output_type": "stream",
     "text": [
      " 28%|███████████▉                              | 38/134 [02:08<05:22,  3.36s/it]"
     ]
    },
    {
     "name": "stdout",
     "output_type": "stream",
     "text": [
      "1/1 [==============================] - 0s 57ms/step\n"
     ]
    },
    {
     "name": "stderr",
     "output_type": "stream",
     "text": [
      " 29%|████████████▏                             | 39/134 [02:11<05:20,  3.37s/it]"
     ]
    },
    {
     "name": "stdout",
     "output_type": "stream",
     "text": [
      "1/1 [==============================] - 0s 60ms/step\n"
     ]
    },
    {
     "name": "stderr",
     "output_type": "stream",
     "text": [
      " 30%|████████████▌                             | 40/134 [02:14<05:14,  3.35s/it]"
     ]
    },
    {
     "name": "stdout",
     "output_type": "stream",
     "text": [
      "1/1 [==============================] - 0s 59ms/step\n"
     ]
    },
    {
     "name": "stderr",
     "output_type": "stream",
     "text": [
      " 31%|████████████▊                             | 41/134 [02:18<05:11,  3.35s/it]"
     ]
    },
    {
     "name": "stdout",
     "output_type": "stream",
     "text": [
      "1/1 [==============================] - 0s 65ms/step\n"
     ]
    },
    {
     "name": "stderr",
     "output_type": "stream",
     "text": [
      " 31%|█████████████▏                            | 42/134 [02:21<05:08,  3.35s/it]"
     ]
    },
    {
     "name": "stdout",
     "output_type": "stream",
     "text": [
      "1/1 [==============================] - 0s 58ms/step\n"
     ]
    },
    {
     "name": "stderr",
     "output_type": "stream",
     "text": [
      " 32%|█████████████▍                            | 43/134 [02:24<05:04,  3.34s/it]"
     ]
    },
    {
     "name": "stdout",
     "output_type": "stream",
     "text": [
      "1/1 [==============================] - 0s 58ms/step\n"
     ]
    },
    {
     "name": "stderr",
     "output_type": "stream",
     "text": [
      " 33%|█████████████▊                            | 44/134 [02:28<05:00,  3.34s/it]"
     ]
    },
    {
     "name": "stdout",
     "output_type": "stream",
     "text": [
      "1/1 [==============================] - 0s 67ms/step\n"
     ]
    },
    {
     "name": "stderr",
     "output_type": "stream",
     "text": [
      " 34%|██████████████                            | 45/134 [02:31<04:58,  3.36s/it]"
     ]
    },
    {
     "name": "stdout",
     "output_type": "stream",
     "text": [
      "1/1 [==============================] - 0s 58ms/step\n"
     ]
    },
    {
     "name": "stderr",
     "output_type": "stream",
     "text": [
      " 34%|██████████████▍                           | 46/134 [02:35<04:56,  3.37s/it]"
     ]
    },
    {
     "name": "stdout",
     "output_type": "stream",
     "text": [
      "1/1 [==============================] - 0s 58ms/step\n"
     ]
    },
    {
     "name": "stderr",
     "output_type": "stream",
     "text": [
      " 35%|██████████████▋                           | 47/134 [02:38<04:52,  3.36s/it]"
     ]
    },
    {
     "name": "stdout",
     "output_type": "stream",
     "text": [
      "1/1 [==============================] - 0s 66ms/step\n"
     ]
    },
    {
     "name": "stderr",
     "output_type": "stream",
     "text": [
      " 36%|███████████████                           | 48/134 [02:41<04:49,  3.37s/it]"
     ]
    },
    {
     "name": "stdout",
     "output_type": "stream",
     "text": [
      "1/1 [==============================] - 0s 58ms/step\n"
     ]
    },
    {
     "name": "stderr",
     "output_type": "stream",
     "text": [
      " 37%|███████████████▎                          | 49/134 [02:45<04:45,  3.36s/it]"
     ]
    },
    {
     "name": "stdout",
     "output_type": "stream",
     "text": [
      "1/1 [==============================] - 0s 59ms/step\n"
     ]
    },
    {
     "name": "stderr",
     "output_type": "stream",
     "text": [
      " 37%|███████████████▋                          | 50/134 [02:48<04:41,  3.35s/it]"
     ]
    },
    {
     "name": "stdout",
     "output_type": "stream",
     "text": [
      "1/1 [==============================] - 0s 63ms/step\n"
     ]
    },
    {
     "name": "stderr",
     "output_type": "stream",
     "text": [
      " 38%|███████████████▉                          | 51/134 [02:51<04:37,  3.35s/it]"
     ]
    },
    {
     "name": "stdout",
     "output_type": "stream",
     "text": [
      "1/1 [==============================] - 0s 58ms/step\n"
     ]
    },
    {
     "name": "stderr",
     "output_type": "stream",
     "text": [
      " 39%|████████████████▎                         | 52/134 [02:55<04:34,  3.34s/it]"
     ]
    },
    {
     "name": "stdout",
     "output_type": "stream",
     "text": [
      "1/1 [==============================] - 0s 58ms/step\n"
     ]
    },
    {
     "name": "stderr",
     "output_type": "stream",
     "text": [
      " 40%|████████████████▌                         | 53/134 [02:58<04:30,  3.34s/it]"
     ]
    },
    {
     "name": "stdout",
     "output_type": "stream",
     "text": [
      "1/1 [==============================] - 0s 64ms/step\n"
     ]
    },
    {
     "name": "stderr",
     "output_type": "stream",
     "text": [
      " 40%|████████████████▉                         | 54/134 [03:01<04:28,  3.36s/it]"
     ]
    },
    {
     "name": "stdout",
     "output_type": "stream",
     "text": [
      "1/1 [==============================] - 0s 59ms/step\n"
     ]
    },
    {
     "name": "stderr",
     "output_type": "stream",
     "text": [
      " 41%|█████████████████▏                        | 55/134 [03:05<04:24,  3.35s/it]"
     ]
    },
    {
     "name": "stdout",
     "output_type": "stream",
     "text": [
      "1/1 [==============================] - 0s 59ms/step\n"
     ]
    },
    {
     "name": "stderr",
     "output_type": "stream",
     "text": [
      " 42%|█████████████████▌                        | 56/134 [03:08<04:22,  3.37s/it]"
     ]
    },
    {
     "name": "stdout",
     "output_type": "stream",
     "text": [
      "1/1 [==============================] - 0s 57ms/step\n"
     ]
    },
    {
     "name": "stderr",
     "output_type": "stream",
     "text": [
      " 43%|█████████████████▊                        | 57/134 [03:11<04:19,  3.37s/it]"
     ]
    },
    {
     "name": "stdout",
     "output_type": "stream",
     "text": [
      "1/1 [==============================] - 0s 57ms/step\n"
     ]
    },
    {
     "name": "stderr",
     "output_type": "stream",
     "text": [
      " 43%|██████████████████▏                       | 58/134 [03:15<04:14,  3.35s/it]"
     ]
    },
    {
     "name": "stdout",
     "output_type": "stream",
     "text": [
      "1/1 [==============================] - 0s 57ms/step\n"
     ]
    },
    {
     "name": "stderr",
     "output_type": "stream",
     "text": [
      " 44%|██████████████████▍                       | 59/134 [03:18<04:11,  3.35s/it]"
     ]
    },
    {
     "name": "stdout",
     "output_type": "stream",
     "text": [
      "1/1 [==============================] - 0s 58ms/step\n"
     ]
    },
    {
     "name": "stderr",
     "output_type": "stream",
     "text": [
      " 45%|██████████████████▊                       | 60/134 [03:21<04:08,  3.36s/it]"
     ]
    },
    {
     "name": "stdout",
     "output_type": "stream",
     "text": [
      "1/1 [==============================] - 0s 57ms/step\n"
     ]
    },
    {
     "name": "stderr",
     "output_type": "stream",
     "text": [
      " 46%|███████████████████                       | 61/134 [03:25<04:04,  3.35s/it]"
     ]
    },
    {
     "name": "stdout",
     "output_type": "stream",
     "text": [
      "1/1 [==============================] - 0s 58ms/step\n"
     ]
    },
    {
     "name": "stderr",
     "output_type": "stream",
     "text": [
      " 46%|███████████████████▍                      | 62/134 [03:28<04:00,  3.33s/it]"
     ]
    },
    {
     "name": "stdout",
     "output_type": "stream",
     "text": [
      "1/1 [==============================] - 0s 58ms/step\n"
     ]
    },
    {
     "name": "stderr",
     "output_type": "stream",
     "text": [
      " 47%|███████████████████▋                      | 63/134 [03:31<03:57,  3.34s/it]"
     ]
    },
    {
     "name": "stdout",
     "output_type": "stream",
     "text": [
      "1/1 [==============================] - 0s 61ms/step\n"
     ]
    },
    {
     "name": "stderr",
     "output_type": "stream",
     "text": [
      " 48%|████████████████████                      | 64/134 [03:35<03:54,  3.35s/it]"
     ]
    },
    {
     "name": "stdout",
     "output_type": "stream",
     "text": [
      "1/1 [==============================] - 0s 59ms/step\n"
     ]
    },
    {
     "name": "stderr",
     "output_type": "stream",
     "text": [
      " 49%|████████████████████▎                     | 65/134 [03:38<03:52,  3.37s/it]"
     ]
    },
    {
     "name": "stdout",
     "output_type": "stream",
     "text": [
      "1/1 [==============================] - 0s 57ms/step\n"
     ]
    },
    {
     "name": "stderr",
     "output_type": "stream",
     "text": [
      " 49%|████████████████████▋                     | 66/134 [03:42<03:49,  3.38s/it]"
     ]
    },
    {
     "name": "stdout",
     "output_type": "stream",
     "text": [
      "1/1 [==============================] - 0s 66ms/step\n"
     ]
    },
    {
     "name": "stderr",
     "output_type": "stream",
     "text": [
      " 50%|█████████████████████                     | 67/134 [03:45<03:45,  3.37s/it]"
     ]
    },
    {
     "name": "stdout",
     "output_type": "stream",
     "text": [
      "1/1 [==============================] - 0s 57ms/step\n"
     ]
    },
    {
     "name": "stderr",
     "output_type": "stream",
     "text": [
      " 51%|█████████████████████▎                    | 68/134 [03:48<03:42,  3.36s/it]"
     ]
    },
    {
     "name": "stdout",
     "output_type": "stream",
     "text": [
      "1/1 [==============================] - 0s 59ms/step\n"
     ]
    },
    {
     "name": "stderr",
     "output_type": "stream",
     "text": [
      " 51%|█████████████████████▋                    | 69/134 [03:52<03:39,  3.37s/it]"
     ]
    },
    {
     "name": "stdout",
     "output_type": "stream",
     "text": [
      "1/1 [==============================] - 0s 62ms/step\n"
     ]
    },
    {
     "name": "stderr",
     "output_type": "stream",
     "text": [
      " 52%|█████████████████████▉                    | 70/134 [03:55<03:35,  3.37s/it]"
     ]
    },
    {
     "name": "stdout",
     "output_type": "stream",
     "text": [
      "1/1 [==============================] - 0s 58ms/step\n"
     ]
    },
    {
     "name": "stderr",
     "output_type": "stream",
     "text": [
      " 53%|██████████████████████▎                   | 71/134 [03:58<03:32,  3.37s/it]"
     ]
    },
    {
     "name": "stdout",
     "output_type": "stream",
     "text": [
      "1/1 [==============================] - 0s 65ms/step\n"
     ]
    },
    {
     "name": "stderr",
     "output_type": "stream",
     "text": [
      " 54%|██████████████████████▌                   | 72/134 [04:02<03:30,  3.39s/it]"
     ]
    },
    {
     "name": "stdout",
     "output_type": "stream",
     "text": [
      "1/1 [==============================] - 0s 58ms/step\n"
     ]
    },
    {
     "name": "stderr",
     "output_type": "stream",
     "text": [
      " 54%|██████████████████████▉                   | 73/134 [04:05<03:26,  3.38s/it]"
     ]
    },
    {
     "name": "stdout",
     "output_type": "stream",
     "text": [
      "1/1 [==============================] - 0s 58ms/step\n"
     ]
    },
    {
     "name": "stderr",
     "output_type": "stream",
     "text": [
      " 55%|███████████████████████▏                  | 74/134 [04:09<03:22,  3.37s/it]"
     ]
    },
    {
     "name": "stdout",
     "output_type": "stream",
     "text": [
      "1/1 [==============================] - 0s 58ms/step\n"
     ]
    },
    {
     "name": "stderr",
     "output_type": "stream",
     "text": [
      " 56%|███████████████████████▌                  | 75/134 [04:12<03:19,  3.38s/it]"
     ]
    },
    {
     "name": "stdout",
     "output_type": "stream",
     "text": [
      "1/1 [==============================] - 0s 58ms/step\n"
     ]
    },
    {
     "name": "stderr",
     "output_type": "stream",
     "text": [
      " 57%|███████████████████████▊                  | 76/134 [04:15<03:15,  3.37s/it]"
     ]
    },
    {
     "name": "stdout",
     "output_type": "stream",
     "text": [
      "1/1 [==============================] - 0s 59ms/step\n"
     ]
    },
    {
     "name": "stderr",
     "output_type": "stream",
     "text": [
      " 57%|████████████████████████▏                 | 77/134 [04:19<03:11,  3.36s/it]"
     ]
    },
    {
     "name": "stdout",
     "output_type": "stream",
     "text": [
      "1/1 [==============================] - 0s 57ms/step\n"
     ]
    },
    {
     "name": "stderr",
     "output_type": "stream",
     "text": [
      " 58%|████████████████████████▍                 | 78/134 [04:22<03:08,  3.37s/it]"
     ]
    },
    {
     "name": "stdout",
     "output_type": "stream",
     "text": [
      "1/1 [==============================] - 0s 58ms/step\n"
     ]
    },
    {
     "name": "stderr",
     "output_type": "stream",
     "text": [
      " 59%|████████████████████████▊                 | 79/134 [04:25<03:04,  3.36s/it]"
     ]
    },
    {
     "name": "stdout",
     "output_type": "stream",
     "text": [
      "1/1 [==============================] - 0s 57ms/step\n"
     ]
    },
    {
     "name": "stderr",
     "output_type": "stream",
     "text": [
      " 60%|█████████████████████████                 | 80/134 [04:29<03:00,  3.34s/it]"
     ]
    },
    {
     "name": "stdout",
     "output_type": "stream",
     "text": [
      "1/1 [==============================] - 0s 60ms/step\n"
     ]
    },
    {
     "name": "stderr",
     "output_type": "stream",
     "text": [
      " 60%|█████████████████████████▍                | 81/134 [04:32<02:57,  3.35s/it]"
     ]
    },
    {
     "name": "stdout",
     "output_type": "stream",
     "text": [
      "1/1 [==============================] - 0s 58ms/step\n"
     ]
    },
    {
     "name": "stderr",
     "output_type": "stream",
     "text": [
      " 61%|█████████████████████████▋                | 82/134 [04:35<02:55,  3.37s/it]"
     ]
    },
    {
     "name": "stdout",
     "output_type": "stream",
     "text": [
      "1/1 [==============================] - 0s 56ms/step\n"
     ]
    },
    {
     "name": "stderr",
     "output_type": "stream",
     "text": [
      " 62%|██████████████████████████                | 83/134 [04:39<02:52,  3.38s/it]"
     ]
    },
    {
     "name": "stdout",
     "output_type": "stream",
     "text": [
      "1/1 [==============================] - 0s 62ms/step\n"
     ]
    },
    {
     "name": "stderr",
     "output_type": "stream",
     "text": [
      " 63%|██████████████████████████▎               | 84/134 [04:42<02:49,  3.40s/it]"
     ]
    },
    {
     "name": "stdout",
     "output_type": "stream",
     "text": [
      "1/1 [==============================] - 0s 66ms/step\n"
     ]
    },
    {
     "name": "stderr",
     "output_type": "stream",
     "text": [
      " 63%|██████████████████████████▋               | 85/134 [04:46<02:45,  3.39s/it]"
     ]
    },
    {
     "name": "stdout",
     "output_type": "stream",
     "text": [
      "1/1 [==============================] - 0s 61ms/step\n"
     ]
    },
    {
     "name": "stderr",
     "output_type": "stream",
     "text": [
      " 64%|██████████████████████████▉               | 86/134 [04:49<02:41,  3.37s/it]"
     ]
    },
    {
     "name": "stdout",
     "output_type": "stream",
     "text": [
      "1/1 [==============================] - 0s 59ms/step\n"
     ]
    },
    {
     "name": "stderr",
     "output_type": "stream",
     "text": [
      " 65%|███████████████████████████▎              | 87/134 [04:52<02:38,  3.38s/it]"
     ]
    },
    {
     "name": "stdout",
     "output_type": "stream",
     "text": [
      "1/1 [==============================] - 0s 57ms/step\n"
     ]
    },
    {
     "name": "stderr",
     "output_type": "stream",
     "text": [
      " 66%|███████████████████████████▌              | 88/134 [04:56<02:35,  3.37s/it]"
     ]
    },
    {
     "name": "stdout",
     "output_type": "stream",
     "text": [
      "1/1 [==============================] - 0s 57ms/step\n"
     ]
    },
    {
     "name": "stderr",
     "output_type": "stream",
     "text": [
      " 66%|███████████████████████████▉              | 89/134 [04:59<02:30,  3.35s/it]"
     ]
    },
    {
     "name": "stdout",
     "output_type": "stream",
     "text": [
      "1/1 [==============================] - 0s 58ms/step\n"
     ]
    },
    {
     "name": "stderr",
     "output_type": "stream",
     "text": [
      " 67%|████████████████████████████▏             | 90/134 [05:02<02:28,  3.37s/it]"
     ]
    },
    {
     "name": "stdout",
     "output_type": "stream",
     "text": [
      "1/1 [==============================] - 0s 56ms/step\n"
     ]
    },
    {
     "name": "stderr",
     "output_type": "stream",
     "text": [
      " 68%|████████████████████████████▌             | 91/134 [05:06<02:24,  3.35s/it]"
     ]
    },
    {
     "name": "stdout",
     "output_type": "stream",
     "text": [
      "1/1 [==============================] - 0s 58ms/step\n"
     ]
    },
    {
     "name": "stderr",
     "output_type": "stream",
     "text": [
      " 69%|████████████████████████████▊             | 92/134 [05:09<02:20,  3.36s/it]"
     ]
    },
    {
     "name": "stdout",
     "output_type": "stream",
     "text": [
      "1/1 [==============================] - 0s 58ms/step\n"
     ]
    },
    {
     "name": "stderr",
     "output_type": "stream",
     "text": [
      " 69%|█████████████████████████████▏            | 93/134 [05:13<02:18,  3.37s/it]"
     ]
    },
    {
     "name": "stdout",
     "output_type": "stream",
     "text": [
      "1/1 [==============================] - 0s 59ms/step\n"
     ]
    },
    {
     "name": "stderr",
     "output_type": "stream",
     "text": [
      " 70%|█████████████████████████████▍            | 94/134 [05:16<02:14,  3.35s/it]"
     ]
    },
    {
     "name": "stdout",
     "output_type": "stream",
     "text": [
      "1/1 [==============================] - 0s 57ms/step\n"
     ]
    },
    {
     "name": "stderr",
     "output_type": "stream",
     "text": [
      " 71%|█████████████████████████████▊            | 95/134 [05:19<02:10,  3.36s/it]"
     ]
    },
    {
     "name": "stdout",
     "output_type": "stream",
     "text": [
      "1/1 [==============================] - 0s 59ms/step\n"
     ]
    },
    {
     "name": "stderr",
     "output_type": "stream",
     "text": [
      " 72%|██████████████████████████████            | 96/134 [05:23<02:07,  3.36s/it]"
     ]
    },
    {
     "name": "stdout",
     "output_type": "stream",
     "text": [
      "1/1 [==============================] - 0s 59ms/step\n"
     ]
    },
    {
     "name": "stderr",
     "output_type": "stream",
     "text": [
      " 72%|██████████████████████████████▍           | 97/134 [05:26<02:03,  3.34s/it]"
     ]
    },
    {
     "name": "stdout",
     "output_type": "stream",
     "text": [
      "1/1 [==============================] - 0s 57ms/step\n"
     ]
    },
    {
     "name": "stderr",
     "output_type": "stream",
     "text": [
      " 73%|██████████████████████████████▋           | 98/134 [05:29<02:00,  3.34s/it]"
     ]
    },
    {
     "name": "stdout",
     "output_type": "stream",
     "text": [
      "1/1 [==============================] - 0s 59ms/step\n"
     ]
    },
    {
     "name": "stderr",
     "output_type": "stream",
     "text": [
      " 74%|███████████████████████████████           | 99/134 [05:33<01:56,  3.34s/it]"
     ]
    },
    {
     "name": "stdout",
     "output_type": "stream",
     "text": [
      "1/1 [==============================] - 0s 61ms/step\n"
     ]
    },
    {
     "name": "stderr",
     "output_type": "stream",
     "text": [
      " 75%|██████████████████████████████▌          | 100/134 [05:36<01:53,  3.34s/it]"
     ]
    },
    {
     "name": "stdout",
     "output_type": "stream",
     "text": [
      "1/1 [==============================] - 0s 58ms/step\n"
     ]
    },
    {
     "name": "stderr",
     "output_type": "stream",
     "text": [
      " 75%|██████████████████████████████▉          | 101/134 [05:39<01:50,  3.34s/it]"
     ]
    },
    {
     "name": "stdout",
     "output_type": "stream",
     "text": [
      "1/1 [==============================] - 0s 58ms/step\n"
     ]
    },
    {
     "name": "stderr",
     "output_type": "stream",
     "text": [
      " 76%|███████████████████████████████▏         | 102/134 [05:43<01:47,  3.37s/it]"
     ]
    },
    {
     "name": "stdout",
     "output_type": "stream",
     "text": [
      "1/1 [==============================] - 0s 60ms/step\n"
     ]
    },
    {
     "name": "stderr",
     "output_type": "stream",
     "text": [
      " 77%|███████████████████████████████▌         | 103/134 [05:46<01:44,  3.36s/it]"
     ]
    },
    {
     "name": "stdout",
     "output_type": "stream",
     "text": [
      "1/1 [==============================] - 0s 62ms/step\n"
     ]
    },
    {
     "name": "stderr",
     "output_type": "stream",
     "text": [
      " 78%|███████████████████████████████▊         | 104/134 [05:49<01:40,  3.36s/it]"
     ]
    },
    {
     "name": "stdout",
     "output_type": "stream",
     "text": [
      "1/1 [==============================] - 0s 58ms/step\n"
     ]
    },
    {
     "name": "stderr",
     "output_type": "stream",
     "text": [
      " 78%|████████████████████████████████▏        | 105/134 [05:53<01:37,  3.36s/it]"
     ]
    },
    {
     "name": "stdout",
     "output_type": "stream",
     "text": [
      "1/1 [==============================] - 0s 58ms/step\n"
     ]
    },
    {
     "name": "stderr",
     "output_type": "stream",
     "text": [
      " 79%|████████████████████████████████▍        | 106/134 [05:56<01:33,  3.36s/it]"
     ]
    },
    {
     "name": "stdout",
     "output_type": "stream",
     "text": [
      "1/1 [==============================] - 0s 56ms/step\n"
     ]
    },
    {
     "name": "stderr",
     "output_type": "stream",
     "text": [
      " 80%|████████████████████████████████▋        | 107/134 [06:00<01:30,  3.37s/it]"
     ]
    },
    {
     "name": "stdout",
     "output_type": "stream",
     "text": [
      "1/1 [==============================] - 0s 57ms/step\n"
     ]
    },
    {
     "name": "stderr",
     "output_type": "stream",
     "text": [
      " 81%|█████████████████████████████████        | 108/134 [06:03<01:27,  3.36s/it]"
     ]
    },
    {
     "name": "stdout",
     "output_type": "stream",
     "text": [
      "1/1 [==============================] - 0s 58ms/step\n"
     ]
    },
    {
     "name": "stderr",
     "output_type": "stream",
     "text": [
      " 81%|█████████████████████████████████▎       | 109/134 [06:06<01:23,  3.35s/it]"
     ]
    },
    {
     "name": "stdout",
     "output_type": "stream",
     "text": [
      "1/1 [==============================] - 0s 59ms/step\n"
     ]
    },
    {
     "name": "stderr",
     "output_type": "stream",
     "text": [
      " 82%|█████████████████████████████████▋       | 110/134 [06:10<01:20,  3.36s/it]"
     ]
    },
    {
     "name": "stdout",
     "output_type": "stream",
     "text": [
      "1/1 [==============================] - 0s 57ms/step\n"
     ]
    },
    {
     "name": "stderr",
     "output_type": "stream",
     "text": [
      " 83%|█████████████████████████████████▉       | 111/134 [06:13<01:16,  3.35s/it]"
     ]
    },
    {
     "name": "stdout",
     "output_type": "stream",
     "text": [
      "1/1 [==============================] - 0s 56ms/step\n"
     ]
    },
    {
     "name": "stderr",
     "output_type": "stream",
     "text": [
      " 84%|██████████████████████████████████▎      | 112/134 [06:16<01:13,  3.35s/it]"
     ]
    },
    {
     "name": "stdout",
     "output_type": "stream",
     "text": [
      "1/1 [==============================] - 0s 57ms/step\n"
     ]
    },
    {
     "name": "stderr",
     "output_type": "stream",
     "text": [
      " 84%|██████████████████████████████████▌      | 113/134 [06:20<01:10,  3.36s/it]"
     ]
    },
    {
     "name": "stdout",
     "output_type": "stream",
     "text": [
      "1/1 [==============================] - 0s 58ms/step\n"
     ]
    },
    {
     "name": "stderr",
     "output_type": "stream",
     "text": [
      " 85%|██████████████████████████████████▉      | 114/134 [06:23<01:07,  3.36s/it]"
     ]
    },
    {
     "name": "stdout",
     "output_type": "stream",
     "text": [
      "1/1 [==============================] - 0s 58ms/step\n"
     ]
    },
    {
     "name": "stderr",
     "output_type": "stream",
     "text": [
      " 86%|███████████████████████████████████▏     | 115/134 [06:26<01:03,  3.36s/it]"
     ]
    },
    {
     "name": "stdout",
     "output_type": "stream",
     "text": [
      "1/1 [==============================] - 0s 60ms/step\n"
     ]
    },
    {
     "name": "stderr",
     "output_type": "stream",
     "text": [
      " 87%|███████████████████████████████████▍     | 116/134 [06:30<01:00,  3.38s/it]"
     ]
    },
    {
     "name": "stdout",
     "output_type": "stream",
     "text": [
      "1/1 [==============================] - 0s 59ms/step\n"
     ]
    },
    {
     "name": "stderr",
     "output_type": "stream",
     "text": [
      " 87%|███████████████████████████████████▊     | 117/134 [06:33<00:57,  3.36s/it]"
     ]
    },
    {
     "name": "stdout",
     "output_type": "stream",
     "text": [
      "1/1 [==============================] - 0s 60ms/step\n"
     ]
    }
   ],
   "source": [
    "predict(predict_config)  # Ejecuta la predicción"
   ]
  },
  {
   "cell_type": "markdown",
   "metadata": {},
   "source": [
    "## Smoothing\n",
    "To obtain a better visualization we use the *satproc_smooth_stitch* and s*atproc_spatial_filter* tools. The first one merges and smooths overlaped chips generated by the prediction. The second, applies a circular kernel that reduces and filters the low probability values in the boundaries."
   ]
  },
  {
   "cell_type": "code",
   "execution_count": 12,
   "metadata": {},
   "outputs": [
    {
     "name": "stdout",
     "output_type": "stream",
     "text": [
      "Smooth chips: 100%|#########################| 2133/2133 [01:31<00:00, 23.38it/s]\n",
      "Build bounds R-Tree index: 100%|###########| 2133/2133 [00:03<00:00, 659.36it/s]\n",
      "Merge chips: 100%|############################| 341/341 [01:26<00:00,  3.94it/s]\n"
     ]
    }
   ],
   "source": [
    "output=os.path.join(f'./../dataset/data_results/{ZONE}/{RESO}/{EVENTO}/{VERSION}/SMOOTH','256_96_c','output')\n",
    "!satproc_smooth_stitch './../dataset/data_results/SULA/LOCAL/moderado/v1/SMOOTH/256_96_c/' -o $output"
   ]
  },
  {
   "cell_type": "markdown",
   "metadata": {},
   "source": [
    "**SMOOTH FILTER**"
   ]
  },
  {
   "cell_type": "code",
   "execution_count": 13,
   "metadata": {},
   "outputs": [
    {
     "name": "stdout",
     "output_type": "stream",
     "text": [
      "[2022-10-18 13:51:08] INFO:satproc.console.spatial_filter:Num. input files: 341\n",
      "[2022-10-18 13:51:08] INFO:satproc.postprocess.spatial_filter:Merge input images into a virtual raster /tmp/tmp1uh1icnb/merged.vrt\n",
      "Apply filter:   0%|                                       | 0/1 [00:00<?, ?it/s][2022-10-18 13:51:10] INFO:rasterio._env:GDAL signalled an error: err_no=4, msg='./../dataset/data_results/SULA/LOCAL/moderado/v1/SMOOTH/landuse_SULA_LOCAL_moderado_v1_256_96_smooth_filter271_c.tif: No such file or directory'\n",
      "Apply filter: 100%|###############################| 1/1 [00:15<00:00, 15.54s/it]\n"
     ]
    }
   ],
   "source": [
    "filt_output=f'./../dataset/data_results/{ZONE}/{RESO}/{EVENTO}/{VERSION}/SMOOTH/landuse_{ZONE}_{RESO}_{EVENTO}_{VERSION}_{str(SIZE)}_{str(step_size)}_smooth_filter271_c.tif'\n",
    "!satproc_spatial_filter -v --input-dir './../dataset/data_results/SULA/LOCAL/moderado/v1/SMOOTH/256_96_c/output/' --size 271 -o $filt_output"
   ]
  },
  {
   "cell_type": "markdown",
   "metadata": {},
   "source": [
    "#  Post processing for Tegucigalpa\n",
    "\n",
    "In this stage, we aplied the following post proccessing method to the Tegucigalpa prediction results:\n",
    "\n",
    "* Class assignation to Tegucigalpa cadastre file according to the prediction results\n",
    "* Average value assignation to Tegucigalpa cadastre file according to the prediction results\n"
   ]
  },
  {
   "cell_type": "code",
   "execution_count": 2,
   "metadata": {},
   "outputs": [],
   "source": [
    "#This function gets the max probability value among all the classes for each pixel \n",
    "def get_correct_prop(mask_prob):\n",
    "    \n",
    "    clase = 'o' # otros\n",
    "    \n",
    "    #match the prediccion and the mask\n",
    "    matched = dict([('AP' , mask_prob[0,:,:].sum()),\n",
    "                    ('C' , mask_prob[1,:,:].sum()),\n",
    "                    ('CH' , mask_prob[2,:,:].sum()),\n",
    "                    ('PZ' , mask_prob[3,:,:].sum()),\n",
    "                    ('R1' , mask_prob[4,:,:].sum()),\n",
    "                    ('R2' , mask_prob[5,:,:].sum()),\n",
    "                    ('R3' , mask_prob[6,:,:].sum()),\n",
    "                    ('R4' , mask_prob[7,:,:].sum()),\n",
    "                    ('R5' , mask_prob[8,:,:].sum()),\n",
    "                    ('UR' , mask_prob[9,:,:].sum()),\n",
    "                    ('ZD' , mask_prob[10,:,:].sum()),\n",
    "                    ('ZG' , mask_prob[11,:,:].sum())\n",
    "                    ])\n",
    "    \n",
    "    sorted_ = sorted(matched.items(), key=operator.itemgetter(1))\n",
    "\n",
    "    max_probs = sorted_[11]\n",
    "    \n",
    "    if max_probs[1] != 0:\n",
    "    \n",
    "        clase = max_probs[0]\n",
    "    \n",
    "    return clase"
   ]
  },
  {
   "cell_type": "code",
   "execution_count": 3,
   "metadata": {},
   "outputs": [],
   "source": [
    "def get_shape(feat):\n",
    "    try:\n",
    "        return shape(feat['geometry'])\n",
    "    except Exception:\n",
    "        print(\"Invalid geometry in feature:\", feat)\n",
    "        return None"
   ]
  },
  {
   "cell_type": "code",
   "execution_count": 4,
   "metadata": {},
   "outputs": [],
   "source": [
    "with fiona.open(\"./../data/shp/gt/TEGUCIGALPA/catastro_tegu_id.geojson\") as src_catastro: #polygons file\n",
    "    feats_and_shapes = [(f, get_shape(f)) for f in src_catastro]\n",
    "    \n",
    "# List of (feature, shape)\n",
    "feats_and_shapes = [(f, s) for f, s in feats_and_shapes if s]\n",
    "# Dictionary of classes by feature id\n",
    "classes_by_feat = {}"
   ]
  },
  {
   "cell_type": "code",
   "execution_count": 5,
   "metadata": {},
   "outputs": [],
   "source": [
    "def shape_mask(dataset, shapes):\n",
    "    shape_mask, transform, window = raster_geometry_mask(dataset, shapes)\n",
    "    return shape_mask"
   ]
  },
  {
   "cell_type": "code",
   "execution_count": 12,
   "metadata": {
    "tags": []
   },
   "outputs": [
    {
     "name": "stderr",
     "output_type": "stream",
     "text": [
      "100%|█████████████████████████████████████████| 120/120 [00:31<00:00,  3.78it/s]\n"
     ]
    }
   ],
   "source": [
    "#H = 15\n",
    "\n",
    "images = [os.path.basename(f) for f in sorted(glob(os.path.join('./../dataset/data_results/TEGUCIGALPA/LOCAL/v1/SMOOTH/256_100/output2/*.tif')))] # smoothed results images\n",
    "\n",
    "#images = images[:H] \n",
    "#images = random.sample(images, H)\n",
    "\n",
    "for img_file in tqdm(images):\n",
    "    with rasterio.open(os.path.join('./../dataset/data_results/TEGUCIGALPA/LOCAL/v1/SMOOTH/256_100/output2', img_file)) as src_prob: # smoothed result images\n",
    "        window = box(*src_prob.bounds)   \n",
    "        win_feat_shapes = [(f, s) for f, s in feats_and_shapes if s.intersects(window)]\n",
    "       \n",
    "        \n",
    "        out_mask = np.zeros(src_prob.shape,dtype=np.uint8) \n",
    "        \n",
    "        for feat, win_shape in win_feat_shapes:\n",
    "                      \n",
    "            prob_matched = src_prob.read()\n",
    "            shape_mask, transform, window = raster_geometry_mask(src_prob, [win_shape])\n",
    "\n",
    "            prob_matched = prob_matched.astype(float)\n",
    "            prob_matched[:,shape_mask] = -1\n",
    "          \n",
    "            clase = get_correct_prop(prob_matched)\n",
    "            \n",
    "         \n",
    "            \n",
    "            # Add to class list for current feature\n",
    "            if feat['id'] not in classes_by_feat:\n",
    "                classes_by_feat[feat['id']] = []\n",
    "            classes_by_feat[feat['id']].append(clase)\n"
   ]
  },
  {
   "cell_type": "code",
   "execution_count": 13,
   "metadata": {},
   "outputs": [],
   "source": [
    "#This function creates a vector file with the Cadastre file polygons and the classes assigned according to the results\n",
    "def create_new_catastro_shapefile(*, orig_path, dst_path, classes_by_feat):\n",
    "    # create the output file path if it doesnt exist\n",
    "    os.makedirs(dst_path, exist_ok=True)\n",
    "    dst_p = dst_path+ '/L4_TEGU_final_test_local.geojson'\n",
    "    # open original shp file\n",
    "    with fiona.open(orig_path) as src:\n",
    "  \n",
    "        schema = src.schema.copy()\n",
    "        schema['properties']['clase'] = 'str:3'\n",
    "\n",
    "        #creates the destination geojson file with an extra column \n",
    "        with fiona.open(dst_p,\n",
    "                        'w',\n",
    "                        driver='GeoJSON',\n",
    "                        crs=src.crs,\n",
    "                        schema=src.schema) as dst:\n",
    "            # Run over each line (or road) of the original shp file \n",
    "            for feat in tqdm(src):\n",
    "                feat = feat.copy()\n",
    "                if feat['id'] in classes_by_feat:\n",
    "                    classes = classes_by_feat[feat['id']]\n",
    "             \n",
    "                    result = stats.mode(classes).mode[0]\n",
    "                    \n",
    "                else:\n",
    "                    result = '?'\n",
    "                feat['properties']['clase'] = result\n",
    "                dst.write(feat)\n",
    "\n",
    "    return dst_path"
   ]
  },
  {
   "cell_type": "code",
   "execution_count": 14,
   "metadata": {},
   "outputs": [
    {
     "name": "stderr",
     "output_type": "stream",
     "text": [
      "100%|██████████████████████████████████████| 2060/2060 [00:07<00:00, 281.10it/s]\n"
     ]
    },
    {
     "data": {
      "text/plain": [
       "'./../dataset/data_results/TEGUCIGALPA/LOCAL/v1/SMOOTH/'"
      ]
     },
     "execution_count": 14,
     "metadata": {},
     "output_type": "execute_result"
    }
   ],
   "source": [
    "original_shp_file = os.path.join(\"./../data/shp/gt/TEGUCIGALPA/catastro_tegu_id.geojson\") #Tegucigalpa cadastre file\n",
    "dst_path = os.path.join('./../dataset/data_results/TEGUCIGALPA/LOCAL/v1/SMOOTH/')\n",
    "\n",
    "create_new_catastro_shapefile(orig_path=original_shp_file, dst_path=dst_path, classes_by_feat=classes_by_feat)"
   ]
  }
 ],
 "metadata": {
  "colab": {
   "authorship_tag": "ABX9TyNKlws8+6PcuvJrSWdSmTxJ",
   "include_colab_link": true,
   "name": "2 - Entrenamiento",
   "provenance": []
  },
  "kernelspec": {
   "display_name": "Python 3 (ipykernel)",
   "language": "python",
   "name": "python3"
  },
  "language_info": {
   "codemirror_mode": {
    "name": "ipython",
    "version": 3
   },
   "file_extension": ".py",
   "mimetype": "text/x-python",
   "name": "python",
   "nbconvert_exporter": "python",
   "pygments_lexer": "ipython3",
   "version": "3.9.11"
  },
  "toc": {
   "base_numbering": 1,
   "nav_menu": {},
   "number_sections": true,
   "sideBar": true,
   "skip_h1_title": false,
   "title_cell": "Table of Contents",
   "title_sidebar": "Contents",
   "toc_cell": false,
   "toc_position": {},
   "toc_section_display": true,
   "toc_window_display": false
  }
 },
 "nbformat": 4,
 "nbformat_minor": 4
}
